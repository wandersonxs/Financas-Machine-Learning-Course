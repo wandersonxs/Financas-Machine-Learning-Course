{
  "nbformat": 4,
  "nbformat_minor": 0,
  "metadata": {
    "colab": {
      "provenance": [],
      "include_colab_link": true
    },
    "kernelspec": {
      "name": "python3",
      "display_name": "Python 3"
    }
  },
  "cells": [
    {
      "cell_type": "markdown",
      "metadata": {
        "id": "view-in-github",
        "colab_type": "text"
      },
      "source": [
        "<a href=\"https://colab.research.google.com/github/wandersonxs/Financas-Machine-Learning-Course/blob/main/Manipula%C3%A7%C3%A3o_de_vari%C3%A1veis_e_constantes.ipynb\" target=\"_parent\"><img src=\"https://colab.research.google.com/assets/colab-badge.svg\" alt=\"Open In Colab\"/></a>"
      ]
    },
    {
      "cell_type": "markdown",
      "metadata": {
        "id": "V8QjcFa6R5y2"
      },
      "source": [
        "# Manipulação de variáveis e constantes"
      ]
    },
    {
      "cell_type": "markdown",
      "metadata": {
        "id": "vpSo8ozVTLCo"
      },
      "source": [
        "## Variáveis e constantes\n",
        "\n",
        "- Por meio de variáveis que um algortimo “guarda” os dados do problema\n",
        "- Todo dado que tem a possibilidade de ser alterado no decorrer do tempo deverá ser tratado como uma variável\n",
        "- Quando um dado não tem nenhuma possibilidade de variar no decorrer do tempo, deverá ser tratado como constante\n",
        "\n",
        "Exemplo: calcular a área de um triângulo. Sabemos que a fórmula para o cálculo da área de um triângulo é BASE * ALTURA / 2. **Base** e **altura** são dados que irão variar no decorrer do “tempo de execução”. O número 2 da fórmula é um dado constante, pois sempre terá o mesmo valor\n",
        "\n",
        "## Tipo de variáveis\n",
        "\n",
        "- Inteiros: valores positivos ou negativos, que não possuem uma parte fracionária. Exemplos: 1, 30, 40, 12, -50\n",
        "- Float (real): valores positivos ou negativos, que podem possuir uma parte fracionária (também podem ser inteiros). Exemplos: 1.4, 6.7, 10.3, 100, -47\n",
        "- Caracteres (char ou string): qualquer elemento presente no teclado. Exemplos: “Maria”, “João”, ‘M’, ‘F’\n",
        "- Lógico (boleano): verdadeiro ou falso. Exemplos: true, false, 1, 0"
      ]
    },
    {
      "cell_type": "markdown",
      "metadata": {
        "id": "dJuQ83faR_Pc"
      },
      "source": [
        "## Variáveis inteiras"
      ]
    },
    {
      "cell_type": "code",
      "metadata": {
        "id": "AlNS5Ngsm_dB"
      },
      "source": [
        "numero = -3\n",
        "numero_jogos = 14\n",
        "numero_convidados = 15"
      ],
      "execution_count": null,
      "outputs": []
    },
    {
      "cell_type": "code",
      "metadata": {
        "id": "h11ASYEknOD1",
        "colab": {
          "base_uri": "https://localhost:8080/",
          "height": 176
        },
        "outputId": "b0e52cce-73af-42c7-8858-894093e3c90c"
      },
      "source": [
        "numero"
      ],
      "execution_count": null,
      "outputs": [
        {
          "output_type": "error",
          "ename": "NameError",
          "evalue": "name 'numero' is not defined",
          "traceback": [
            "\u001b[0;31m---------------------------------------------------------------------------\u001b[0m",
            "\u001b[0;31mNameError\u001b[0m                                 Traceback (most recent call last)",
            "\u001b[0;32m<ipython-input-1-5e3ead709b23>\u001b[0m in \u001b[0;36m<cell line: 1>\u001b[0;34m()\u001b[0m\n\u001b[0;32m----> 1\u001b[0;31m \u001b[0mnumero\u001b[0m\u001b[0;34m\u001b[0m\u001b[0;34m\u001b[0m\u001b[0m\n\u001b[0m",
            "\u001b[0;31mNameError\u001b[0m: name 'numero' is not defined"
          ]
        }
      ]
    },
    {
      "cell_type": "code",
      "metadata": {
        "id": "c8kmjtIinQNi",
        "colab": {
          "base_uri": "https://localhost:8080/"
        },
        "outputId": "64d0a232-654f-40c8-8b68-35aaa16fc417"
      },
      "source": [
        "print(numero)"
      ],
      "execution_count": null,
      "outputs": [
        {
          "output_type": "stream",
          "name": "stdout",
          "text": [
            "-3\n"
          ]
        }
      ]
    },
    {
      "cell_type": "code",
      "metadata": {
        "id": "KP0Wt0yynY7b",
        "colab": {
          "base_uri": "https://localhost:8080/",
          "height": 34
        },
        "outputId": "485cae45-969d-48a3-f4e8-86be9db7c1e7"
      },
      "source": [
        "print(numero, numero_convidados)"
      ],
      "execution_count": null,
      "outputs": [
        {
          "output_type": "stream",
          "text": [
            "-3 15\n"
          ],
          "name": "stdout"
        }
      ]
    },
    {
      "cell_type": "markdown",
      "metadata": {
        "id": "JhCsz7fBSQ8E"
      },
      "source": [
        "## Variáveis float (ponto flutuante)"
      ]
    },
    {
      "cell_type": "code",
      "metadata": {
        "id": "wNQq80punev_"
      },
      "source": [
        "pi = 3.14\n",
        "numero_euler = 2.71\n",
        "escala_terremoto = -4.55"
      ],
      "execution_count": null,
      "outputs": []
    },
    {
      "cell_type": "code",
      "metadata": {
        "id": "yusfNXQ2nmCv",
        "colab": {
          "base_uri": "https://localhost:8080/",
          "height": 67
        },
        "outputId": "99da22fc-eb8c-4e13-a8ee-7e1f2d699130"
      },
      "source": [
        "print(pi)\n",
        "print(numero_euler)\n",
        "print(escala_terremoto)"
      ],
      "execution_count": null,
      "outputs": [
        {
          "output_type": "stream",
          "text": [
            "3.14\n",
            "2.71\n",
            "-4.55\n"
          ],
          "name": "stdout"
        }
      ]
    },
    {
      "cell_type": "markdown",
      "metadata": {
        "id": "fCiZKeOFSwig"
      },
      "source": [
        "## Strings e chars"
      ]
    },
    {
      "cell_type": "code",
      "metadata": {
        "id": "yvccp63ZnvEZ"
      },
      "source": [
        "letra = 'a'\n",
        "palavra1 = 'linguagem de programação'\n",
        "palavra2 = 'Python'"
      ],
      "execution_count": null,
      "outputs": []
    },
    {
      "cell_type": "code",
      "metadata": {
        "id": "AwZul8K-n3L-",
        "colab": {
          "base_uri": "https://localhost:8080/",
          "height": 34
        },
        "outputId": "dbb0fd0e-d82e-493a-91b7-0bab8f344335"
      },
      "source": [
        "print(letra, palavra1)"
      ],
      "execution_count": null,
      "outputs": [
        {
          "output_type": "stream",
          "text": [
            "a linguagem de programação\n"
          ],
          "name": "stdout"
        }
      ]
    },
    {
      "cell_type": "code",
      "metadata": {
        "id": "DnEKLamYn7Vw",
        "colab": {
          "base_uri": "https://localhost:8080/",
          "height": 34
        },
        "outputId": "f64e92ce-b909-4bbf-9439-ecf5b7215768"
      },
      "source": [
        "print('Estou aprendendo uma', palavra1)"
      ],
      "execution_count": null,
      "outputs": [
        {
          "output_type": "stream",
          "text": [
            "Estou aprendendo uma linguagem de programação\n"
          ],
          "name": "stdout"
        }
      ]
    },
    {
      "cell_type": "code",
      "metadata": {
        "id": "07uhcWXEoGHs",
        "colab": {
          "base_uri": "https://localhost:8080/",
          "height": 34
        },
        "outputId": "35a9e0b5-4fa0-4f7b-abeb-5c29c8c12c69"
      },
      "source": [
        "print('Esta', palavra1, 'se chama', palavra2)"
      ],
      "execution_count": null,
      "outputs": [
        {
          "output_type": "stream",
          "text": [
            "Esta linguagem de programação se chama Python\n"
          ],
          "name": "stdout"
        }
      ]
    },
    {
      "cell_type": "code",
      "metadata": {
        "id": "QbO7XNY3oQKk",
        "colab": {
          "base_uri": "https://localhost:8080/",
          "height": 211
        },
        "outputId": "a6faa1ac-75e8-48bc-de05-fa93ffa11fe0"
      },
      "source": [
        "idade = int(input('Digite sua idade:'))\n",
        "print('Sua idade é ', idade)"
      ],
      "execution_count": null,
      "outputs": [
        {
          "name": "stdout",
          "output_type": "stream",
          "text": [
            "Digite sua idade:WXS\n"
          ]
        },
        {
          "output_type": "error",
          "ename": "ValueError",
          "evalue": "invalid literal for int() with base 10: 'WXS'",
          "traceback": [
            "\u001b[0;31m---------------------------------------------------------------------------\u001b[0m",
            "\u001b[0;31mValueError\u001b[0m                                Traceback (most recent call last)",
            "\u001b[0;32m<ipython-input-5-9e7cebb53e9c>\u001b[0m in \u001b[0;36m<cell line: 1>\u001b[0;34m()\u001b[0m\n\u001b[0;32m----> 1\u001b[0;31m \u001b[0midade\u001b[0m \u001b[0;34m=\u001b[0m \u001b[0mint\u001b[0m\u001b[0;34m(\u001b[0m\u001b[0minput\u001b[0m\u001b[0;34m(\u001b[0m\u001b[0;34m'Digite sua idade:'\u001b[0m\u001b[0;34m)\u001b[0m\u001b[0;34m)\u001b[0m\u001b[0;34m\u001b[0m\u001b[0;34m\u001b[0m\u001b[0m\n\u001b[0m\u001b[1;32m      2\u001b[0m \u001b[0mprint\u001b[0m\u001b[0;34m(\u001b[0m\u001b[0;34m'Sua idade é '\u001b[0m\u001b[0;34m,\u001b[0m \u001b[0midade\u001b[0m\u001b[0;34m)\u001b[0m\u001b[0;34m\u001b[0m\u001b[0;34m\u001b[0m\u001b[0m\n",
            "\u001b[0;31mValueError\u001b[0m: invalid literal for int() with base 10: 'WXS'"
          ]
        }
      ]
    },
    {
      "cell_type": "code",
      "metadata": {
        "id": "4Bmhcm_sogXZ",
        "colab": {
          "base_uri": "https://localhost:8080/",
          "height": 50
        },
        "outputId": "63336622-46d6-4314-adbd-4b0c709ba4a7"
      },
      "source": [
        "pH = float(input('Qual o pH do solo durante a última medição?'))\n",
        "print('O pH medido foi ', pH)"
      ],
      "execution_count": null,
      "outputs": [
        {
          "output_type": "stream",
          "text": [
            "Qual o pH do solo durante a última medição?2.5\n",
            "O pH medido foi  2.5\n"
          ],
          "name": "stdout"
        }
      ]
    },
    {
      "cell_type": "code",
      "metadata": {
        "id": "TWKEPsOHosFh",
        "colab": {
          "base_uri": "https://localhost:8080/"
        },
        "outputId": "7aa61e5f-fd16-4964-a0da-71b77c7ea4cc"
      },
      "source": [
        "nome = str(input('Qual o seu nome?'))\n",
        "print('Seu nome é', nome)"
      ],
      "execution_count": null,
      "outputs": [
        {
          "output_type": "stream",
          "name": "stdout",
          "text": [
            "Qual o seu nome?WXS\n",
            "Seu nome é WXS\n"
          ]
        }
      ]
    },
    {
      "cell_type": "code",
      "metadata": {
        "id": "WS0kaS_jo5c2",
        "colab": {
          "base_uri": "https://localhost:8080/",
          "height": 34
        },
        "outputId": "705e3741-49c4-419f-9579-159f74f0cd87"
      },
      "source": [
        "idade"
      ],
      "execution_count": null,
      "outputs": [
        {
          "output_type": "execute_result",
          "data": {
            "text/plain": [
              "21"
            ]
          },
          "metadata": {
            "tags": []
          },
          "execution_count": 16
        }
      ]
    }
  ]
}