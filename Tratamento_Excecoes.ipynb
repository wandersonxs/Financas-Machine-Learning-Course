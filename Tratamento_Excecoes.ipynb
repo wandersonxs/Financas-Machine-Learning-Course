{
 "cells": [
  {
   "cell_type": "code",
   "execution_count": 4,
   "id": "initial_id",
   "metadata": {
    "collapsed": true,
    "ExecuteTime": {
     "end_time": "2024-01-11T01:59:18.702235Z",
     "start_time": "2024-01-11T01:59:15.120289Z"
    }
   },
   "outputs": [
    {
     "name": "stdout",
     "output_type": "stream",
     "text": [
      "ValueError : Valor inválido\n"
     ]
    }
   ],
   "source": [
    "lista = []\n",
    "\n",
    "try:\n",
    "    valor1 = float(input('Digite o primeiro'))\n",
    "    valor2 = float(input('Digite o segundo'))\n",
    "\n",
    "    resultado = valor1 / valor2\n",
    "except ZeroDivisionError:\n",
    "    print(\"ZeroDivisionError : Erro ao dividir por zero\")\n",
    "except ValueError:\n",
    "    print(\"ValueError : Valor inválido\")\n",
    "except IndexError:\n",
    "    print(\"IndexError : Índice inválido\")\n",
    "except KeyboardInterrupt:\n",
    "    print(\"Keyboard Interrupt\")\n",
    "else:\n",
    "    print(f\"O resultado é {resultado}\")"
   ]
  },
  {
   "cell_type": "code",
   "outputs": [],
   "source": [],
   "metadata": {
    "collapsed": false
   },
   "id": "c8ede91781d022c3"
  }
 ],
 "metadata": {
  "kernelspec": {
   "display_name": "Python 3",
   "language": "python",
   "name": "python3"
  },
  "language_info": {
   "codemirror_mode": {
    "name": "ipython",
    "version": 2
   },
   "file_extension": ".py",
   "mimetype": "text/x-python",
   "name": "python",
   "nbconvert_exporter": "python",
   "pygments_lexer": "ipython2",
   "version": "2.7.6"
  }
 },
 "nbformat": 4,
 "nbformat_minor": 5
}
