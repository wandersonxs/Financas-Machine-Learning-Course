{
 "cells": [
  {
   "cell_type": "markdown",
   "metadata": {},
   "source": [
    "Olá!\n",
    "\n",
    "Para revisar o conteúdo prático visto até agora, você agora pode resolver dois exercícios. Logo em seguida você pode acessar a aula em vídeo com a solução\n",
    "\n",
    "1 - Ler dois números inteiros, executar e mostrar o resultado das seguintes operações: adição, subtração, multiplicação e divisão"
   ]
  },
  {
   "cell_type": "code",
   "execution_count": 4,
   "metadata": {},
   "outputs": [
    {
     "name": "stdout",
     "output_type": "stream",
     "text": [
      "Valor variável a = 20; Valor variável b = 10 \n",
      "Soma a + b = 30\n",
      "Subtração a - b = 10\n",
      "Multiplicação a * b = 200\n",
      "Divisão a / b = 2.0\n"
     ]
    }
   ],
   "source": [
    "a = int(input(\"Entre com um número:\"))\n",
    "b = int(input(\"Entre com um número:\"))\n",
    "\n",
    "print(f'Valor variável a = {a}; Valor variável b = {b} ')\n",
    "\n",
    "print(f'Soma a + b = {a + b}')\n",
    "print(f'Subtração a - b = {a - b}')\n",
    "print(f'Multiplicação a * b = {a * b}')\n",
    "print(f'Divisão a / b =', a / b)"
   ]
  },
  {
   "cell_type": "markdown",
   "metadata": {},
   "source": [
    "2 - Efetuar o cálculo da quantidade de litros de combustível gasto em uma viagem, utilizando um automóvel que faz 12 Km por litro. Para obter o cálculo, o usuário deve fornecer o tempo gasto na viagem e a velocidade média durante ela. Desta forma, será possível obter a distância percorrida com a fórmula DISTANCIA = TEMPO * VELOCIDADE. Tendo o valor da distância, basta calcular a quantidade de litros de combustível utilizada na viagem, com a fórmula: LITROS_USADOS = DISTANCIA / 12. O programa deve apresentar os valores da velocidade média, tempo gasto na viagem, a distância percorrida e a quantidade de litros utilizada na viagem"
   ]
  },
  {
   "cell_type": "code",
   "execution_count": 10,
   "metadata": {},
   "outputs": [
    {
     "name": "stdout",
     "output_type": "stream",
     "text": [
      "Velocidade média: 80.0\n",
      "Tempo gasto de Viagem : 2.0\n",
      "Distância de Viagem : 160.0\n",
      "Quantidade de Litros: 13.3\n"
     ]
    }
   ],
   "source": [
    "tempo = float(input(\"Tempo viagem:\"))\n",
    "velocidade = float(input(\"Velocidade viagem:\"))\n",
    "\n",
    "distancia = tempo * velocidade\n",
    "litros_usados = distancia / 12\n",
    "\n",
    "print('Velocidade média:',velocidade)\n",
    "print('Tempo gasto de Viagem :', tempo)\n",
    "print('Distância de Viagem :', distancia)\n",
    "print('Quantidade de Litros:', round(litros_usados,1))\n",
    "\n"
   ]
  }
 ],
 "metadata": {
  "kernelspec": {
   "display_name": "teste_python",
   "language": "python",
   "name": "python3"
  },
  "language_info": {
   "codemirror_mode": {
    "name": "ipython",
    "version": 3
   },
   "file_extension": ".py",
   "mimetype": "text/x-python",
   "name": "python",
   "nbconvert_exporter": "python",
   "pygments_lexer": "ipython3",
   "version": "3.11.7"
  }
 },
 "nbformat": 4,
 "nbformat_minor": 2
}
