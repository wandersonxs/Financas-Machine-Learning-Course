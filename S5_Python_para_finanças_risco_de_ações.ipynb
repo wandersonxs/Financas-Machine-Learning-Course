{
 "nbformat": 4,
 "nbformat_minor": 0,
 "metadata": {
  "colab": {
   "provenance": [],
   "collapsed_sections": [
    "xUnpCyZqFERv",
    "RAAWBxf3GMKV",
    "MAEA6W5lqAeu"
   ],
   "include_colab_link": true
  },
  "kernelspec": {
   "name": "python3",
   "language": "python",
   "display_name": "Python 3 (ipykernel)"
  }
 },
 "cells": [
  {
   "cell_type": "markdown",
   "metadata": {
    "id": "view-in-github",
    "colab_type": "text"
   },
   "source": [
    "<a href=\"https://colab.research.google.com/github/wandersonxs/Financas-Machine-Learning-Course/blob/main/S5_Python_para_finan%C3%A7as_risco_de_a%C3%A7%C3%B5es.ipynb\" target=\"_parent\"><img src=\"https://colab.research.google.com/assets/colab-badge.svg\" alt=\"Open In Colab\"/></a>"
   ]
  },
  {
   "cell_type": "markdown",
   "metadata": {
    "id": "Bgg_AisGjfoy"
   },
   "source": [
    "# Python para finanças - risco de ações"
   ]
  },
  {
   "cell_type": "markdown",
   "metadata": {
    "id": "x7M2Np1bji4T"
   },
   "source": [
    "## Importação das bibliotecas e base de dados"
   ]
  },
  {
   "cell_type": "code",
   "metadata": {
    "id": "WgwxIUe5XG42",
    "ExecuteTime": {
     "end_time": "2024-01-17T17:49:47.593260Z",
     "start_time": "2024-01-17T17:49:47.587586Z"
    }
   },
   "source": [
    "import pandas as pd\n",
    "import numpy as np\n",
    "import math\n",
    "import matplotlib.pyplot as plt\n",
    "import seaborn as sns\n",
    "from scipy import stats"
   ],
   "execution_count": 1,
   "outputs": []
  },
  {
   "cell_type": "code",
   "metadata": {
    "colab": {
     "base_uri": "https://localhost:8080/",
     "height": 447
    },
    "id": "Bk2jXqp4BlZo",
    "outputId": "3cd3ac6e-b7f8-48ff-e9bd-90b1e4614ad0",
    "ExecuteTime": {
     "end_time": "2024-01-17T17:49:49.714904Z",
     "start_time": "2024-01-17T17:49:49.687015Z"
    }
   },
   "source": [
    "dataset = pd.read_csv('acoes.csv')\n",
    "dataset"
   ],
   "execution_count": 2,
   "outputs": [
    {
     "data": {
      "text/plain": "            Date      AMBEV  ODONTOPREV       VIVO  PETROBRAS  \\\n0     2020-01-02  19.200001   17.010000  48.240002  30.700001   \n1     2020-01-03  18.930000   17.219999  48.799999  30.450001   \n2     2020-01-06  19.020000   17.090000  48.330002  30.809999   \n3     2020-01-07  19.059999   16.650000  49.400002  30.690001   \n4     2020-01-08  18.969999   16.700001  49.900002  30.500000   \n...          ...        ...         ...        ...        ...   \n998   2024-01-09  13.620000   11.850000  50.230000  38.099998   \n999   2024-01-10  13.760000   11.980000  50.619999  37.750000   \n1000  2024-01-11  13.560000   11.960000  50.340000  38.070000   \n1001  2024-01-12  13.590000   12.000000  50.770000  38.169998   \n1002  2024-01-15  13.590000   11.950000  50.730000  38.560001   \n\n      BANCO DO BRASIL        BOVA  \n0           53.799999  114.239998  \n1           53.709999  113.800003  \n2           53.000000  112.589996  \n3           52.599998  112.239998  \n4           52.119999  111.949997  \n...               ...         ...  \n998         54.520000  127.589996  \n999         54.430000  126.940002  \n1000        54.799999  126.809998  \n1001        55.119999  127.230003  \n1002        56.009998  127.669998  \n\n[1003 rows x 7 columns]",
      "text/html": "<div>\n<style scoped>\n    .dataframe tbody tr th:only-of-type {\n        vertical-align: middle;\n    }\n\n    .dataframe tbody tr th {\n        vertical-align: top;\n    }\n\n    .dataframe thead th {\n        text-align: right;\n    }\n</style>\n<table border=\"1\" class=\"dataframe\">\n  <thead>\n    <tr style=\"text-align: right;\">\n      <th></th>\n      <th>Date</th>\n      <th>AMBEV</th>\n      <th>ODONTOPREV</th>\n      <th>VIVO</th>\n      <th>PETROBRAS</th>\n      <th>BANCO DO BRASIL</th>\n      <th>BOVA</th>\n    </tr>\n  </thead>\n  <tbody>\n    <tr>\n      <th>0</th>\n      <td>2020-01-02</td>\n      <td>19.200001</td>\n      <td>17.010000</td>\n      <td>48.240002</td>\n      <td>30.700001</td>\n      <td>53.799999</td>\n      <td>114.239998</td>\n    </tr>\n    <tr>\n      <th>1</th>\n      <td>2020-01-03</td>\n      <td>18.930000</td>\n      <td>17.219999</td>\n      <td>48.799999</td>\n      <td>30.450001</td>\n      <td>53.709999</td>\n      <td>113.800003</td>\n    </tr>\n    <tr>\n      <th>2</th>\n      <td>2020-01-06</td>\n      <td>19.020000</td>\n      <td>17.090000</td>\n      <td>48.330002</td>\n      <td>30.809999</td>\n      <td>53.000000</td>\n      <td>112.589996</td>\n    </tr>\n    <tr>\n      <th>3</th>\n      <td>2020-01-07</td>\n      <td>19.059999</td>\n      <td>16.650000</td>\n      <td>49.400002</td>\n      <td>30.690001</td>\n      <td>52.599998</td>\n      <td>112.239998</td>\n    </tr>\n    <tr>\n      <th>4</th>\n      <td>2020-01-08</td>\n      <td>18.969999</td>\n      <td>16.700001</td>\n      <td>49.900002</td>\n      <td>30.500000</td>\n      <td>52.119999</td>\n      <td>111.949997</td>\n    </tr>\n    <tr>\n      <th>...</th>\n      <td>...</td>\n      <td>...</td>\n      <td>...</td>\n      <td>...</td>\n      <td>...</td>\n      <td>...</td>\n      <td>...</td>\n    </tr>\n    <tr>\n      <th>998</th>\n      <td>2024-01-09</td>\n      <td>13.620000</td>\n      <td>11.850000</td>\n      <td>50.230000</td>\n      <td>38.099998</td>\n      <td>54.520000</td>\n      <td>127.589996</td>\n    </tr>\n    <tr>\n      <th>999</th>\n      <td>2024-01-10</td>\n      <td>13.760000</td>\n      <td>11.980000</td>\n      <td>50.619999</td>\n      <td>37.750000</td>\n      <td>54.430000</td>\n      <td>126.940002</td>\n    </tr>\n    <tr>\n      <th>1000</th>\n      <td>2024-01-11</td>\n      <td>13.560000</td>\n      <td>11.960000</td>\n      <td>50.340000</td>\n      <td>38.070000</td>\n      <td>54.799999</td>\n      <td>126.809998</td>\n    </tr>\n    <tr>\n      <th>1001</th>\n      <td>2024-01-12</td>\n      <td>13.590000</td>\n      <td>12.000000</td>\n      <td>50.770000</td>\n      <td>38.169998</td>\n      <td>55.119999</td>\n      <td>127.230003</td>\n    </tr>\n    <tr>\n      <th>1002</th>\n      <td>2024-01-15</td>\n      <td>13.590000</td>\n      <td>11.950000</td>\n      <td>50.730000</td>\n      <td>38.560001</td>\n      <td>56.009998</td>\n      <td>127.669998</td>\n    </tr>\n  </tbody>\n</table>\n<p>1003 rows × 7 columns</p>\n</div>"
     },
     "execution_count": 2,
     "metadata": {},
     "output_type": "execute_result"
    }
   ]
  },
  {
   "cell_type": "code",
   "metadata": {
    "colab": {
     "base_uri": "https://localhost:8080/",
     "height": 323
    },
    "id": "SxnQkBVhcVvf",
    "outputId": "97b44c5d-361a-49e4-a59e-b91592bbc82e",
    "ExecuteTime": {
     "end_time": "2024-01-17T17:50:32.576375Z",
     "start_time": "2024-01-17T17:50:32.539537Z"
    }
   },
   "source": [
    "dataset.describe()"
   ],
   "execution_count": 3,
   "outputs": [
    {
     "data": {
      "text/plain": "             AMBEV   ODONTOPREV         VIVO    PETROBRAS  BANCO DO BRASIL  \\\ncount  1003.000000  1003.000000  1003.000000  1003.000000      1003.000000   \nmean     14.805494    12.226640    45.646171    27.496969        37.168345   \nstd       1.592240     2.022891     4.372464     5.052255         7.351430   \nmin      11.030000     8.130000    35.660000    11.290000        22.129999   \n25%      13.715000    10.805000    42.155001    23.905000        31.790001   \n50%      14.700000    12.330000    45.279999    27.850000        34.750000   \n75%      15.590000    13.330000    49.225000    30.850000        41.725000   \nmax      19.600000    18.430000    56.740002    38.959999        56.009998   \n\n              BOVA  \ncount  1003.000000  \nmean    106.154128  \nstd      11.306421  \nmin      61.139999  \n25%     100.204998  \n50%     107.720001  \n75%     113.630001  \nmax     130.389999  ",
      "text/html": "<div>\n<style scoped>\n    .dataframe tbody tr th:only-of-type {\n        vertical-align: middle;\n    }\n\n    .dataframe tbody tr th {\n        vertical-align: top;\n    }\n\n    .dataframe thead th {\n        text-align: right;\n    }\n</style>\n<table border=\"1\" class=\"dataframe\">\n  <thead>\n    <tr style=\"text-align: right;\">\n      <th></th>\n      <th>AMBEV</th>\n      <th>ODONTOPREV</th>\n      <th>VIVO</th>\n      <th>PETROBRAS</th>\n      <th>BANCO DO BRASIL</th>\n      <th>BOVA</th>\n    </tr>\n  </thead>\n  <tbody>\n    <tr>\n      <th>count</th>\n      <td>1003.000000</td>\n      <td>1003.000000</td>\n      <td>1003.000000</td>\n      <td>1003.000000</td>\n      <td>1003.000000</td>\n      <td>1003.000000</td>\n    </tr>\n    <tr>\n      <th>mean</th>\n      <td>14.805494</td>\n      <td>12.226640</td>\n      <td>45.646171</td>\n      <td>27.496969</td>\n      <td>37.168345</td>\n      <td>106.154128</td>\n    </tr>\n    <tr>\n      <th>std</th>\n      <td>1.592240</td>\n      <td>2.022891</td>\n      <td>4.372464</td>\n      <td>5.052255</td>\n      <td>7.351430</td>\n      <td>11.306421</td>\n    </tr>\n    <tr>\n      <th>min</th>\n      <td>11.030000</td>\n      <td>8.130000</td>\n      <td>35.660000</td>\n      <td>11.290000</td>\n      <td>22.129999</td>\n      <td>61.139999</td>\n    </tr>\n    <tr>\n      <th>25%</th>\n      <td>13.715000</td>\n      <td>10.805000</td>\n      <td>42.155001</td>\n      <td>23.905000</td>\n      <td>31.790001</td>\n      <td>100.204998</td>\n    </tr>\n    <tr>\n      <th>50%</th>\n      <td>14.700000</td>\n      <td>12.330000</td>\n      <td>45.279999</td>\n      <td>27.850000</td>\n      <td>34.750000</td>\n      <td>107.720001</td>\n    </tr>\n    <tr>\n      <th>75%</th>\n      <td>15.590000</td>\n      <td>13.330000</td>\n      <td>49.225000</td>\n      <td>30.850000</td>\n      <td>41.725000</td>\n      <td>113.630001</td>\n    </tr>\n    <tr>\n      <th>max</th>\n      <td>19.600000</td>\n      <td>18.430000</td>\n      <td>56.740002</td>\n      <td>38.959999</td>\n      <td>56.009998</td>\n      <td>130.389999</td>\n    </tr>\n  </tbody>\n</table>\n</div>"
     },
     "execution_count": 3,
     "metadata": {},
     "output_type": "execute_result"
    }
   ]
  },
  {
   "cell_type": "markdown",
   "metadata": {
    "id": "p4HqYENwJOwP"
   },
   "source": [
    "## Cálculo dos retornos anuais"
   ]
  },
  {
   "cell_type": "markdown",
   "metadata": {
    "id": "Whmrp519DLVC"
   },
   "source": [
    "### 2020"
   ]
  },
  {
   "cell_type": "code",
   "metadata": {
    "colab": {
     "base_uri": "https://localhost:8080/"
    },
    "id": "C4t39-TGcKbL",
    "outputId": "c714137d-c89f-43cb-c2a2-64c46f09f07b",
    "ExecuteTime": {
     "end_time": "2024-01-17T18:12:07.442218Z",
     "start_time": "2024-01-17T18:12:07.419333Z"
    }
   },
   "source": [
    "# dataset.head(248)\n",
    "dataset['AMBEV'][dataset['Date'] == '2020-01-02'], dataset['AMBEV'][dataset['Date'] == '2020-12-30']"
   ],
   "execution_count": 10,
   "outputs": [
    {
     "data": {
      "text/plain": "(0    19.200001\n Name: AMBEV, dtype: float64,\n 247    15.65\n Name: AMBEV, dtype: float64)"
     },
     "execution_count": 10,
     "metadata": {},
     "output_type": "execute_result"
    }
   ]
  },
  {
   "cell_type": "code",
   "metadata": {
    "colab": {
     "base_uri": "https://localhost:8080/"
    },
    "id": "K84oFZN_dtU9",
    "outputId": "f02dd864-ea23-4ea0-9490-89c795bda392",
    "ExecuteTime": {
     "end_time": "2024-01-17T18:22:07.749136Z",
     "start_time": "2024-01-17T18:22:07.732255Z"
    }
   },
   "source": [
    "np.log(15.65 / 19.20) * 100"
   ],
   "execution_count": 23,
   "outputs": [
    {
     "data": {
      "text/plain": "-20.443936204757353"
     },
     "execution_count": 23,
     "metadata": {},
     "output_type": "execute_result"
    }
   ]
  },
  {
   "cell_type": "code",
   "metadata": {
    "colab": {
     "base_uri": "https://localhost:8080/"
    },
    "id": "zgnFy-O7d7al",
    "outputId": "b78c306d-07f7-4412-d660-d2b340cdc00d",
    "ExecuteTime": {
     "end_time": "2024-01-17T18:14:53.132891Z",
     "start_time": "2024-01-17T18:14:53.119415Z"
    }
   },
   "source": [
    "dataset['ODONTOPREV'][dataset['Date'] == '2020-01-02'], dataset['ODONTOPREV'][dataset['Date'] == '2020-12-30']"
   ],
   "execution_count": 13,
   "outputs": [
    {
     "data": {
      "text/plain": "(0    17.01\n Name: ODONTOPREV, dtype: float64,\n 247    14.55\n Name: ODONTOPREV, dtype: float64)"
     },
     "execution_count": 13,
     "metadata": {},
     "output_type": "execute_result"
    }
   ]
  },
  {
   "cell_type": "code",
   "metadata": {
    "colab": {
     "base_uri": "https://localhost:8080/"
    },
    "id": "m6rjFAPgeCh8",
    "outputId": "2513c666-39dc-4cc0-8d15-d42ab89c14f4",
    "ExecuteTime": {
     "end_time": "2024-01-17T18:40:45.827923Z",
     "start_time": "2024-01-17T18:40:45.810555Z"
    }
   },
   "source": [
    "np.log(14.55 / 17.01) * 100"
   ],
   "execution_count": 59,
   "outputs": [
    {
     "data": {
      "text/plain": "-15.621041279026887"
     },
     "execution_count": 59,
     "metadata": {},
     "output_type": "execute_result"
    }
   ]
  },
  {
   "cell_type": "markdown",
   "metadata": {
    "id": "6KClzeKHEIcs"
   },
   "source": [
    "### 2021"
   ]
  },
  {
   "cell_type": "code",
   "metadata": {
    "colab": {
     "base_uri": "https://localhost:8080/"
    },
    "id": "4mZ-GKTGeS2H",
    "outputId": "01af3ca7-78f8-498b-c6e8-99098c43a643",
    "ExecuteTime": {
     "end_time": "2024-01-17T18:18:58.236630Z",
     "start_time": "2024-01-17T18:18:58.220954Z"
    }
   },
   "source": [
    "dataset['AMBEV'][dataset['Date'] == '2021-01-04'], dataset['AMBEV'][dataset['Date'] == '2021-12-30']"
   ],
   "execution_count": 21,
   "outputs": [
    {
     "data": {
      "text/plain": "(248    15.48\n Name: AMBEV, dtype: float64,\n 494    15.42\n Name: AMBEV, dtype: float64)"
     },
     "execution_count": 21,
     "metadata": {},
     "output_type": "execute_result"
    }
   ]
  },
  {
   "cell_type": "code",
   "metadata": {
    "colab": {
     "base_uri": "https://localhost:8080/"
    },
    "id": "Nn4C20vzejNu",
    "outputId": "c77ac1ed-3161-446f-b3fa-5137ed59b818",
    "ExecuteTime": {
     "end_time": "2024-01-17T18:22:48.031894Z",
     "start_time": "2024-01-17T18:22:48.013497Z"
    }
   },
   "source": [
    "np.log(15.42 / 15.48) * 100"
   ],
   "execution_count": 25,
   "outputs": [
    {
     "data": {
      "text/plain": "-0.3883500026397633"
     },
     "execution_count": 25,
     "metadata": {},
     "output_type": "execute_result"
    }
   ]
  },
  {
   "cell_type": "code",
   "metadata": {
    "colab": {
     "base_uri": "https://localhost:8080/"
    },
    "id": "-5atnPBPet1R",
    "outputId": "bf6e8ce9-d5b7-4989-ca54-40a8ccdddcb5",
    "ExecuteTime": {
     "end_time": "2024-01-17T18:23:20.295088Z",
     "start_time": "2024-01-17T18:23:20.275830Z"
    }
   },
   "source": [
    "dataset['ODONTOPREV'][dataset['Date'] == '2021-01-04'], dataset['ODONTOPREV'][dataset['Date'] == '2021-12-30']"
   ],
   "execution_count": 26,
   "outputs": [
    {
     "data": {
      "text/plain": "(248    15.17\n Name: ODONTOPREV, dtype: float64,\n 494    12.6\n Name: ODONTOPREV, dtype: float64)"
     },
     "execution_count": 26,
     "metadata": {},
     "output_type": "execute_result"
    }
   ]
  },
  {
   "cell_type": "code",
   "metadata": {
    "colab": {
     "base_uri": "https://localhost:8080/"
    },
    "id": "MKMFNfyieyjS",
    "outputId": "a045971f-bbb6-4abd-e3df-d2ac43eeb68d",
    "ExecuteTime": {
     "end_time": "2024-01-17T18:23:35.481134Z",
     "start_time": "2024-01-17T18:23:35.465337Z"
    }
   },
   "source": [
    "np.log(12.6 / 15.17) * 100"
   ],
   "execution_count": 27,
   "outputs": [
    {
     "data": {
      "text/plain": "-18.562297940300855"
     },
     "execution_count": 27,
     "metadata": {},
     "output_type": "execute_result"
    }
   ]
  },
  {
   "cell_type": "markdown",
   "metadata": {
    "id": "leM7iEWiEkn1"
   },
   "source": [
    "### 2022"
   ]
  },
  {
   "cell_type": "code",
   "metadata": {
    "colab": {
     "base_uri": "https://localhost:8080/"
    },
    "id": "rH5pyrgGEoOZ",
    "outputId": "ce624332-4cec-4bb4-d312-2f79ac1a7a89",
    "ExecuteTime": {
     "end_time": "2024-01-17T18:24:31.587439Z",
     "start_time": "2024-01-17T18:24:31.566317Z"
    }
   },
   "source": [
    "dataset['AMBEV'][dataset['Date'] == '2022-01-03'], dataset['AMBEV'][dataset['Date'] == '2022-12-29']"
   ],
   "execution_count": 32,
   "outputs": [
    {
     "data": {
      "text/plain": "(495    15.33\n Name: AMBEV, dtype: float64,\n 744    14.52\n Name: AMBEV, dtype: float64)"
     },
     "execution_count": 32,
     "metadata": {},
     "output_type": "execute_result"
    }
   ]
  },
  {
   "cell_type": "code",
   "metadata": {
    "colab": {
     "base_uri": "https://localhost:8080/"
    },
    "id": "EISOufnBE0Ov",
    "outputId": "a16c268b-5272-40b2-b19b-f370d5249ac1",
    "ExecuteTime": {
     "end_time": "2024-01-17T18:24:56.532626Z",
     "start_time": "2024-01-17T18:24:56.516574Z"
    }
   },
   "source": [
    "np.log(14.52/ 15.33) * 100"
   ],
   "execution_count": 33,
   "outputs": [
    {
     "data": {
      "text/plain": "-5.428468348707279"
     },
     "execution_count": 33,
     "metadata": {},
     "output_type": "execute_result"
    }
   ]
  },
  {
   "cell_type": "code",
   "metadata": {
    "colab": {
     "base_uri": "https://localhost:8080/"
    },
    "id": "QNqG-w7kEmY7",
    "outputId": "1292dedb-236f-4c62-9294-f17ac2a9b0f6",
    "ExecuteTime": {
     "end_time": "2024-01-17T18:26:17.838875Z",
     "start_time": "2024-01-17T18:26:17.822940Z"
    }
   },
   "source": [
    "dataset['ODONTOPREV'][dataset['Date'] == '2022-01-03'], dataset['ODONTOPREV'][dataset['Date'] == '2022-12-29']"
   ],
   "execution_count": 38,
   "outputs": [
    {
     "data": {
      "text/plain": "(495    12.22\n Name: ODONTOPREV, dtype: float64,\n 744    9.03\n Name: ODONTOPREV, dtype: float64)"
     },
     "execution_count": 38,
     "metadata": {},
     "output_type": "execute_result"
    }
   ]
  },
  {
   "cell_type": "code",
   "metadata": {
    "colab": {
     "base_uri": "https://localhost:8080/"
    },
    "id": "4ho7vtfcE8yJ",
    "outputId": "68864c4e-dace-44aa-c367-3b9c6e6f2eb6",
    "ExecuteTime": {
     "end_time": "2024-01-17T18:25:30.753737Z",
     "start_time": "2024-01-17T18:25:30.737896Z"
    }
   },
   "source": [
    "np.log(9.03 / 12.22) * 100"
   ],
   "execution_count": 35,
   "outputs": [
    {
     "data": {
      "text/plain": "-30.252158631455533"
     },
     "execution_count": 35,
     "metadata": {},
     "output_type": "execute_result"
    }
   ]
  },
  {
   "cell_type": "markdown",
   "metadata": {
    "id": "kn5DDNoIFDFA"
   },
   "source": [
    "### 2023"
   ]
  },
  {
   "cell_type": "code",
   "metadata": {
    "colab": {
     "base_uri": "https://localhost:8080/"
    },
    "id": "7igfkhKSFFXw",
    "outputId": "2d53f9c2-5d24-4bc5-9e76-385ac01da7d7",
    "ExecuteTime": {
     "end_time": "2024-01-17T18:37:28.377733Z",
     "start_time": "2024-01-17T18:37:28.369663Z"
    }
   },
   "source": [
    "dataset['AMBEV'][dataset['Date'] == '2023-01-02'], dataset['AMBEV'][dataset['Date'] == '2023-12-28']"
   ],
   "execution_count": 51,
   "outputs": [
    {
     "data": {
      "text/plain": "(745    14.19\n Name: AMBEV, dtype: float64,\n 992    13.73\n Name: AMBEV, dtype: float64)"
     },
     "execution_count": 51,
     "metadata": {},
     "output_type": "execute_result"
    }
   ]
  },
  {
   "cell_type": "code",
   "metadata": {
    "colab": {
     "base_uri": "https://localhost:8080/"
    },
    "id": "FEMFFi5NFSbJ",
    "outputId": "8d0cac9a-d7e0-437e-9a79-cf9dc1f84d40",
    "ExecuteTime": {
     "end_time": "2024-01-17T18:37:34.287783Z",
     "start_time": "2024-01-17T18:37:34.275239Z"
    }
   },
   "source": [
    "np.log(13.73 / 14.19) * 100"
   ],
   "execution_count": 52,
   "outputs": [
    {
     "data": {
      "text/plain": "-3.2954271392071495"
     },
     "execution_count": 52,
     "metadata": {},
     "output_type": "execute_result"
    }
   ]
  },
  {
   "cell_type": "code",
   "metadata": {
    "colab": {
     "base_uri": "https://localhost:8080/"
    },
    "id": "8QjwGaq2FORp",
    "outputId": "fab02540-479c-4fb6-cc2b-ccae022e7bc5",
    "ExecuteTime": {
     "end_time": "2024-01-17T18:27:20.066364Z",
     "start_time": "2024-01-17T18:27:20.050234Z"
    }
   },
   "source": [
    "dataset['ODONTOPREV'][dataset['Date'] == '2023-01-02'], dataset['ODONTOPREV'][dataset['Date'] == '2023-12-28']"
   ],
   "execution_count": 47,
   "outputs": [
    {
     "data": {
      "text/plain": "(745    8.89\n Name: ODONTOPREV, dtype: float64,\n 992    11.62\n Name: ODONTOPREV, dtype: float64)"
     },
     "execution_count": 47,
     "metadata": {},
     "output_type": "execute_result"
    }
   ]
  },
  {
   "cell_type": "code",
   "outputs": [
    {
     "data": {
      "text/plain": "26.78007018979519"
     },
     "execution_count": 60,
     "metadata": {},
     "output_type": "execute_result"
    }
   ],
   "source": [
    "np.log(11.62 / 8.89) * 100"
   ],
   "metadata": {
    "collapsed": false,
    "ExecuteTime": {
     "end_time": "2024-01-17T18:42:36.669138Z",
     "start_time": "2024-01-17T18:42:36.652946Z"
    }
   },
   "execution_count": 60
  },
  {
   "cell_type": "markdown",
   "source": [
    "## Variância"
   ],
   "metadata": {
    "collapsed": false
   }
  },
  {
   "cell_type": "code",
   "metadata": {
    "id": "U0G1E5cekWqa",
    "ExecuteTime": {
     "end_time": "2024-01-17T18:37:49.991443Z",
     "start_time": "2024-01-17T18:37:49.970759Z"
    }
   },
   "source": [
    "taxas_ambev = np.array([-20.44, -0.38, -5.42, -3.29])"
   ],
   "execution_count": 53,
   "outputs": []
  },
  {
   "cell_type": "code",
   "metadata": {
    "colab": {
     "base_uri": "https://localhost:8080/"
    },
    "id": "O8EthADGkmXV",
    "outputId": "fcdbc57a-c844-4229-c6aa-4847fb0b8194",
    "ExecuteTime": {
     "end_time": "2024-01-17T18:38:01.108169Z",
     "start_time": "2024-01-17T18:38:01.079734Z"
    }
   },
   "source": [
    "media_ambev = taxas_ambev.sum() / len(taxas_ambev)\n",
    "media_ambev"
   ],
   "execution_count": 54,
   "outputs": [
    {
     "data": {
      "text/plain": "-7.3825"
     },
     "execution_count": 54,
     "metadata": {},
     "output_type": "execute_result"
    }
   ]
  },
  {
   "cell_type": "code",
   "metadata": {
    "colab": {
     "base_uri": "https://localhost:8080/"
    },
    "id": "dKEGQBKClb08",
    "outputId": "7f89ffac-4efc-49af-c82b-fb689dd3ab25",
    "ExecuteTime": {
     "end_time": "2024-01-17T18:38:29.197810Z",
     "start_time": "2024-01-17T18:38:29.176362Z"
    }
   },
   "source": [
    "media_ambev = taxas_ambev.mean()\n",
    "media_ambev"
   ],
   "execution_count": 56,
   "outputs": [
    {
     "data": {
      "text/plain": "-7.3825"
     },
     "execution_count": 56,
     "metadata": {},
     "output_type": "execute_result"
    }
   ]
  },
  {
   "cell_type": "code",
   "metadata": {
    "colab": {
     "base_uri": "https://localhost:8080/"
    },
    "id": "X08UuySUk9jM",
    "outputId": "83ce4c8c-1eb7-4990-dbc2-a900389bc52e",
    "ExecuteTime": {
     "end_time": "2024-01-17T18:38:55.162472Z",
     "start_time": "2024-01-17T18:38:55.145175Z"
    }
   },
   "source": [
    "((taxas_ambev - media_ambev) ** 2).sum() / len(taxas_ambev)"
   ],
   "execution_count": 57,
   "outputs": [
    {
     "data": {
      "text/plain": "60.03331875000001"
     },
     "execution_count": 57,
     "metadata": {},
     "output_type": "execute_result"
    }
   ]
  },
  {
   "cell_type": "code",
   "metadata": {
    "colab": {
     "base_uri": "https://localhost:8080/"
    },
    "id": "on_y8OfwllYv",
    "outputId": "6e985fbf-f0e7-4c82-e923-5657ec851e0e",
    "ExecuteTime": {
     "end_time": "2024-01-17T18:39:38.191699Z",
     "start_time": "2024-01-17T18:39:38.170680Z"
    }
   },
   "source": [
    "variancia_ambev = taxas_ambev.var()\n",
    "variancia_ambev"
   ],
   "execution_count": 58,
   "outputs": [
    {
     "data": {
      "text/plain": "60.03331875000001"
     },
     "execution_count": 58,
     "metadata": {},
     "output_type": "execute_result"
    }
   ]
  },
  {
   "cell_type": "code",
   "metadata": {
    "id": "CV3xn9sLluXg",
    "ExecuteTime": {
     "end_time": "2024-01-17T18:43:01.623023Z",
     "start_time": "2024-01-17T18:43:01.601698Z"
    }
   },
   "source": [
    "taxas_odontoprev = np.array([-15.62, -18.56, -30.25, 26.78 ])"
   ],
   "execution_count": 61,
   "outputs": []
  },
  {
   "cell_type": "code",
   "metadata": {
    "colab": {
     "base_uri": "https://localhost:8080/"
    },
    "id": "Vmfzmj57l7qQ",
    "outputId": "48632cf2-1ee9-41e2-9dfc-94df9b220b62",
    "ExecuteTime": {
     "end_time": "2024-01-17T18:43:09.623708Z",
     "start_time": "2024-01-17T18:43:09.602586Z"
    }
   },
   "source": [
    "variancia_odontoprev = taxas_odontoprev.var()\n",
    "variancia_odontoprev"
   ],
   "execution_count": 62,
   "outputs": [
    {
     "data": {
      "text/plain": "466.57706874999997"
     },
     "execution_count": 62,
     "metadata": {},
     "output_type": "execute_result"
    }
   ]
  },
  {
   "cell_type": "code",
   "metadata": {
    "colab": {
     "base_uri": "https://localhost:8080/"
    },
    "id": "UVzOde3NmQbH",
    "outputId": "9d4509c4-7e51-4cf9-8667-682e2f6cd548",
    "ExecuteTime": {
     "end_time": "2024-01-17T18:45:12.708304Z",
     "start_time": "2024-01-17T18:45:12.693913Z"
    }
   },
   "source": [
    "dataset['AMBEV'].tail(330).var(), dataset['ODONTOPREV'].tail(330).var()"
   ],
   "execution_count": 65,
   "outputs": [
    {
     "data": {
      "text/plain": "(0.8494784366570695, 1.6159596815910717)"
     },
     "execution_count": 65,
     "metadata": {},
     "output_type": "execute_result"
    }
   ]
  },
  {
   "cell_type": "markdown",
   "metadata": {
    "id": "3yOrHmZJZZj2"
   },
   "source": [
    "## Desvio padrão"
   ]
  },
  {
   "cell_type": "code",
   "metadata": {
    "colab": {
     "base_uri": "https://localhost:8080/"
    },
    "id": "JRzvlIDRoJYW",
    "outputId": "bd044c64-37e7-48f8-8402-46b3b66706b1",
    "ExecuteTime": {
     "end_time": "2024-01-17T18:52:04.885411Z",
     "start_time": "2024-01-17T18:52:04.864366Z"
    }
   },
   "source": [
    "desvio_padrao_ambev = math.sqrt(variancia_ambev)\n",
    "desvio_padrao_ambev"
   ],
   "execution_count": 66,
   "outputs": [
    {
     "data": {
      "text/plain": "7.74811710998227"
     },
     "execution_count": 66,
     "metadata": {},
     "output_type": "execute_result"
    }
   ]
  },
  {
   "cell_type": "code",
   "metadata": {
    "colab": {
     "base_uri": "https://localhost:8080/"
    },
    "id": "YrlsXCMtowhU",
    "outputId": "b1364a59-0957-48ed-ee57-67a19db0185b",
    "ExecuteTime": {
     "end_time": "2024-01-17T18:52:17.598687Z",
     "start_time": "2024-01-17T18:52:17.582468Z"
    }
   },
   "source": [
    "taxas_ambev.std()"
   ],
   "execution_count": 67,
   "outputs": [
    {
     "data": {
      "text/plain": "7.74811710998227"
     },
     "execution_count": 67,
     "metadata": {},
     "output_type": "execute_result"
    }
   ]
  },
  {
   "cell_type": "code",
   "metadata": {
    "colab": {
     "base_uri": "https://localhost:8080/"
    },
    "id": "En-ACTmloSz4",
    "outputId": "9da787f5-04b6-4d09-88fb-c702e6f6d454",
    "ExecuteTime": {
     "end_time": "2024-01-17T18:52:46.068258Z",
     "start_time": "2024-01-17T18:52:46.047982Z"
    }
   },
   "source": [
    "desvio_padrao_odontoprev = math.sqrt(variancia_odontoprev)\n",
    "desvio_padrao_odontoprev"
   ],
   "execution_count": 68,
   "outputs": [
    {
     "data": {
      "text/plain": "21.60039510634007"
     },
     "execution_count": 68,
     "metadata": {},
     "output_type": "execute_result"
    }
   ]
  },
  {
   "cell_type": "code",
   "metadata": {
    "colab": {
     "base_uri": "https://localhost:8080/"
    },
    "id": "m8iLutBAo15L",
    "outputId": "ac1e07a5-a2aa-47a1-d1c8-6536c62f5b0b",
    "ExecuteTime": {
     "end_time": "2024-01-17T18:53:55.365957Z",
     "start_time": "2024-01-17T18:53:55.350751Z"
    }
   },
   "source": [
    "taxas_odontoprev.std()"
   ],
   "execution_count": 69,
   "outputs": [
    {
     "data": {
      "text/plain": "21.60039510634007"
     },
     "execution_count": 69,
     "metadata": {},
     "output_type": "execute_result"
    }
   ]
  },
  {
   "cell_type": "code",
   "metadata": {
    "colab": {
     "base_uri": "https://localhost:8080/"
    },
    "id": "KyptJCb4onvh",
    "outputId": "185cdd71-23eb-46fe-f687-d8665bb3632f",
    "ExecuteTime": {
     "end_time": "2024-01-17T18:54:03.554838Z",
     "start_time": "2024-01-17T18:54:03.540134Z"
    }
   },
   "source": [
    "dataset['AMBEV'].tail(330).std(), dataset['ODONTOPREV'].tail(330).std()"
   ],
   "execution_count": 70,
   "outputs": [
    {
     "data": {
      "text/plain": "(0.921671544888454, 1.2712040283098036)"
     },
     "execution_count": 70,
     "metadata": {},
     "output_type": "execute_result"
    }
   ]
  },
  {
   "cell_type": "markdown",
   "metadata": {
    "id": "KKuX4112bw_4"
   },
   "source": [
    "## Coeficiente de variação"
   ]
  },
  {
   "cell_type": "code",
   "metadata": {
    "colab": {
     "base_uri": "https://localhost:8080/"
    },
    "id": "eYUnVoLAqTEl",
    "outputId": "f3eb8fa6-21fe-451b-8a45-0754c07741be",
    "ExecuteTime": {
     "end_time": "2024-01-17T18:56:12.708658Z",
     "start_time": "2024-01-17T18:56:12.688572Z"
    }
   },
   "source": [
    "desvio_padrao_ambev, media_ambev"
   ],
   "execution_count": 71,
   "outputs": [
    {
     "data": {
      "text/plain": "(7.74811710998227, -7.3825)"
     },
     "execution_count": 71,
     "metadata": {},
     "output_type": "execute_result"
    }
   ]
  },
  {
   "cell_type": "code",
   "metadata": {
    "colab": {
     "base_uri": "https://localhost:8080/"
    },
    "id": "C0YfW0G7qXxL",
    "outputId": "263b5a7c-0f50-4846-f83d-473d1728b917",
    "ExecuteTime": {
     "end_time": "2024-01-17T18:56:35.483311Z",
     "start_time": "2024-01-17T18:56:35.462860Z"
    }
   },
   "source": [
    "coeficiente_variacao_ambev = (desvio_padrao_ambev / media_ambev) * 100\n",
    "coeficiente_variacao_ambev"
   ],
   "execution_count": 72,
   "outputs": [
    {
     "data": {
      "text/plain": "-104.95248371123968"
     },
     "execution_count": 72,
     "metadata": {},
     "output_type": "execute_result"
    }
   ]
  },
  {
   "cell_type": "code",
   "metadata": {
    "colab": {
     "base_uri": "https://localhost:8080/"
    },
    "id": "VL4yfsy_qgf9",
    "outputId": "9d3a332f-269d-4cec-efeb-7cc06ee50b39",
    "ExecuteTime": {
     "end_time": "2024-01-17T18:56:42.478746Z",
     "start_time": "2024-01-17T18:56:42.463537Z"
    }
   },
   "source": [
    "stats.variation(taxas_ambev) * 100"
   ],
   "execution_count": 73,
   "outputs": [
    {
     "data": {
      "text/plain": "-104.95248371123968"
     },
     "execution_count": 73,
     "metadata": {},
     "output_type": "execute_result"
    }
   ]
  },
  {
   "cell_type": "code",
   "metadata": {
    "colab": {
     "base_uri": "https://localhost:8080/"
    },
    "id": "KUvU-pXLqpAI",
    "outputId": "a2ab04d5-d149-4a49-a0fd-e22af02176ae",
    "ExecuteTime": {
     "end_time": "2024-01-17T18:56:52.156208Z",
     "start_time": "2024-01-17T18:56:52.140446Z"
    }
   },
   "source": [
    "stats.variation(taxas_odontoprev) * 100"
   ],
   "execution_count": 74,
   "outputs": [
    {
     "data": {
      "text/plain": "-229.4862693900671"
     },
     "execution_count": 74,
     "metadata": {},
     "output_type": "execute_result"
    }
   ]
  },
  {
   "cell_type": "markdown",
   "metadata": {
    "id": "whH8oHumdpei"
   },
   "source": [
    "## Cálculos com todas as ações - risco médio anual"
   ]
  },
  {
   "cell_type": "code",
   "metadata": {
    "colab": {
     "base_uri": "https://localhost:8080/",
     "height": 447
    },
    "id": "-xoNpHbrsVYg",
    "outputId": "39c7e00d-9c5a-4720-d382-303f30001936",
    "ExecuteTime": {
     "end_time": "2024-01-17T18:57:50.614777Z",
     "start_time": "2024-01-17T18:57:50.586657Z"
    }
   },
   "source": [
    "dataset.drop(labels = ['Date'], axis=1, inplace=True)\n",
    "dataset"
   ],
   "execution_count": 75,
   "outputs": [
    {
     "data": {
      "text/plain": "          AMBEV  ODONTOPREV       VIVO  PETROBRAS  BANCO DO BRASIL        BOVA\n0     19.200001   17.010000  48.240002  30.700001        53.799999  114.239998\n1     18.930000   17.219999  48.799999  30.450001        53.709999  113.800003\n2     19.020000   17.090000  48.330002  30.809999        53.000000  112.589996\n3     19.059999   16.650000  49.400002  30.690001        52.599998  112.239998\n4     18.969999   16.700001  49.900002  30.500000        52.119999  111.949997\n...         ...         ...        ...        ...              ...         ...\n998   13.620000   11.850000  50.230000  38.099998        54.520000  127.589996\n999   13.760000   11.980000  50.619999  37.750000        54.430000  126.940002\n1000  13.560000   11.960000  50.340000  38.070000        54.799999  126.809998\n1001  13.590000   12.000000  50.770000  38.169998        55.119999  127.230003\n1002  13.590000   11.950000  50.730000  38.560001        56.009998  127.669998\n\n[1003 rows x 6 columns]",
      "text/html": "<div>\n<style scoped>\n    .dataframe tbody tr th:only-of-type {\n        vertical-align: middle;\n    }\n\n    .dataframe tbody tr th {\n        vertical-align: top;\n    }\n\n    .dataframe thead th {\n        text-align: right;\n    }\n</style>\n<table border=\"1\" class=\"dataframe\">\n  <thead>\n    <tr style=\"text-align: right;\">\n      <th></th>\n      <th>AMBEV</th>\n      <th>ODONTOPREV</th>\n      <th>VIVO</th>\n      <th>PETROBRAS</th>\n      <th>BANCO DO BRASIL</th>\n      <th>BOVA</th>\n    </tr>\n  </thead>\n  <tbody>\n    <tr>\n      <th>0</th>\n      <td>19.200001</td>\n      <td>17.010000</td>\n      <td>48.240002</td>\n      <td>30.700001</td>\n      <td>53.799999</td>\n      <td>114.239998</td>\n    </tr>\n    <tr>\n      <th>1</th>\n      <td>18.930000</td>\n      <td>17.219999</td>\n      <td>48.799999</td>\n      <td>30.450001</td>\n      <td>53.709999</td>\n      <td>113.800003</td>\n    </tr>\n    <tr>\n      <th>2</th>\n      <td>19.020000</td>\n      <td>17.090000</td>\n      <td>48.330002</td>\n      <td>30.809999</td>\n      <td>53.000000</td>\n      <td>112.589996</td>\n    </tr>\n    <tr>\n      <th>3</th>\n      <td>19.059999</td>\n      <td>16.650000</td>\n      <td>49.400002</td>\n      <td>30.690001</td>\n      <td>52.599998</td>\n      <td>112.239998</td>\n    </tr>\n    <tr>\n      <th>4</th>\n      <td>18.969999</td>\n      <td>16.700001</td>\n      <td>49.900002</td>\n      <td>30.500000</td>\n      <td>52.119999</td>\n      <td>111.949997</td>\n    </tr>\n    <tr>\n      <th>...</th>\n      <td>...</td>\n      <td>...</td>\n      <td>...</td>\n      <td>...</td>\n      <td>...</td>\n      <td>...</td>\n    </tr>\n    <tr>\n      <th>998</th>\n      <td>13.620000</td>\n      <td>11.850000</td>\n      <td>50.230000</td>\n      <td>38.099998</td>\n      <td>54.520000</td>\n      <td>127.589996</td>\n    </tr>\n    <tr>\n      <th>999</th>\n      <td>13.760000</td>\n      <td>11.980000</td>\n      <td>50.619999</td>\n      <td>37.750000</td>\n      <td>54.430000</td>\n      <td>126.940002</td>\n    </tr>\n    <tr>\n      <th>1000</th>\n      <td>13.560000</td>\n      <td>11.960000</td>\n      <td>50.340000</td>\n      <td>38.070000</td>\n      <td>54.799999</td>\n      <td>126.809998</td>\n    </tr>\n    <tr>\n      <th>1001</th>\n      <td>13.590000</td>\n      <td>12.000000</td>\n      <td>50.770000</td>\n      <td>38.169998</td>\n      <td>55.119999</td>\n      <td>127.230003</td>\n    </tr>\n    <tr>\n      <th>1002</th>\n      <td>13.590000</td>\n      <td>11.950000</td>\n      <td>50.730000</td>\n      <td>38.560001</td>\n      <td>56.009998</td>\n      <td>127.669998</td>\n    </tr>\n  </tbody>\n</table>\n<p>1003 rows × 6 columns</p>\n</div>"
     },
     "execution_count": 75,
     "metadata": {},
     "output_type": "execute_result"
    }
   ]
  },
  {
   "cell_type": "code",
   "metadata": {
    "colab": {
     "base_uri": "https://localhost:8080/",
     "height": 447
    },
    "id": "ltZbzHMmsuYL",
    "outputId": "70670153-756a-4c26-fa72-64b813c2e645",
    "ExecuteTime": {
     "end_time": "2024-01-17T18:58:20.568830Z",
     "start_time": "2024-01-17T18:58:20.530038Z"
    }
   },
   "source": [
    "taxas_retorno = (dataset / dataset.shift(1)) - 1\n",
    "taxas_retorno"
   ],
   "execution_count": 76,
   "outputs": [
    {
     "data": {
      "text/plain": "         AMBEV  ODONTOPREV      VIVO  PETROBRAS  BANCO DO BRASIL      BOVA\n0          NaN         NaN       NaN        NaN              NaN       NaN\n1    -0.014063    0.012346  0.011609  -0.008143        -0.001673 -0.003851\n2     0.004754   -0.007549 -0.009631   0.011823        -0.013219 -0.010633\n3     0.002103   -0.025746  0.022139  -0.003895        -0.007547 -0.003109\n4    -0.004722    0.003003  0.010121  -0.006191        -0.009125 -0.002584\n...        ...         ...       ...        ...              ...       ...\n998  -0.006565   -0.037368  0.004600  -0.008587        -0.014995 -0.007622\n999   0.010279    0.010970  0.007764  -0.009186        -0.001651 -0.005094\n1000 -0.014535   -0.001669 -0.005531   0.008477         0.006798 -0.001024\n1001  0.002212    0.003344  0.008542   0.002627         0.005839  0.003312\n1002  0.000000   -0.004167 -0.000788   0.010218         0.016147  0.003458\n\n[1003 rows x 6 columns]",
      "text/html": "<div>\n<style scoped>\n    .dataframe tbody tr th:only-of-type {\n        vertical-align: middle;\n    }\n\n    .dataframe tbody tr th {\n        vertical-align: top;\n    }\n\n    .dataframe thead th {\n        text-align: right;\n    }\n</style>\n<table border=\"1\" class=\"dataframe\">\n  <thead>\n    <tr style=\"text-align: right;\">\n      <th></th>\n      <th>AMBEV</th>\n      <th>ODONTOPREV</th>\n      <th>VIVO</th>\n      <th>PETROBRAS</th>\n      <th>BANCO DO BRASIL</th>\n      <th>BOVA</th>\n    </tr>\n  </thead>\n  <tbody>\n    <tr>\n      <th>0</th>\n      <td>NaN</td>\n      <td>NaN</td>\n      <td>NaN</td>\n      <td>NaN</td>\n      <td>NaN</td>\n      <td>NaN</td>\n    </tr>\n    <tr>\n      <th>1</th>\n      <td>-0.014063</td>\n      <td>0.012346</td>\n      <td>0.011609</td>\n      <td>-0.008143</td>\n      <td>-0.001673</td>\n      <td>-0.003851</td>\n    </tr>\n    <tr>\n      <th>2</th>\n      <td>0.004754</td>\n      <td>-0.007549</td>\n      <td>-0.009631</td>\n      <td>0.011823</td>\n      <td>-0.013219</td>\n      <td>-0.010633</td>\n    </tr>\n    <tr>\n      <th>3</th>\n      <td>0.002103</td>\n      <td>-0.025746</td>\n      <td>0.022139</td>\n      <td>-0.003895</td>\n      <td>-0.007547</td>\n      <td>-0.003109</td>\n    </tr>\n    <tr>\n      <th>4</th>\n      <td>-0.004722</td>\n      <td>0.003003</td>\n      <td>0.010121</td>\n      <td>-0.006191</td>\n      <td>-0.009125</td>\n      <td>-0.002584</td>\n    </tr>\n    <tr>\n      <th>...</th>\n      <td>...</td>\n      <td>...</td>\n      <td>...</td>\n      <td>...</td>\n      <td>...</td>\n      <td>...</td>\n    </tr>\n    <tr>\n      <th>998</th>\n      <td>-0.006565</td>\n      <td>-0.037368</td>\n      <td>0.004600</td>\n      <td>-0.008587</td>\n      <td>-0.014995</td>\n      <td>-0.007622</td>\n    </tr>\n    <tr>\n      <th>999</th>\n      <td>0.010279</td>\n      <td>0.010970</td>\n      <td>0.007764</td>\n      <td>-0.009186</td>\n      <td>-0.001651</td>\n      <td>-0.005094</td>\n    </tr>\n    <tr>\n      <th>1000</th>\n      <td>-0.014535</td>\n      <td>-0.001669</td>\n      <td>-0.005531</td>\n      <td>0.008477</td>\n      <td>0.006798</td>\n      <td>-0.001024</td>\n    </tr>\n    <tr>\n      <th>1001</th>\n      <td>0.002212</td>\n      <td>0.003344</td>\n      <td>0.008542</td>\n      <td>0.002627</td>\n      <td>0.005839</td>\n      <td>0.003312</td>\n    </tr>\n    <tr>\n      <th>1002</th>\n      <td>0.000000</td>\n      <td>-0.004167</td>\n      <td>-0.000788</td>\n      <td>0.010218</td>\n      <td>0.016147</td>\n      <td>0.003458</td>\n    </tr>\n  </tbody>\n</table>\n<p>1003 rows × 6 columns</p>\n</div>"
     },
     "execution_count": 76,
     "metadata": {},
     "output_type": "execute_result"
    }
   ]
  },
  {
   "cell_type": "code",
   "metadata": {
    "colab": {
     "base_uri": "https://localhost:8080/"
    },
    "id": "vC7pN4JJtNcS",
    "outputId": "a1839704-2b09-42bf-9a08-bb5e4fc16953",
    "ExecuteTime": {
     "end_time": "2024-01-17T18:58:52.409435Z",
     "start_time": "2024-01-17T18:58:52.397539Z"
    }
   },
   "source": [
    "taxas_retorno.std() * 100"
   ],
   "execution_count": 77,
   "outputs": [
    {
     "data": {
      "text/plain": "AMBEV              2.022324\nODONTOPREV         2.258812\nVIVO               1.776434\nPETROBRAS          3.133338\nBANCO DO BRASIL    2.537737\nBOVA               1.778403\ndtype: float64"
     },
     "execution_count": 77,
     "metadata": {},
     "output_type": "execute_result"
    }
   ]
  },
  {
   "cell_type": "code",
   "metadata": {
    "colab": {
     "base_uri": "https://localhost:8080/"
    },
    "id": "BZ35FuAzt4DO",
    "outputId": "04dc0f4a-4cb7-44df-a453-3364ab14cd72",
    "ExecuteTime": {
     "end_time": "2024-01-17T18:59:45.968459Z",
     "start_time": "2024-01-17T18:59:45.951048Z"
    }
   },
   "source": [
    "taxas_retorno.std() * 246"
   ],
   "execution_count": 78,
   "outputs": [
    {
     "data": {
      "text/plain": "AMBEV              4.974917\nODONTOPREV         5.556678\nVIVO               4.370027\nPETROBRAS          7.708011\nBANCO DO BRASIL    6.242832\nBOVA               4.374871\ndtype: float64"
     },
     "execution_count": 78,
     "metadata": {},
     "output_type": "execute_result"
    }
   ]
  },
  {
   "cell_type": "code",
   "metadata": {
    "colab": {
     "base_uri": "https://localhost:8080/"
    },
    "id": "K62-NewLuiEx",
    "outputId": "4b8d6e29-bf2e-44dd-f66d-e674ffbdcfad",
    "ExecuteTime": {
     "end_time": "2024-01-17T19:00:34.721029Z",
     "start_time": "2024-01-17T19:00:34.707793Z"
    }
   },
   "source": [
    "math.sqrt(246) # Anualizar"
   ],
   "execution_count": 79,
   "outputs": [
    {
     "data": {
      "text/plain": "15.684387141358123"
     },
     "execution_count": 79,
     "metadata": {},
     "output_type": "execute_result"
    }
   ]
  },
  {
   "cell_type": "code",
   "metadata": {
    "colab": {
     "base_uri": "https://localhost:8080/"
    },
    "id": "6XdhwPG6uZER",
    "outputId": "685b1168-d949-4801-a2ed-0938a8be475e",
    "ExecuteTime": {
     "end_time": "2024-01-17T19:00:40.295794Z",
     "start_time": "2024-01-17T19:00:40.276867Z"
    }
   },
   "source": [
    "taxas_retorno.std() * math.sqrt(246)"
   ],
   "execution_count": 80,
   "outputs": [
    {
     "data": {
      "text/plain": "AMBEV              0.317189\nODONTOPREV         0.354281\nVIVO               0.278623\nPETROBRAS          0.491445\nBANCO DO BRASIL    0.398028\nBOVA               0.278932\ndtype: float64"
     },
     "execution_count": 80,
     "metadata": {},
     "output_type": "execute_result"
    }
   ]
  },
  {
   "cell_type": "markdown",
   "metadata": {
    "id": "t5-77djrvtGz"
   },
   "source": [
    "## Correlação entre ações"
   ]
  },
  {
   "cell_type": "code",
   "metadata": {
    "colab": {
     "base_uri": "https://localhost:8080/",
     "height": 447
    },
    "id": "UwMtgThGwg6Q",
    "outputId": "cee10428-e688-46c9-c393-8de475ed2c4a",
    "ExecuteTime": {
     "end_time": "2024-01-17T19:02:42.443397Z",
     "start_time": "2024-01-17T19:02:42.434673Z"
    }
   },
   "source": [
    "dataset"
   ],
   "execution_count": 81,
   "outputs": [
    {
     "data": {
      "text/plain": "          AMBEV  ODONTOPREV       VIVO  PETROBRAS  BANCO DO BRASIL        BOVA\n0     19.200001   17.010000  48.240002  30.700001        53.799999  114.239998\n1     18.930000   17.219999  48.799999  30.450001        53.709999  113.800003\n2     19.020000   17.090000  48.330002  30.809999        53.000000  112.589996\n3     19.059999   16.650000  49.400002  30.690001        52.599998  112.239998\n4     18.969999   16.700001  49.900002  30.500000        52.119999  111.949997\n...         ...         ...        ...        ...              ...         ...\n998   13.620000   11.850000  50.230000  38.099998        54.520000  127.589996\n999   13.760000   11.980000  50.619999  37.750000        54.430000  126.940002\n1000  13.560000   11.960000  50.340000  38.070000        54.799999  126.809998\n1001  13.590000   12.000000  50.770000  38.169998        55.119999  127.230003\n1002  13.590000   11.950000  50.730000  38.560001        56.009998  127.669998\n\n[1003 rows x 6 columns]",
      "text/html": "<div>\n<style scoped>\n    .dataframe tbody tr th:only-of-type {\n        vertical-align: middle;\n    }\n\n    .dataframe tbody tr th {\n        vertical-align: top;\n    }\n\n    .dataframe thead th {\n        text-align: right;\n    }\n</style>\n<table border=\"1\" class=\"dataframe\">\n  <thead>\n    <tr style=\"text-align: right;\">\n      <th></th>\n      <th>AMBEV</th>\n      <th>ODONTOPREV</th>\n      <th>VIVO</th>\n      <th>PETROBRAS</th>\n      <th>BANCO DO BRASIL</th>\n      <th>BOVA</th>\n    </tr>\n  </thead>\n  <tbody>\n    <tr>\n      <th>0</th>\n      <td>19.200001</td>\n      <td>17.010000</td>\n      <td>48.240002</td>\n      <td>30.700001</td>\n      <td>53.799999</td>\n      <td>114.239998</td>\n    </tr>\n    <tr>\n      <th>1</th>\n      <td>18.930000</td>\n      <td>17.219999</td>\n      <td>48.799999</td>\n      <td>30.450001</td>\n      <td>53.709999</td>\n      <td>113.800003</td>\n    </tr>\n    <tr>\n      <th>2</th>\n      <td>19.020000</td>\n      <td>17.090000</td>\n      <td>48.330002</td>\n      <td>30.809999</td>\n      <td>53.000000</td>\n      <td>112.589996</td>\n    </tr>\n    <tr>\n      <th>3</th>\n      <td>19.059999</td>\n      <td>16.650000</td>\n      <td>49.400002</td>\n      <td>30.690001</td>\n      <td>52.599998</td>\n      <td>112.239998</td>\n    </tr>\n    <tr>\n      <th>4</th>\n      <td>18.969999</td>\n      <td>16.700001</td>\n      <td>49.900002</td>\n      <td>30.500000</td>\n      <td>52.119999</td>\n      <td>111.949997</td>\n    </tr>\n    <tr>\n      <th>...</th>\n      <td>...</td>\n      <td>...</td>\n      <td>...</td>\n      <td>...</td>\n      <td>...</td>\n      <td>...</td>\n    </tr>\n    <tr>\n      <th>998</th>\n      <td>13.620000</td>\n      <td>11.850000</td>\n      <td>50.230000</td>\n      <td>38.099998</td>\n      <td>54.520000</td>\n      <td>127.589996</td>\n    </tr>\n    <tr>\n      <th>999</th>\n      <td>13.760000</td>\n      <td>11.980000</td>\n      <td>50.619999</td>\n      <td>37.750000</td>\n      <td>54.430000</td>\n      <td>126.940002</td>\n    </tr>\n    <tr>\n      <th>1000</th>\n      <td>13.560000</td>\n      <td>11.960000</td>\n      <td>50.340000</td>\n      <td>38.070000</td>\n      <td>54.799999</td>\n      <td>126.809998</td>\n    </tr>\n    <tr>\n      <th>1001</th>\n      <td>13.590000</td>\n      <td>12.000000</td>\n      <td>50.770000</td>\n      <td>38.169998</td>\n      <td>55.119999</td>\n      <td>127.230003</td>\n    </tr>\n    <tr>\n      <th>1002</th>\n      <td>13.590000</td>\n      <td>11.950000</td>\n      <td>50.730000</td>\n      <td>38.560001</td>\n      <td>56.009998</td>\n      <td>127.669998</td>\n    </tr>\n  </tbody>\n</table>\n<p>1003 rows × 6 columns</p>\n</div>"
     },
     "execution_count": 81,
     "metadata": {},
     "output_type": "execute_result"
    }
   ]
  },
  {
   "cell_type": "code",
   "metadata": {
    "colab": {
     "base_uri": "https://localhost:8080/",
     "height": 447
    },
    "id": "gbv8-fu4wUq5",
    "outputId": "be9fff25-d355-41a8-bc08-04f1ee410c9c",
    "ExecuteTime": {
     "end_time": "2024-01-17T19:02:45.932695Z",
     "start_time": "2024-01-17T19:02:45.920553Z"
    }
   },
   "source": [
    "taxas_retorno"
   ],
   "execution_count": 82,
   "outputs": [
    {
     "data": {
      "text/plain": "         AMBEV  ODONTOPREV      VIVO  PETROBRAS  BANCO DO BRASIL      BOVA\n0          NaN         NaN       NaN        NaN              NaN       NaN\n1    -0.014063    0.012346  0.011609  -0.008143        -0.001673 -0.003851\n2     0.004754   -0.007549 -0.009631   0.011823        -0.013219 -0.010633\n3     0.002103   -0.025746  0.022139  -0.003895        -0.007547 -0.003109\n4    -0.004722    0.003003  0.010121  -0.006191        -0.009125 -0.002584\n...        ...         ...       ...        ...              ...       ...\n998  -0.006565   -0.037368  0.004600  -0.008587        -0.014995 -0.007622\n999   0.010279    0.010970  0.007764  -0.009186        -0.001651 -0.005094\n1000 -0.014535   -0.001669 -0.005531   0.008477         0.006798 -0.001024\n1001  0.002212    0.003344  0.008542   0.002627         0.005839  0.003312\n1002  0.000000   -0.004167 -0.000788   0.010218         0.016147  0.003458\n\n[1003 rows x 6 columns]",
      "text/html": "<div>\n<style scoped>\n    .dataframe tbody tr th:only-of-type {\n        vertical-align: middle;\n    }\n\n    .dataframe tbody tr th {\n        vertical-align: top;\n    }\n\n    .dataframe thead th {\n        text-align: right;\n    }\n</style>\n<table border=\"1\" class=\"dataframe\">\n  <thead>\n    <tr style=\"text-align: right;\">\n      <th></th>\n      <th>AMBEV</th>\n      <th>ODONTOPREV</th>\n      <th>VIVO</th>\n      <th>PETROBRAS</th>\n      <th>BANCO DO BRASIL</th>\n      <th>BOVA</th>\n    </tr>\n  </thead>\n  <tbody>\n    <tr>\n      <th>0</th>\n      <td>NaN</td>\n      <td>NaN</td>\n      <td>NaN</td>\n      <td>NaN</td>\n      <td>NaN</td>\n      <td>NaN</td>\n    </tr>\n    <tr>\n      <th>1</th>\n      <td>-0.014063</td>\n      <td>0.012346</td>\n      <td>0.011609</td>\n      <td>-0.008143</td>\n      <td>-0.001673</td>\n      <td>-0.003851</td>\n    </tr>\n    <tr>\n      <th>2</th>\n      <td>0.004754</td>\n      <td>-0.007549</td>\n      <td>-0.009631</td>\n      <td>0.011823</td>\n      <td>-0.013219</td>\n      <td>-0.010633</td>\n    </tr>\n    <tr>\n      <th>3</th>\n      <td>0.002103</td>\n      <td>-0.025746</td>\n      <td>0.022139</td>\n      <td>-0.003895</td>\n      <td>-0.007547</td>\n      <td>-0.003109</td>\n    </tr>\n    <tr>\n      <th>4</th>\n      <td>-0.004722</td>\n      <td>0.003003</td>\n      <td>0.010121</td>\n      <td>-0.006191</td>\n      <td>-0.009125</td>\n      <td>-0.002584</td>\n    </tr>\n    <tr>\n      <th>...</th>\n      <td>...</td>\n      <td>...</td>\n      <td>...</td>\n      <td>...</td>\n      <td>...</td>\n      <td>...</td>\n    </tr>\n    <tr>\n      <th>998</th>\n      <td>-0.006565</td>\n      <td>-0.037368</td>\n      <td>0.004600</td>\n      <td>-0.008587</td>\n      <td>-0.014995</td>\n      <td>-0.007622</td>\n    </tr>\n    <tr>\n      <th>999</th>\n      <td>0.010279</td>\n      <td>0.010970</td>\n      <td>0.007764</td>\n      <td>-0.009186</td>\n      <td>-0.001651</td>\n      <td>-0.005094</td>\n    </tr>\n    <tr>\n      <th>1000</th>\n      <td>-0.014535</td>\n      <td>-0.001669</td>\n      <td>-0.005531</td>\n      <td>0.008477</td>\n      <td>0.006798</td>\n      <td>-0.001024</td>\n    </tr>\n    <tr>\n      <th>1001</th>\n      <td>0.002212</td>\n      <td>0.003344</td>\n      <td>0.008542</td>\n      <td>0.002627</td>\n      <td>0.005839</td>\n      <td>0.003312</td>\n    </tr>\n    <tr>\n      <th>1002</th>\n      <td>0.000000</td>\n      <td>-0.004167</td>\n      <td>-0.000788</td>\n      <td>0.010218</td>\n      <td>0.016147</td>\n      <td>0.003458</td>\n    </tr>\n  </tbody>\n</table>\n<p>1003 rows × 6 columns</p>\n</div>"
     },
     "execution_count": 82,
     "metadata": {},
     "output_type": "execute_result"
    }
   ]
  },
  {
   "cell_type": "code",
   "metadata": {
    "colab": {
     "base_uri": "https://localhost:8080/",
     "height": 260
    },
    "id": "A2dHlyuOw_wM",
    "outputId": "2e365218-6b9e-4657-ab41-7b301c8d2ba8",
    "ExecuteTime": {
     "end_time": "2024-01-17T19:03:14.845053Z",
     "start_time": "2024-01-17T19:03:14.828272Z"
    }
   },
   "source": [
    "taxas_retorno.cov()"
   ],
   "execution_count": 83,
   "outputs": [
    {
     "data": {
      "text/plain": "                    AMBEV  ODONTOPREV      VIVO  PETROBRAS  BANCO DO BRASIL  \\\nAMBEV            0.000409    0.000094  0.000139   0.000246         0.000252   \nODONTOPREV       0.000094    0.000510  0.000098   0.000168         0.000161   \nVIVO             0.000139    0.000098  0.000316   0.000161         0.000169   \nPETROBRAS        0.000246    0.000168  0.000161   0.000982         0.000492   \nBANCO DO BRASIL  0.000252    0.000161  0.000169   0.000492         0.000644   \nBOVA             0.000217    0.000150  0.000147   0.000394         0.000358   \n\n                     BOVA  \nAMBEV            0.000217  \nODONTOPREV       0.000150  \nVIVO             0.000147  \nPETROBRAS        0.000394  \nBANCO DO BRASIL  0.000358  \nBOVA             0.000316  ",
      "text/html": "<div>\n<style scoped>\n    .dataframe tbody tr th:only-of-type {\n        vertical-align: middle;\n    }\n\n    .dataframe tbody tr th {\n        vertical-align: top;\n    }\n\n    .dataframe thead th {\n        text-align: right;\n    }\n</style>\n<table border=\"1\" class=\"dataframe\">\n  <thead>\n    <tr style=\"text-align: right;\">\n      <th></th>\n      <th>AMBEV</th>\n      <th>ODONTOPREV</th>\n      <th>VIVO</th>\n      <th>PETROBRAS</th>\n      <th>BANCO DO BRASIL</th>\n      <th>BOVA</th>\n    </tr>\n  </thead>\n  <tbody>\n    <tr>\n      <th>AMBEV</th>\n      <td>0.000409</td>\n      <td>0.000094</td>\n      <td>0.000139</td>\n      <td>0.000246</td>\n      <td>0.000252</td>\n      <td>0.000217</td>\n    </tr>\n    <tr>\n      <th>ODONTOPREV</th>\n      <td>0.000094</td>\n      <td>0.000510</td>\n      <td>0.000098</td>\n      <td>0.000168</td>\n      <td>0.000161</td>\n      <td>0.000150</td>\n    </tr>\n    <tr>\n      <th>VIVO</th>\n      <td>0.000139</td>\n      <td>0.000098</td>\n      <td>0.000316</td>\n      <td>0.000161</td>\n      <td>0.000169</td>\n      <td>0.000147</td>\n    </tr>\n    <tr>\n      <th>PETROBRAS</th>\n      <td>0.000246</td>\n      <td>0.000168</td>\n      <td>0.000161</td>\n      <td>0.000982</td>\n      <td>0.000492</td>\n      <td>0.000394</td>\n    </tr>\n    <tr>\n      <th>BANCO DO BRASIL</th>\n      <td>0.000252</td>\n      <td>0.000161</td>\n      <td>0.000169</td>\n      <td>0.000492</td>\n      <td>0.000644</td>\n      <td>0.000358</td>\n    </tr>\n    <tr>\n      <th>BOVA</th>\n      <td>0.000217</td>\n      <td>0.000150</td>\n      <td>0.000147</td>\n      <td>0.000394</td>\n      <td>0.000358</td>\n      <td>0.000316</td>\n    </tr>\n  </tbody>\n</table>\n</div>"
     },
     "execution_count": 83,
     "metadata": {},
     "output_type": "execute_result"
    }
   ]
  },
  {
   "cell_type": "code",
   "metadata": {
    "colab": {
     "base_uri": "https://localhost:8080/",
     "height": 260
    },
    "id": "WsaMv-JzyBB8",
    "outputId": "0e39c84e-3a98-4b69-eb4c-1660170ff8cb",
    "ExecuteTime": {
     "end_time": "2024-01-17T19:04:30.232578Z",
     "start_time": "2024-01-17T19:04:30.216876Z"
    }
   },
   "source": [
    "# Empresas BOVA: http://bvmf.bmfbovespa.com.br/indices/ResumoCarteiraQuadrimestre.aspx?Indice=IBOV&idioma=pt-br\n",
    "taxas_retorno.corr()"
   ],
   "execution_count": 84,
   "outputs": [
    {
     "data": {
      "text/plain": "                    AMBEV  ODONTOPREV      VIVO  PETROBRAS  BANCO DO BRASIL  \\\nAMBEV            1.000000    0.205036  0.387269   0.388424         0.491199   \nODONTOPREV       0.205036    1.000000  0.244082   0.236744         0.280760   \nVIVO             0.387269    0.244082  1.000000   0.288644         0.373793   \nPETROBRAS        0.388424    0.236744  0.288644   1.000000         0.619342   \nBANCO DO BRASIL  0.491199    0.280760  0.373793   0.619342         1.000000   \nBOVA             0.602952    0.372354  0.464297   0.707454         0.794083   \n\n                     BOVA  \nAMBEV            0.602952  \nODONTOPREV       0.372354  \nVIVO             0.464297  \nPETROBRAS        0.707454  \nBANCO DO BRASIL  0.794083  \nBOVA             1.000000  ",
      "text/html": "<div>\n<style scoped>\n    .dataframe tbody tr th:only-of-type {\n        vertical-align: middle;\n    }\n\n    .dataframe tbody tr th {\n        vertical-align: top;\n    }\n\n    .dataframe thead th {\n        text-align: right;\n    }\n</style>\n<table border=\"1\" class=\"dataframe\">\n  <thead>\n    <tr style=\"text-align: right;\">\n      <th></th>\n      <th>AMBEV</th>\n      <th>ODONTOPREV</th>\n      <th>VIVO</th>\n      <th>PETROBRAS</th>\n      <th>BANCO DO BRASIL</th>\n      <th>BOVA</th>\n    </tr>\n  </thead>\n  <tbody>\n    <tr>\n      <th>AMBEV</th>\n      <td>1.000000</td>\n      <td>0.205036</td>\n      <td>0.387269</td>\n      <td>0.388424</td>\n      <td>0.491199</td>\n      <td>0.602952</td>\n    </tr>\n    <tr>\n      <th>ODONTOPREV</th>\n      <td>0.205036</td>\n      <td>1.000000</td>\n      <td>0.244082</td>\n      <td>0.236744</td>\n      <td>0.280760</td>\n      <td>0.372354</td>\n    </tr>\n    <tr>\n      <th>VIVO</th>\n      <td>0.387269</td>\n      <td>0.244082</td>\n      <td>1.000000</td>\n      <td>0.288644</td>\n      <td>0.373793</td>\n      <td>0.464297</td>\n    </tr>\n    <tr>\n      <th>PETROBRAS</th>\n      <td>0.388424</td>\n      <td>0.236744</td>\n      <td>0.288644</td>\n      <td>1.000000</td>\n      <td>0.619342</td>\n      <td>0.707454</td>\n    </tr>\n    <tr>\n      <th>BANCO DO BRASIL</th>\n      <td>0.491199</td>\n      <td>0.280760</td>\n      <td>0.373793</td>\n      <td>0.619342</td>\n      <td>1.000000</td>\n      <td>0.794083</td>\n    </tr>\n    <tr>\n      <th>BOVA</th>\n      <td>0.602952</td>\n      <td>0.372354</td>\n      <td>0.464297</td>\n      <td>0.707454</td>\n      <td>0.794083</td>\n      <td>1.000000</td>\n    </tr>\n  </tbody>\n</table>\n</div>"
     },
     "execution_count": 84,
     "metadata": {},
     "output_type": "execute_result"
    }
   ]
  },
  {
   "cell_type": "code",
   "metadata": {
    "colab": {
     "base_uri": "https://localhost:8080/",
     "height": 507
    },
    "id": "LGkZkuG8zfcT",
    "outputId": "10d98031-585e-4c27-eb26-12b71772abfb",
    "ExecuteTime": {
     "end_time": "2024-01-17T19:09:03.282819Z",
     "start_time": "2024-01-17T19:09:03.095698Z"
    }
   },
   "source": [
    "plt.figure(figsize=(8,8))\n",
    "sns.heatmap(taxas_retorno.corr(), annot=True);"
   ],
   "execution_count": 85,
   "outputs": [
    {
     "data": {
      "text/plain": "<Figure size 800x800 with 2 Axes>",
      "image/png": "[encoded data removed]"
     },
     "metadata": {},
     "output_type": "display_data"
    }
   ]
  },
  {
   "cell_type": "markdown",
   "metadata": {
    "id": "_leJrS3iJCWQ"
   },
   "source": [
    "## Risco de um portfólio"
   ]
  },
  {
   "cell_type": "markdown",
   "metadata": {
    "id": "OaQ_6HmNYXTX"
   },
   "source": [
    "### Somente duas ações"
   ]
  },
  {
   "cell_type": "code",
   "metadata": {
    "colab": {
     "base_uri": "https://localhost:8080/",
     "height": 447
    },
    "id": "Rl0_pBxZ1iKy",
    "outputId": "90619b73-cbdc-4f2d-8f9a-0540ef7d5b0d",
    "ExecuteTime": {
     "end_time": "2024-01-17T19:11:14.371663Z",
     "start_time": "2024-01-17T19:11:14.335807Z"
    }
   },
   "source": [
    "taxas_retorno"
   ],
   "execution_count": 86,
   "outputs": [
    {
     "data": {
      "text/plain": "         AMBEV  ODONTOPREV      VIVO  PETROBRAS  BANCO DO BRASIL      BOVA\n0          NaN         NaN       NaN        NaN              NaN       NaN\n1    -0.014063    0.012346  0.011609  -0.008143        -0.001673 -0.003851\n2     0.004754   -0.007549 -0.009631   0.011823        -0.013219 -0.010633\n3     0.002103   -0.025746  0.022139  -0.003895        -0.007547 -0.003109\n4    -0.004722    0.003003  0.010121  -0.006191        -0.009125 -0.002584\n...        ...         ...       ...        ...              ...       ...\n998  -0.006565   -0.037368  0.004600  -0.008587        -0.014995 -0.007622\n999   0.010279    0.010970  0.007764  -0.009186        -0.001651 -0.005094\n1000 -0.014535   -0.001669 -0.005531   0.008477         0.006798 -0.001024\n1001  0.002212    0.003344  0.008542   0.002627         0.005839  0.003312\n1002  0.000000   -0.004167 -0.000788   0.010218         0.016147  0.003458\n\n[1003 rows x 6 columns]",
      "text/html": "<div>\n<style scoped>\n    .dataframe tbody tr th:only-of-type {\n        vertical-align: middle;\n    }\n\n    .dataframe tbody tr th {\n        vertical-align: top;\n    }\n\n    .dataframe thead th {\n        text-align: right;\n    }\n</style>\n<table border=\"1\" class=\"dataframe\">\n  <thead>\n    <tr style=\"text-align: right;\">\n      <th></th>\n      <th>AMBEV</th>\n      <th>ODONTOPREV</th>\n      <th>VIVO</th>\n      <th>PETROBRAS</th>\n      <th>BANCO DO BRASIL</th>\n      <th>BOVA</th>\n    </tr>\n  </thead>\n  <tbody>\n    <tr>\n      <th>0</th>\n      <td>NaN</td>\n      <td>NaN</td>\n      <td>NaN</td>\n      <td>NaN</td>\n      <td>NaN</td>\n      <td>NaN</td>\n    </tr>\n    <tr>\n      <th>1</th>\n      <td>-0.014063</td>\n      <td>0.012346</td>\n      <td>0.011609</td>\n      <td>-0.008143</td>\n      <td>-0.001673</td>\n      <td>-0.003851</td>\n    </tr>\n    <tr>\n      <th>2</th>\n      <td>0.004754</td>\n      <td>-0.007549</td>\n      <td>-0.009631</td>\n      <td>0.011823</td>\n      <td>-0.013219</td>\n      <td>-0.010633</td>\n    </tr>\n    <tr>\n      <th>3</th>\n      <td>0.002103</td>\n      <td>-0.025746</td>\n      <td>0.022139</td>\n      <td>-0.003895</td>\n      <td>-0.007547</td>\n      <td>-0.003109</td>\n    </tr>\n    <tr>\n      <th>4</th>\n      <td>-0.004722</td>\n      <td>0.003003</td>\n      <td>0.010121</td>\n      <td>-0.006191</td>\n      <td>-0.009125</td>\n      <td>-0.002584</td>\n    </tr>\n    <tr>\n      <th>...</th>\n      <td>...</td>\n      <td>...</td>\n      <td>...</td>\n      <td>...</td>\n      <td>...</td>\n      <td>...</td>\n    </tr>\n    <tr>\n      <th>998</th>\n      <td>-0.006565</td>\n      <td>-0.037368</td>\n      <td>0.004600</td>\n      <td>-0.008587</td>\n      <td>-0.014995</td>\n      <td>-0.007622</td>\n    </tr>\n    <tr>\n      <th>999</th>\n      <td>0.010279</td>\n      <td>0.010970</td>\n      <td>0.007764</td>\n      <td>-0.009186</td>\n      <td>-0.001651</td>\n      <td>-0.005094</td>\n    </tr>\n    <tr>\n      <th>1000</th>\n      <td>-0.014535</td>\n      <td>-0.001669</td>\n      <td>-0.005531</td>\n      <td>0.008477</td>\n      <td>0.006798</td>\n      <td>-0.001024</td>\n    </tr>\n    <tr>\n      <th>1001</th>\n      <td>0.002212</td>\n      <td>0.003344</td>\n      <td>0.008542</td>\n      <td>0.002627</td>\n      <td>0.005839</td>\n      <td>0.003312</td>\n    </tr>\n    <tr>\n      <th>1002</th>\n      <td>0.000000</td>\n      <td>-0.004167</td>\n      <td>-0.000788</td>\n      <td>0.010218</td>\n      <td>0.016147</td>\n      <td>0.003458</td>\n    </tr>\n  </tbody>\n</table>\n<p>1003 rows × 6 columns</p>\n</div>"
     },
     "execution_count": 86,
     "metadata": {},
     "output_type": "execute_result"
    }
   ]
  },
  {
   "cell_type": "code",
   "metadata": {
    "colab": {
     "base_uri": "https://localhost:8080/",
     "height": 447
    },
    "id": "8zzZJquB1p1P",
    "outputId": "254495b6-0edb-4569-90dc-42d229a479ca",
    "ExecuteTime": {
     "end_time": "2024-01-17T19:12:46.612336Z",
     "start_time": "2024-01-17T19:12:46.592535Z"
    }
   },
   "source": [
    "taxas_retorno_ambev_odontoprev = taxas_retorno.drop(columns = ['VIVO', 'PETROBRAS', 'BANCO DO BRASIL', 'BOVA'])\n",
    "taxas_retorno_ambev_odontoprev"
   ],
   "execution_count": 87,
   "outputs": [
    {
     "data": {
      "text/plain": "         AMBEV  ODONTOPREV\n0          NaN         NaN\n1    -0.014063    0.012346\n2     0.004754   -0.007549\n3     0.002103   -0.025746\n4    -0.004722    0.003003\n...        ...         ...\n998  -0.006565   -0.037368\n999   0.010279    0.010970\n1000 -0.014535   -0.001669\n1001  0.002212    0.003344\n1002  0.000000   -0.004167\n\n[1003 rows x 2 columns]",
      "text/html": "<div>\n<style scoped>\n    .dataframe tbody tr th:only-of-type {\n        vertical-align: middle;\n    }\n\n    .dataframe tbody tr th {\n        vertical-align: top;\n    }\n\n    .dataframe thead th {\n        text-align: right;\n    }\n</style>\n<table border=\"1\" class=\"dataframe\">\n  <thead>\n    <tr style=\"text-align: right;\">\n      <th></th>\n      <th>AMBEV</th>\n      <th>ODONTOPREV</th>\n    </tr>\n  </thead>\n  <tbody>\n    <tr>\n      <th>0</th>\n      <td>NaN</td>\n      <td>NaN</td>\n    </tr>\n    <tr>\n      <th>1</th>\n      <td>-0.014063</td>\n      <td>0.012346</td>\n    </tr>\n    <tr>\n      <th>2</th>\n      <td>0.004754</td>\n      <td>-0.007549</td>\n    </tr>\n    <tr>\n      <th>3</th>\n      <td>0.002103</td>\n      <td>-0.025746</td>\n    </tr>\n    <tr>\n      <th>4</th>\n      <td>-0.004722</td>\n      <td>0.003003</td>\n    </tr>\n    <tr>\n      <th>...</th>\n      <td>...</td>\n      <td>...</td>\n    </tr>\n    <tr>\n      <th>998</th>\n      <td>-0.006565</td>\n      <td>-0.037368</td>\n    </tr>\n    <tr>\n      <th>999</th>\n      <td>0.010279</td>\n      <td>0.010970</td>\n    </tr>\n    <tr>\n      <th>1000</th>\n      <td>-0.014535</td>\n      <td>-0.001669</td>\n    </tr>\n    <tr>\n      <th>1001</th>\n      <td>0.002212</td>\n      <td>0.003344</td>\n    </tr>\n    <tr>\n      <th>1002</th>\n      <td>0.000000</td>\n      <td>-0.004167</td>\n    </tr>\n  </tbody>\n</table>\n<p>1003 rows × 2 columns</p>\n</div>"
     },
     "execution_count": 87,
     "metadata": {},
     "output_type": "execute_result"
    }
   ]
  },
  {
   "cell_type": "code",
   "metadata": {
    "colab": {
     "base_uri": "https://localhost:8080/",
     "height": 133
    },
    "id": "pCjrtLl_2FbJ",
    "outputId": "37a47b32-e820-4996-b99c-da26232a4a10",
    "ExecuteTime": {
     "end_time": "2024-01-17T19:12:58.027362Z",
     "start_time": "2024-01-17T19:12:58.005653Z"
    }
   },
   "source": [
    "taxas_retorno_ambev_odontoprev.cov()"
   ],
   "execution_count": 88,
   "outputs": [
    {
     "data": {
      "text/plain": "               AMBEV  ODONTOPREV\nAMBEV       0.000409    0.000094\nODONTOPREV  0.000094    0.000510",
      "text/html": "<div>\n<style scoped>\n    .dataframe tbody tr th:only-of-type {\n        vertical-align: middle;\n    }\n\n    .dataframe tbody tr th {\n        vertical-align: top;\n    }\n\n    .dataframe thead th {\n        text-align: right;\n    }\n</style>\n<table border=\"1\" class=\"dataframe\">\n  <thead>\n    <tr style=\"text-align: right;\">\n      <th></th>\n      <th>AMBEV</th>\n      <th>ODONTOPREV</th>\n    </tr>\n  </thead>\n  <tbody>\n    <tr>\n      <th>AMBEV</th>\n      <td>0.000409</td>\n      <td>0.000094</td>\n    </tr>\n    <tr>\n      <th>ODONTOPREV</th>\n      <td>0.000094</td>\n      <td>0.000510</td>\n    </tr>\n  </tbody>\n</table>\n</div>"
     },
     "execution_count": 88,
     "metadata": {},
     "output_type": "execute_result"
    }
   ]
  },
  {
   "cell_type": "code",
   "metadata": {
    "colab": {
     "base_uri": "https://localhost:8080/",
     "height": 133
    },
    "id": "G_N-BvVk2UQv",
    "outputId": "b012ad19-bc43-418f-d339-39b734f29ce3",
    "ExecuteTime": {
     "end_time": "2024-01-17T19:13:17.643377Z",
     "start_time": "2024-01-17T19:13:17.620030Z"
    }
   },
   "source": [
    "taxas_retorno_ambev_odontoprev.cov() * 246"
   ],
   "execution_count": 89,
   "outputs": [
    {
     "data": {
      "text/plain": "               AMBEV  ODONTOPREV\nAMBEV       0.100609    0.023041\nODONTOPREV  0.023041    0.125515",
      "text/html": "<div>\n<style scoped>\n    .dataframe tbody tr th:only-of-type {\n        vertical-align: middle;\n    }\n\n    .dataframe tbody tr th {\n        vertical-align: top;\n    }\n\n    .dataframe thead th {\n        text-align: right;\n    }\n</style>\n<table border=\"1\" class=\"dataframe\">\n  <thead>\n    <tr style=\"text-align: right;\">\n      <th></th>\n      <th>AMBEV</th>\n      <th>ODONTOPREV</th>\n    </tr>\n  </thead>\n  <tbody>\n    <tr>\n      <th>AMBEV</th>\n      <td>0.100609</td>\n      <td>0.023041</td>\n    </tr>\n    <tr>\n      <th>ODONTOPREV</th>\n      <td>0.023041</td>\n      <td>0.125515</td>\n    </tr>\n  </tbody>\n</table>\n</div>"
     },
     "execution_count": 89,
     "metadata": {},
     "output_type": "execute_result"
    }
   ]
  },
  {
   "cell_type": "code",
   "metadata": {
    "id": "BNzJdylB2gUx",
    "ExecuteTime": {
     "end_time": "2024-01-17T19:14:43.618384Z",
     "start_time": "2024-01-17T19:14:43.604907Z"
    }
   },
   "source": [
    "pesos = np.array([0.5, 0.5])"
   ],
   "execution_count": 90,
   "outputs": []
  },
  {
   "cell_type": "code",
   "metadata": {
    "colab": {
     "base_uri": "https://localhost:8080/"
    },
    "id": "SOYUEJdg5AZu",
    "outputId": "d6896ba8-f69a-41e2-80b7-3af79cd5014a",
    "ExecuteTime": {
     "end_time": "2024-01-17T19:22:28.211033Z",
     "start_time": "2024-01-17T19:22:28.195238Z"
    }
   },
   "source": [
    "np.dot(taxas_retorno_ambev_odontoprev.cov() * 246, pesos)"
   ],
   "execution_count": 91,
   "outputs": [
    {
     "data": {
      "text/plain": "array([0.06182484, 0.07427783])"
     },
     "execution_count": 91,
     "metadata": {},
     "output_type": "execute_result"
    }
   ]
  },
  {
   "cell_type": "code",
   "metadata": {
    "colab": {
     "base_uri": "https://localhost:8080/"
    },
    "id": "_kMUpXQf5YdV",
    "outputId": "d48cb10b-111d-4dbf-e95b-792b05a564ce",
    "ExecuteTime": {
     "end_time": "2024-01-17T19:23:32.236761Z",
     "start_time": "2024-01-17T19:23:32.217592Z"
    }
   },
   "source": [
    "np.dot(pesos, np.dot(taxas_retorno_ambev_odontoprev.cov() * 246, pesos))"
   ],
   "execution_count": 92,
   "outputs": [
    {
     "data": {
      "text/plain": "0.0680513358852508"
     },
     "execution_count": 92,
     "metadata": {},
     "output_type": "execute_result"
    }
   ]
  },
  {
   "cell_type": "code",
   "metadata": {
    "colab": {
     "base_uri": "https://localhost:8080/"
    },
    "id": "FVUlcRa25olE",
    "outputId": "aee89f02-2964-4ee3-ce6b-edf7a2d8cdd8",
    "ExecuteTime": {
     "end_time": "2024-01-17T19:23:54.802028Z",
     "start_time": "2024-01-17T19:23:54.785089Z"
    }
   },
   "source": [
    "math.sqrt(np.dot(pesos, np.dot(taxas_retorno_ambev_odontoprev.cov() * 246, pesos))) * 100"
   ],
   "execution_count": 93,
   "outputs": [
    {
     "data": {
      "text/plain": "26.08665097041987"
     },
     "execution_count": 93,
     "metadata": {},
     "output_type": "execute_result"
    }
   ]
  },
  {
   "cell_type": "markdown",
   "metadata": {
    "id": "c1wTpHntY717"
   },
   "source": [
    "### Todas as ações"
   ]
  },
  {
   "cell_type": "code",
   "metadata": {
    "colab": {
     "base_uri": "https://localhost:8080/"
    },
    "id": "_gGk8djnGW85",
    "outputId": "5b6ffe6a-8630-4a25-a611-0550df74a943",
    "ExecuteTime": {
     "end_time": "2024-01-17T19:24:17.886158Z",
     "start_time": "2024-01-17T19:24:17.874598Z"
    }
   },
   "source": [
    "dataset.columns"
   ],
   "execution_count": 94,
   "outputs": [
    {
     "data": {
      "text/plain": "Index(['AMBEV', 'ODONTOPREV', 'VIVO', 'PETROBRAS', 'BANCO DO BRASIL', 'BOVA'], dtype='object')"
     },
     "execution_count": 94,
     "metadata": {},
     "output_type": "execute_result"
    }
   ]
  },
  {
   "cell_type": "code",
   "metadata": {
    "id": "wl9N5jK1GQCO",
    "ExecuteTime": {
     "end_time": "2024-01-17T19:25:04.000622Z",
     "start_time": "2024-01-17T19:25:03.995707Z"
    }
   },
   "source": [
    "pesos1 = np.array([0.2, 0.2, 0.2, 0.2, 0.2, 0.0])"
   ],
   "execution_count": 95,
   "outputs": []
  },
  {
   "cell_type": "code",
   "metadata": {
    "colab": {
     "base_uri": "https://localhost:8080/"
    },
    "id": "sLrPy70XGkaT",
    "outputId": "aa180e5d-0016-48c7-f6fd-f5ec51bdaa0a",
    "ExecuteTime": {
     "end_time": "2024-01-17T19:25:06.728283Z",
     "start_time": "2024-01-17T19:25:06.716855Z"
    }
   },
   "source": [
    "pesos1.sum()"
   ],
   "execution_count": 96,
   "outputs": [
    {
     "data": {
      "text/plain": "1.0"
     },
     "execution_count": 96,
     "metadata": {},
     "output_type": "execute_result"
    }
   ]
  },
  {
   "cell_type": "code",
   "metadata": {
    "colab": {
     "base_uri": "https://localhost:8080/",
     "height": 260
    },
    "id": "V-KXY8uyGmoV",
    "outputId": "128de9c8-0021-4d21-de58-a43a538833d9",
    "ExecuteTime": {
     "end_time": "2024-01-17T19:25:15.210657Z",
     "start_time": "2024-01-17T19:25:15.198371Z"
    }
   },
   "source": [
    "taxas_retorno.cov() * 246"
   ],
   "execution_count": 97,
   "outputs": [
    {
     "data": {
      "text/plain": "                    AMBEV  ODONTOPREV      VIVO  PETROBRAS  BANCO DO BRASIL  \\\nAMBEV            0.100609    0.023041  0.034225   0.060548         0.062014   \nODONTOPREV       0.023041    0.125515  0.024094   0.041219         0.039591   \nVIVO             0.034225    0.024094  0.077631   0.039523         0.041454   \nPETROBRAS        0.060548    0.041219  0.039523   0.241518         0.121149   \nBANCO DO BRASIL  0.062014    0.039591  0.041454   0.121149         0.158427   \nBOVA             0.053346    0.036796  0.036084   0.096977         0.088161   \n\n                     BOVA  \nAMBEV            0.053346  \nODONTOPREV       0.036796  \nVIVO             0.036084  \nPETROBRAS        0.096977  \nBANCO DO BRASIL  0.088161  \nBOVA             0.077803  ",
      "text/html": "<div>\n<style scoped>\n    .dataframe tbody tr th:only-of-type {\n        vertical-align: middle;\n    }\n\n    .dataframe tbody tr th {\n        vertical-align: top;\n    }\n\n    .dataframe thead th {\n        text-align: right;\n    }\n</style>\n<table border=\"1\" class=\"dataframe\">\n  <thead>\n    <tr style=\"text-align: right;\">\n      <th></th>\n      <th>AMBEV</th>\n      <th>ODONTOPREV</th>\n      <th>VIVO</th>\n      <th>PETROBRAS</th>\n      <th>BANCO DO BRASIL</th>\n      <th>BOVA</th>\n    </tr>\n  </thead>\n  <tbody>\n    <tr>\n      <th>AMBEV</th>\n      <td>0.100609</td>\n      <td>0.023041</td>\n      <td>0.034225</td>\n      <td>0.060548</td>\n      <td>0.062014</td>\n      <td>0.053346</td>\n    </tr>\n    <tr>\n      <th>ODONTOPREV</th>\n      <td>0.023041</td>\n      <td>0.125515</td>\n      <td>0.024094</td>\n      <td>0.041219</td>\n      <td>0.039591</td>\n      <td>0.036796</td>\n    </tr>\n    <tr>\n      <th>VIVO</th>\n      <td>0.034225</td>\n      <td>0.024094</td>\n      <td>0.077631</td>\n      <td>0.039523</td>\n      <td>0.041454</td>\n      <td>0.036084</td>\n    </tr>\n    <tr>\n      <th>PETROBRAS</th>\n      <td>0.060548</td>\n      <td>0.041219</td>\n      <td>0.039523</td>\n      <td>0.241518</td>\n      <td>0.121149</td>\n      <td>0.096977</td>\n    </tr>\n    <tr>\n      <th>BANCO DO BRASIL</th>\n      <td>0.062014</td>\n      <td>0.039591</td>\n      <td>0.041454</td>\n      <td>0.121149</td>\n      <td>0.158427</td>\n      <td>0.088161</td>\n    </tr>\n    <tr>\n      <th>BOVA</th>\n      <td>0.053346</td>\n      <td>0.036796</td>\n      <td>0.036084</td>\n      <td>0.096977</td>\n      <td>0.088161</td>\n      <td>0.077803</td>\n    </tr>\n  </tbody>\n</table>\n</div>"
     },
     "execution_count": 97,
     "metadata": {},
     "output_type": "execute_result"
    }
   ]
  },
  {
   "cell_type": "code",
   "metadata": {
    "colab": {
     "base_uri": "https://localhost:8080/"
    },
    "id": "h-C4Z_fXG2q2",
    "outputId": "c8a10126-97c3-4e19-8397-dc2f11e753f4",
    "ExecuteTime": {
     "end_time": "2024-01-17T19:25:39.017738Z",
     "start_time": "2024-01-17T19:25:39.001167Z"
    }
   },
   "source": [
    "np.dot(taxas_retorno.cov() * 246, pesos1)"
   ],
   "execution_count": 98,
   "outputs": [
    {
     "data": {
      "text/plain": "array([0.05608739, 0.05069195, 0.0433853 , 0.10079154, 0.08452682,\n       0.0622728 ])"
     },
     "execution_count": 98,
     "metadata": {},
     "output_type": "execute_result"
    }
   ]
  },
  {
   "cell_type": "code",
   "metadata": {
    "colab": {
     "base_uri": "https://localhost:8080/"
    },
    "id": "Rh8Q5vVLHFDe",
    "outputId": "1d6c76d5-739f-4b8c-89f1-3f7c64ffda69",
    "ExecuteTime": {
     "end_time": "2024-01-17T19:25:49.748956Z",
     "start_time": "2024-01-17T19:25:49.733266Z"
    }
   },
   "source": [
    "variancia_portfolio1 = np.dot(pesos1, np.dot(taxas_retorno.cov() * 246, pesos1))\n",
    "variancia_portfolio1"
   ],
   "execution_count": 99,
   "outputs": [
    {
     "data": {
      "text/plain": "0.06709660044292025"
     },
     "execution_count": 99,
     "metadata": {},
     "output_type": "execute_result"
    }
   ]
  },
  {
   "cell_type": "code",
   "metadata": {
    "colab": {
     "base_uri": "https://localhost:8080/"
    },
    "id": "q-u0ph4HHP1L",
    "outputId": "54b968ba-f28f-495d-e87a-aee79967dc49",
    "ExecuteTime": {
     "end_time": "2024-01-17T19:26:43.966251Z",
     "start_time": "2024-01-17T19:26:43.943879Z"
    }
   },
   "source": [
    "volatilidade_portfolio1 = math.sqrt(variancia_portfolio1)\n",
    "volatilidade_portfolio1 * 100"
   ],
   "execution_count": 101,
   "outputs": [
    {
     "data": {
      "text/plain": "25.90301149343841"
     },
     "execution_count": 101,
     "metadata": {},
     "output_type": "execute_result"
    }
   ]
  },
  {
   "cell_type": "code",
   "metadata": {
    "id": "Bz5n1c6VHzwg",
    "ExecuteTime": {
     "end_time": "2024-01-17T19:27:04.031612Z",
     "start_time": "2024-01-17T19:27:04.011575Z"
    }
   },
   "source": [
    "pesos2 = np.array([0.0, 0.0, 0.0, 0.0, 0.0, 1.0])"
   ],
   "execution_count": 102,
   "outputs": []
  },
  {
   "cell_type": "code",
   "metadata": {
    "colab": {
     "base_uri": "https://localhost:8080/"
    },
    "id": "otEgx6tgH9li",
    "outputId": "2c358f58-8d64-476e-dce0-e7721b4d4763",
    "ExecuteTime": {
     "end_time": "2024-01-17T19:28:26.944156Z",
     "start_time": "2024-01-17T19:28:26.936457Z"
    }
   },
   "source": [
    "variancia_portfolio2 = np.dot(pesos2, np.dot(taxas_retorno.cov() * 246, pesos2))\n",
    "variancia_portfolio2 "
   ],
   "execution_count": 104,
   "outputs": [
    {
     "data": {
      "text/plain": "0.0778028292567613"
     },
     "execution_count": 104,
     "metadata": {},
     "output_type": "execute_result"
    }
   ]
  },
  {
   "cell_type": "code",
   "metadata": {
    "colab": {
     "base_uri": "https://localhost:8080/"
    },
    "id": "76SNhDpMIqZs",
    "outputId": "c5d0b0b8-5879-40f0-cb8d-258af0691004",
    "ExecuteTime": {
     "end_time": "2024-01-17T19:28:37.963679Z",
     "start_time": "2024-01-17T19:28:37.948883Z"
    }
   },
   "source": [
    "volatilidade_portfolio2 = math.sqrt(variancia_portfolio2)\n",
    "volatilidade_portfolio2 * 100"
   ],
   "execution_count": 105,
   "outputs": [
    {
     "data": {
      "text/plain": "27.893158526198015"
     },
     "execution_count": 105,
     "metadata": {},
     "output_type": "execute_result"
    }
   ]
  },
  {
   "cell_type": "markdown",
   "metadata": {
    "id": "n7kDc5w4cRK6"
   },
   "source": [
    "## Risco sistemático e não sistemático\n",
    "\n",
    "- Risco sistemático: mudança diária no preço das ações, devido a eventos como recessão da economia, comportamento do cliente (eventos externos). Não pode ser eliminado e pode afetar todas as empresas\n",
    "- Risco não sistemático: Eventos específicos na empresa (depende do tipo de empresa)"
   ]
  },
  {
   "cell_type": "code",
   "metadata": {
    "colab": {
     "base_uri": "https://localhost:8080/",
     "height": 447
    },
    "id": "MSRjmyHqKoHO",
    "outputId": "310815c0-10bc-4f0c-8951-d8b2045ea091",
    "ExecuteTime": {
     "end_time": "2024-01-17T19:30:03.729246Z",
     "start_time": "2024-01-17T19:30:03.693855Z"
    }
   },
   "source": [
    "taxas_retorno"
   ],
   "execution_count": 106,
   "outputs": [
    {
     "data": {
      "text/plain": "         AMBEV  ODONTOPREV      VIVO  PETROBRAS  BANCO DO BRASIL      BOVA\n0          NaN         NaN       NaN        NaN              NaN       NaN\n1    -0.014063    0.012346  0.011609  -0.008143        -0.001673 -0.003851\n2     0.004754   -0.007549 -0.009631   0.011823        -0.013219 -0.010633\n3     0.002103   -0.025746  0.022139  -0.003895        -0.007547 -0.003109\n4    -0.004722    0.003003  0.010121  -0.006191        -0.009125 -0.002584\n...        ...         ...       ...        ...              ...       ...\n998  -0.006565   -0.037368  0.004600  -0.008587        -0.014995 -0.007622\n999   0.010279    0.010970  0.007764  -0.009186        -0.001651 -0.005094\n1000 -0.014535   -0.001669 -0.005531   0.008477         0.006798 -0.001024\n1001  0.002212    0.003344  0.008542   0.002627         0.005839  0.003312\n1002  0.000000   -0.004167 -0.000788   0.010218         0.016147  0.003458\n\n[1003 rows x 6 columns]",
      "text/html": "<div>\n<style scoped>\n    .dataframe tbody tr th:only-of-type {\n        vertical-align: middle;\n    }\n\n    .dataframe tbody tr th {\n        vertical-align: top;\n    }\n\n    .dataframe thead th {\n        text-align: right;\n    }\n</style>\n<table border=\"1\" class=\"dataframe\">\n  <thead>\n    <tr style=\"text-align: right;\">\n      <th></th>\n      <th>AMBEV</th>\n      <th>ODONTOPREV</th>\n      <th>VIVO</th>\n      <th>PETROBRAS</th>\n      <th>BANCO DO BRASIL</th>\n      <th>BOVA</th>\n    </tr>\n  </thead>\n  <tbody>\n    <tr>\n      <th>0</th>\n      <td>NaN</td>\n      <td>NaN</td>\n      <td>NaN</td>\n      <td>NaN</td>\n      <td>NaN</td>\n      <td>NaN</td>\n    </tr>\n    <tr>\n      <th>1</th>\n      <td>-0.014063</td>\n      <td>0.012346</td>\n      <td>0.011609</td>\n      <td>-0.008143</td>\n      <td>-0.001673</td>\n      <td>-0.003851</td>\n    </tr>\n    <tr>\n      <th>2</th>\n      <td>0.004754</td>\n      <td>-0.007549</td>\n      <td>-0.009631</td>\n      <td>0.011823</td>\n      <td>-0.013219</td>\n      <td>-0.010633</td>\n    </tr>\n    <tr>\n      <th>3</th>\n      <td>0.002103</td>\n      <td>-0.025746</td>\n      <td>0.022139</td>\n      <td>-0.003895</td>\n      <td>-0.007547</td>\n      <td>-0.003109</td>\n    </tr>\n    <tr>\n      <th>4</th>\n      <td>-0.004722</td>\n      <td>0.003003</td>\n      <td>0.010121</td>\n      <td>-0.006191</td>\n      <td>-0.009125</td>\n      <td>-0.002584</td>\n    </tr>\n    <tr>\n      <th>...</th>\n      <td>...</td>\n      <td>...</td>\n      <td>...</td>\n      <td>...</td>\n      <td>...</td>\n      <td>...</td>\n    </tr>\n    <tr>\n      <th>998</th>\n      <td>-0.006565</td>\n      <td>-0.037368</td>\n      <td>0.004600</td>\n      <td>-0.008587</td>\n      <td>-0.014995</td>\n      <td>-0.007622</td>\n    </tr>\n    <tr>\n      <th>999</th>\n      <td>0.010279</td>\n      <td>0.010970</td>\n      <td>0.007764</td>\n      <td>-0.009186</td>\n      <td>-0.001651</td>\n      <td>-0.005094</td>\n    </tr>\n    <tr>\n      <th>1000</th>\n      <td>-0.014535</td>\n      <td>-0.001669</td>\n      <td>-0.005531</td>\n      <td>0.008477</td>\n      <td>0.006798</td>\n      <td>-0.001024</td>\n    </tr>\n    <tr>\n      <th>1001</th>\n      <td>0.002212</td>\n      <td>0.003344</td>\n      <td>0.008542</td>\n      <td>0.002627</td>\n      <td>0.005839</td>\n      <td>0.003312</td>\n    </tr>\n    <tr>\n      <th>1002</th>\n      <td>0.000000</td>\n      <td>-0.004167</td>\n      <td>-0.000788</td>\n      <td>0.010218</td>\n      <td>0.016147</td>\n      <td>0.003458</td>\n    </tr>\n  </tbody>\n</table>\n<p>1003 rows × 6 columns</p>\n</div>"
     },
     "execution_count": 106,
     "metadata": {},
     "output_type": "execute_result"
    }
   ]
  },
  {
   "cell_type": "code",
   "metadata": {
    "colab": {
     "base_uri": "https://localhost:8080/"
    },
    "id": "FCDxowKVKsfS",
    "outputId": "2a2a5329-588b-4688-f526-c7064b36118b",
    "ExecuteTime": {
     "end_time": "2024-01-17T19:30:44.668177Z",
     "start_time": "2024-01-17T19:30:44.652984Z"
    }
   },
   "source": [
    "pesos1"
   ],
   "execution_count": 107,
   "outputs": [
    {
     "data": {
      "text/plain": "array([0.2, 0.2, 0.2, 0.2, 0.2, 0. ])"
     },
     "execution_count": 107,
     "metadata": {},
     "output_type": "execute_result"
    }
   ]
  },
  {
   "cell_type": "code",
   "metadata": {
    "colab": {
     "base_uri": "https://localhost:8080/"
    },
    "id": "cZUl4RjJK408",
    "outputId": "5a9e548a-2dfc-452c-a66b-e396b7bbf53c",
    "ExecuteTime": {
     "end_time": "2024-01-17T19:30:47.667113Z",
     "start_time": "2024-01-17T19:30:47.650701Z"
    }
   },
   "source": [
    "pesos2"
   ],
   "execution_count": 108,
   "outputs": [
    {
     "data": {
      "text/plain": "array([0., 0., 0., 0., 0., 1.])"
     },
     "execution_count": 108,
     "metadata": {},
     "output_type": "execute_result"
    }
   ]
  },
  {
   "cell_type": "code",
   "metadata": {
    "colab": {
     "base_uri": "https://localhost:8080/"
    },
    "id": "RBSTwW0qK8rf",
    "outputId": "a53ea383-4644-49c4-cdc0-0366317b08db",
    "ExecuteTime": {
     "end_time": "2024-01-17T19:30:51.323523Z",
     "start_time": "2024-01-17T19:30:51.310103Z"
    }
   },
   "source": [
    "taxas_retorno.var() * 246"
   ],
   "execution_count": 109,
   "outputs": [
    {
     "data": {
      "text/plain": "AMBEV              0.100609\nODONTOPREV         0.125515\nVIVO               0.077631\nPETROBRAS          0.241518\nBANCO DO BRASIL    0.158427\nBOVA               0.077803\ndtype: float64"
     },
     "execution_count": 109,
     "metadata": {},
     "output_type": "execute_result"
    }
   ]
  },
  {
   "cell_type": "code",
   "metadata": {
    "colab": {
     "base_uri": "https://localhost:8080/"
    },
    "id": "ANESMtW1LcSA",
    "outputId": "1cf5d9ff-b8a7-4c52-b479-8927e1c9c986",
    "ExecuteTime": {
     "end_time": "2024-01-17T19:31:35.330611Z",
     "start_time": "2024-01-17T19:31:35.319256Z"
    }
   },
   "source": [
    "variancia_pesos1 = (taxas_retorno.var() * 246) * pesos1\n",
    "variancia_pesos1"
   ],
   "execution_count": 110,
   "outputs": [
    {
     "data": {
      "text/plain": "AMBEV              0.020122\nODONTOPREV         0.025103\nVIVO               0.015526\nPETROBRAS          0.048304\nBANCO DO BRASIL    0.031685\nBOVA               0.000000\ndtype: float64"
     },
     "execution_count": 110,
     "metadata": {},
     "output_type": "execute_result"
    }
   ]
  },
  {
   "cell_type": "code",
   "metadata": {
    "colab": {
     "base_uri": "https://localhost:8080/"
    },
    "id": "nONXZUzyLzfD",
    "outputId": "14b7efa4-323e-4abf-d4c0-f16c65ea3b8a",
    "ExecuteTime": {
     "end_time": "2024-01-17T19:32:04.060498Z",
     "start_time": "2024-01-17T19:32:04.041793Z"
    }
   },
   "source": [
    "sub1 = - variancia_pesos1[0] - variancia_pesos1[1] - variancia_pesos1[2] - variancia_pesos1[3] - variancia_pesos1[4] - variancia_pesos1[5] #Atualizado: 02/05/2021\n",
    "sub1"
   ],
   "execution_count": 111,
   "outputs": [
    {
     "data": {
      "text/plain": "-0.1407398306857708"
     },
     "execution_count": 111,
     "metadata": {},
     "output_type": "execute_result"
    }
   ]
  },
  {
   "cell_type": "code",
   "metadata": {
    "colab": {
     "base_uri": "https://localhost:8080/"
    },
    "id": "34Q_JMRMMIUT",
    "outputId": "2d5af47b-7988-4760-884f-2355c1e42ddd",
    "ExecuteTime": {
     "end_time": "2024-01-17T19:39:01.483690Z",
     "start_time": "2024-01-17T19:39:01.472596Z"
    }
   },
   "source": [
    "variancia_portfolio1"
   ],
   "execution_count": 114,
   "outputs": [
    {
     "data": {
      "text/plain": "0.06709660044292025"
     },
     "execution_count": 114,
     "metadata": {},
     "output_type": "execute_result"
    }
   ]
  },
  {
   "cell_type": "code",
   "metadata": {
    "colab": {
     "base_uri": "https://localhost:8080/"
    },
    "id": "L4q3AgcvMP0h",
    "outputId": "1ea4a3c9-5163-411c-8c0d-a6b2c854859f",
    "ExecuteTime": {
     "end_time": "2024-01-17T19:39:27.829252Z",
     "start_time": "2024-01-17T19:39:27.824581Z"
    }
   },
   "source": [
    "risco_nao_sistematico1 = (variancia_portfolio1 - sub1)\n",
    "risco_nao_sistematico1"
   ],
   "execution_count": 116,
   "outputs": [
    {
     "data": {
      "text/plain": "0.20783643112869105"
     },
     "execution_count": 116,
     "metadata": {},
     "output_type": "execute_result"
    }
   ]
  },
  {
   "cell_type": "code",
   "metadata": {
    "colab": {
     "base_uri": "https://localhost:8080/"
    },
    "id": "Wak9fBVoMqL7",
    "outputId": "b954ddaf-c410-44f5-9007-75a5076f14a9",
    "ExecuteTime": {
     "end_time": "2024-01-17T19:39:04.020759Z",
     "start_time": "2024-01-17T19:39:04.008951Z"
    }
   },
   "source": [
    "variancia_pesos2 = (taxas_retorno.var() * 246) * pesos2\n",
    "variancia_pesos2"
   ],
   "execution_count": 115,
   "outputs": [
    {
     "data": {
      "text/plain": "AMBEV              0.000000\nODONTOPREV         0.000000\nVIVO               0.000000\nPETROBRAS          0.000000\nBANCO DO BRASIL    0.000000\nBOVA               0.077803\ndtype: float64"
     },
     "execution_count": 115,
     "metadata": {},
     "output_type": "execute_result"
    }
   ]
  },
  {
   "cell_type": "code",
   "metadata": {
    "colab": {
     "base_uri": "https://localhost:8080/"
    },
    "id": "xWv0vjrAM1Kv",
    "outputId": "aed77908-ca32-444a-bfc8-76a568a1c3f8",
    "ExecuteTime": {
     "end_time": "2024-01-17T19:39:38.990384Z",
     "start_time": "2024-01-17T19:39:38.976819Z"
    }
   },
   "source": [
    "sub2 = variancia_pesos2[0] - variancia_pesos2[1] - variancia_pesos2[2] - variancia_pesos2[3] - variancia_pesos2[4] - variancia_pesos2[5]\n",
    "sub2"
   ],
   "execution_count": 117,
   "outputs": [
    {
     "data": {
      "text/plain": "-0.07780282925676144"
     },
     "execution_count": 117,
     "metadata": {},
     "output_type": "execute_result"
    }
   ]
  },
  {
   "cell_type": "code",
   "metadata": {
    "colab": {
     "base_uri": "https://localhost:8080/"
    },
    "id": "eS3DGJgAM76q",
    "outputId": "1c690654-4681-4455-9a75-e87640a2615b",
    "ExecuteTime": {
     "end_time": "2024-01-17T19:39:41.690989Z",
     "start_time": "2024-01-17T19:39:41.679135Z"
    }
   },
   "source": [
    "variancia_portfolio2"
   ],
   "execution_count": 118,
   "outputs": [
    {
     "data": {
      "text/plain": "0.0778028292567613"
     },
     "execution_count": 118,
     "metadata": {},
     "output_type": "execute_result"
    }
   ]
  },
  {
   "cell_type": "code",
   "metadata": {
    "colab": {
     "base_uri": "https://localhost:8080/"
    },
    "id": "9Aq29L-VNAJ0",
    "outputId": "420e4555-6b96-4497-e2de-09fa254fb6ca",
    "ExecuteTime": {
     "end_time": "2024-01-17T19:39:44.169383Z",
     "start_time": "2024-01-17T19:39:44.164587Z"
    }
   },
   "source": [
    "risco_nao_sistematico2 = (variancia_portfolio2 - sub2)\n",
    "risco_nao_sistematico2"
   ],
   "execution_count": 119,
   "outputs": [
    {
     "data": {
      "text/plain": "0.15560565851352273"
     },
     "execution_count": 119,
     "metadata": {},
     "output_type": "execute_result"
    }
   ]
  },
  {
   "cell_type": "markdown",
   "metadata": {
    "id": "MAEA6W5lqAeu"
   },
   "source": [
    "## Exercício"
   ]
  },
  {
   "cell_type": "code",
   "metadata": {
    "colab": {
     "base_uri": "https://localhost:8080/",
     "height": 447
    },
    "id": "KdBstl18qCA5",
    "outputId": "6ef11ebc-3d44-421c-9302-9613e7578b31",
    "ExecuteTime": {
     "end_time": "2024-01-17T19:44:14.528566Z",
     "start_time": "2024-01-17T19:44:14.516504Z"
    }
   },
   "source": [
    "dataset = pd.read_csv('acoes.csv')\n",
    "dataset"
   ],
   "execution_count": 127,
   "outputs": [
    {
     "data": {
      "text/plain": "            Date      AMBEV  ODONTOPREV       VIVO  PETROBRAS  \\\n0     2020-01-02  19.200001   17.010000  48.240002  30.700001   \n1     2020-01-03  18.930000   17.219999  48.799999  30.450001   \n2     2020-01-06  19.020000   17.090000  48.330002  30.809999   \n3     2020-01-07  19.059999   16.650000  49.400002  30.690001   \n4     2020-01-08  18.969999   16.700001  49.900002  30.500000   \n...          ...        ...         ...        ...        ...   \n998   2024-01-09  13.620000   11.850000  50.230000  38.099998   \n999   2024-01-10  13.760000   11.980000  50.619999  37.750000   \n1000  2024-01-11  13.560000   11.960000  50.340000  38.070000   \n1001  2024-01-12  13.590000   12.000000  50.770000  38.169998   \n1002  2024-01-15  13.590000   11.950000  50.730000  38.560001   \n\n      BANCO DO BRASIL        BOVA  \n0           53.799999  114.239998  \n1           53.709999  113.800003  \n2           53.000000  112.589996  \n3           52.599998  112.239998  \n4           52.119999  111.949997  \n...               ...         ...  \n998         54.520000  127.589996  \n999         54.430000  126.940002  \n1000        54.799999  126.809998  \n1001        55.119999  127.230003  \n1002        56.009998  127.669998  \n\n[1003 rows x 7 columns]",
      "text/html": "<div>\n<style scoped>\n    .dataframe tbody tr th:only-of-type {\n        vertical-align: middle;\n    }\n\n    .dataframe tbody tr th {\n        vertical-align: top;\n    }\n\n    .dataframe thead th {\n        text-align: right;\n    }\n</style>\n<table border=\"1\" class=\"dataframe\">\n  <thead>\n    <tr style=\"text-align: right;\">\n      <th></th>\n      <th>Date</th>\n      <th>AMBEV</th>\n      <th>ODONTOPREV</th>\n      <th>VIVO</th>\n      <th>PETROBRAS</th>\n      <th>BANCO DO BRASIL</th>\n      <th>BOVA</th>\n    </tr>\n  </thead>\n  <tbody>\n    <tr>\n      <th>0</th>\n      <td>2020-01-02</td>\n      <td>19.200001</td>\n      <td>17.010000</td>\n      <td>48.240002</td>\n      <td>30.700001</td>\n      <td>53.799999</td>\n      <td>114.239998</td>\n    </tr>\n    <tr>\n      <th>1</th>\n      <td>2020-01-03</td>\n      <td>18.930000</td>\n      <td>17.219999</td>\n      <td>48.799999</td>\n      <td>30.450001</td>\n      <td>53.709999</td>\n      <td>113.800003</td>\n    </tr>\n    <tr>\n      <th>2</th>\n      <td>2020-01-06</td>\n      <td>19.020000</td>\n      <td>17.090000</td>\n      <td>48.330002</td>\n      <td>30.809999</td>\n      <td>53.000000</td>\n      <td>112.589996</td>\n    </tr>\n    <tr>\n      <th>3</th>\n      <td>2020-01-07</td>\n      <td>19.059999</td>\n      <td>16.650000</td>\n      <td>49.400002</td>\n      <td>30.690001</td>\n      <td>52.599998</td>\n      <td>112.239998</td>\n    </tr>\n    <tr>\n      <th>4</th>\n      <td>2020-01-08</td>\n      <td>18.969999</td>\n      <td>16.700001</td>\n      <td>49.900002</td>\n      <td>30.500000</td>\n      <td>52.119999</td>\n      <td>111.949997</td>\n    </tr>\n    <tr>\n      <th>...</th>\n      <td>...</td>\n      <td>...</td>\n      <td>...</td>\n      <td>...</td>\n      <td>...</td>\n      <td>...</td>\n      <td>...</td>\n    </tr>\n    <tr>\n      <th>998</th>\n      <td>2024-01-09</td>\n      <td>13.620000</td>\n      <td>11.850000</td>\n      <td>50.230000</td>\n      <td>38.099998</td>\n      <td>54.520000</td>\n      <td>127.589996</td>\n    </tr>\n    <tr>\n      <th>999</th>\n      <td>2024-01-10</td>\n      <td>13.760000</td>\n      <td>11.980000</td>\n      <td>50.619999</td>\n      <td>37.750000</td>\n      <td>54.430000</td>\n      <td>126.940002</td>\n    </tr>\n    <tr>\n      <th>1000</th>\n      <td>2024-01-11</td>\n      <td>13.560000</td>\n      <td>11.960000</td>\n      <td>50.340000</td>\n      <td>38.070000</td>\n      <td>54.799999</td>\n      <td>126.809998</td>\n    </tr>\n    <tr>\n      <th>1001</th>\n      <td>2024-01-12</td>\n      <td>13.590000</td>\n      <td>12.000000</td>\n      <td>50.770000</td>\n      <td>38.169998</td>\n      <td>55.119999</td>\n      <td>127.230003</td>\n    </tr>\n    <tr>\n      <th>1002</th>\n      <td>2024-01-15</td>\n      <td>13.590000</td>\n      <td>11.950000</td>\n      <td>50.730000</td>\n      <td>38.560001</td>\n      <td>56.009998</td>\n      <td>127.669998</td>\n    </tr>\n  </tbody>\n</table>\n<p>1003 rows × 7 columns</p>\n</div>"
     },
     "execution_count": 127,
     "metadata": {},
     "output_type": "execute_result"
    }
   ]
  },
  {
   "cell_type": "code",
   "metadata": {
    "colab": {
     "base_uri": "https://localhost:8080/",
     "height": 228
    },
    "id": "w6nJw2ETqKGQ",
    "outputId": "780a9775-1e42-41e6-8b0e-75c1de73b286",
    "ExecuteTime": {
     "end_time": "2024-01-17T19:44:17.307408Z",
     "start_time": "2024-01-17T19:44:17.295082Z"
    }
   },
   "source": [
    "dataset.drop(labels=['Date'], axis = 1, inplace = True)\n",
    "dataset.head()"
   ],
   "execution_count": 128,
   "outputs": [
    {
     "data": {
      "text/plain": "       AMBEV  ODONTOPREV       VIVO  PETROBRAS  BANCO DO BRASIL        BOVA\n0  19.200001   17.010000  48.240002  30.700001        53.799999  114.239998\n1  18.930000   17.219999  48.799999  30.450001        53.709999  113.800003\n2  19.020000   17.090000  48.330002  30.809999        53.000000  112.589996\n3  19.059999   16.650000  49.400002  30.690001        52.599998  112.239998\n4  18.969999   16.700001  49.900002  30.500000        52.119999  111.949997",
      "text/html": "<div>\n<style scoped>\n    .dataframe tbody tr th:only-of-type {\n        vertical-align: middle;\n    }\n\n    .dataframe tbody tr th {\n        vertical-align: top;\n    }\n\n    .dataframe thead th {\n        text-align: right;\n    }\n</style>\n<table border=\"1\" class=\"dataframe\">\n  <thead>\n    <tr style=\"text-align: right;\">\n      <th></th>\n      <th>AMBEV</th>\n      <th>ODONTOPREV</th>\n      <th>VIVO</th>\n      <th>PETROBRAS</th>\n      <th>BANCO DO BRASIL</th>\n      <th>BOVA</th>\n    </tr>\n  </thead>\n  <tbody>\n    <tr>\n      <th>0</th>\n      <td>19.200001</td>\n      <td>17.010000</td>\n      <td>48.240002</td>\n      <td>30.700001</td>\n      <td>53.799999</td>\n      <td>114.239998</td>\n    </tr>\n    <tr>\n      <th>1</th>\n      <td>18.930000</td>\n      <td>17.219999</td>\n      <td>48.799999</td>\n      <td>30.450001</td>\n      <td>53.709999</td>\n      <td>113.800003</td>\n    </tr>\n    <tr>\n      <th>2</th>\n      <td>19.020000</td>\n      <td>17.090000</td>\n      <td>48.330002</td>\n      <td>30.809999</td>\n      <td>53.000000</td>\n      <td>112.589996</td>\n    </tr>\n    <tr>\n      <th>3</th>\n      <td>19.059999</td>\n      <td>16.650000</td>\n      <td>49.400002</td>\n      <td>30.690001</td>\n      <td>52.599998</td>\n      <td>112.239998</td>\n    </tr>\n    <tr>\n      <th>4</th>\n      <td>18.969999</td>\n      <td>16.700001</td>\n      <td>49.900002</td>\n      <td>30.500000</td>\n      <td>52.119999</td>\n      <td>111.949997</td>\n    </tr>\n  </tbody>\n</table>\n</div>"
     },
     "execution_count": 128,
     "metadata": {},
     "output_type": "execute_result"
    }
   ]
  },
  {
   "cell_type": "code",
   "metadata": {
    "colab": {
     "base_uri": "https://localhost:8080/",
     "height": 447
    },
    "id": "gKxOPCrxrDPs",
    "outputId": "c889bdb9-43ce-4174-ec84-438559207d72",
    "ExecuteTime": {
     "end_time": "2024-01-17T19:44:21.474129Z",
     "start_time": "2024-01-17T19:44:21.456738Z"
    }
   },
   "source": [
    "taxas_retorno = (dataset / dataset.shift(1)) - 1\n",
    "taxas_retorno"
   ],
   "execution_count": 129,
   "outputs": [
    {
     "data": {
      "text/plain": "         AMBEV  ODONTOPREV      VIVO  PETROBRAS  BANCO DO BRASIL      BOVA\n0          NaN         NaN       NaN        NaN              NaN       NaN\n1    -0.014063    0.012346  0.011609  -0.008143        -0.001673 -0.003851\n2     0.004754   -0.007549 -0.009631   0.011823        -0.013219 -0.010633\n3     0.002103   -0.025746  0.022139  -0.003895        -0.007547 -0.003109\n4    -0.004722    0.003003  0.010121  -0.006191        -0.009125 -0.002584\n...        ...         ...       ...        ...              ...       ...\n998  -0.006565   -0.037368  0.004600  -0.008587        -0.014995 -0.007622\n999   0.010279    0.010970  0.007764  -0.009186        -0.001651 -0.005094\n1000 -0.014535   -0.001669 -0.005531   0.008477         0.006798 -0.001024\n1001  0.002212    0.003344  0.008542   0.002627         0.005839  0.003312\n1002  0.000000   -0.004167 -0.000788   0.010218         0.016147  0.003458\n\n[1003 rows x 6 columns]",
      "text/html": "<div>\n<style scoped>\n    .dataframe tbody tr th:only-of-type {\n        vertical-align: middle;\n    }\n\n    .dataframe tbody tr th {\n        vertical-align: top;\n    }\n\n    .dataframe thead th {\n        text-align: right;\n    }\n</style>\n<table border=\"1\" class=\"dataframe\">\n  <thead>\n    <tr style=\"text-align: right;\">\n      <th></th>\n      <th>AMBEV</th>\n      <th>ODONTOPREV</th>\n      <th>VIVO</th>\n      <th>PETROBRAS</th>\n      <th>BANCO DO BRASIL</th>\n      <th>BOVA</th>\n    </tr>\n  </thead>\n  <tbody>\n    <tr>\n      <th>0</th>\n      <td>NaN</td>\n      <td>NaN</td>\n      <td>NaN</td>\n      <td>NaN</td>\n      <td>NaN</td>\n      <td>NaN</td>\n    </tr>\n    <tr>\n      <th>1</th>\n      <td>-0.014063</td>\n      <td>0.012346</td>\n      <td>0.011609</td>\n      <td>-0.008143</td>\n      <td>-0.001673</td>\n      <td>-0.003851</td>\n    </tr>\n    <tr>\n      <th>2</th>\n      <td>0.004754</td>\n      <td>-0.007549</td>\n      <td>-0.009631</td>\n      <td>0.011823</td>\n      <td>-0.013219</td>\n      <td>-0.010633</td>\n    </tr>\n    <tr>\n      <th>3</th>\n      <td>0.002103</td>\n      <td>-0.025746</td>\n      <td>0.022139</td>\n      <td>-0.003895</td>\n      <td>-0.007547</td>\n      <td>-0.003109</td>\n    </tr>\n    <tr>\n      <th>4</th>\n      <td>-0.004722</td>\n      <td>0.003003</td>\n      <td>0.010121</td>\n      <td>-0.006191</td>\n      <td>-0.009125</td>\n      <td>-0.002584</td>\n    </tr>\n    <tr>\n      <th>...</th>\n      <td>...</td>\n      <td>...</td>\n      <td>...</td>\n      <td>...</td>\n      <td>...</td>\n      <td>...</td>\n    </tr>\n    <tr>\n      <th>998</th>\n      <td>-0.006565</td>\n      <td>-0.037368</td>\n      <td>0.004600</td>\n      <td>-0.008587</td>\n      <td>-0.014995</td>\n      <td>-0.007622</td>\n    </tr>\n    <tr>\n      <th>999</th>\n      <td>0.010279</td>\n      <td>0.010970</td>\n      <td>0.007764</td>\n      <td>-0.009186</td>\n      <td>-0.001651</td>\n      <td>-0.005094</td>\n    </tr>\n    <tr>\n      <th>1000</th>\n      <td>-0.014535</td>\n      <td>-0.001669</td>\n      <td>-0.005531</td>\n      <td>0.008477</td>\n      <td>0.006798</td>\n      <td>-0.001024</td>\n    </tr>\n    <tr>\n      <th>1001</th>\n      <td>0.002212</td>\n      <td>0.003344</td>\n      <td>0.008542</td>\n      <td>0.002627</td>\n      <td>0.005839</td>\n      <td>0.003312</td>\n    </tr>\n    <tr>\n      <th>1002</th>\n      <td>0.000000</td>\n      <td>-0.004167</td>\n      <td>-0.000788</td>\n      <td>0.010218</td>\n      <td>0.016147</td>\n      <td>0.003458</td>\n    </tr>\n  </tbody>\n</table>\n<p>1003 rows × 6 columns</p>\n</div>"
     },
     "execution_count": 129,
     "metadata": {},
     "output_type": "execute_result"
    }
   ]
  },
  {
   "cell_type": "code",
   "metadata": {
    "colab": {
     "base_uri": "https://localhost:8080/",
     "height": 507
    },
    "id": "hsjpcPaSNvG8",
    "outputId": "94c212d8-3fc7-4db4-9290-4980feb9fb36",
    "ExecuteTime": {
     "end_time": "2024-01-17T19:44:25.775234Z",
     "start_time": "2024-01-17T19:44:25.638168Z"
    }
   },
   "source": [
    "# Empresas BOVA: http://bvmf.bmfbovespa.com.br/indices/ResumoCarteiraQuadrimestre.aspx?Indice=IBOV&idioma=pt-br\n",
    "plt.figure(figsize=(8,8))\n",
    "sns.heatmap(taxas_retorno.corr(), annot=True);"
   ],
   "execution_count": 130,
   "outputs": [
    {
     "data": {
      "text/plain": "<Figure size 800x800 with 2 Axes>",
      "image/png": "[encoded data removed]"
     },
     "metadata": {},
     "output_type": "display_data"
    }
   ]
  },
  {
   "cell_type": "code",
   "metadata": {
    "colab": {
     "base_uri": "https://localhost:8080/"
    },
    "id": "sq9Ahe4frGqE",
    "outputId": "a66452db-675c-4c9f-b5ba-043114f58313",
    "ExecuteTime": {
     "end_time": "2024-01-17T19:44:29.895072Z",
     "start_time": "2024-01-17T19:44:29.885448Z"
    }
   },
   "source": [
    "taxas_retorno.std() * math.sqrt(246) # Anualizado"
   ],
   "execution_count": 131,
   "outputs": [
    {
     "data": {
      "text/plain": "AMBEV              0.317189\nODONTOPREV         0.354281\nVIVO               0.278623\nPETROBRAS          0.491445\nBANCO DO BRASIL    0.398028\nBOVA               0.278932\ndtype: float64"
     },
     "execution_count": 131,
     "metadata": {},
     "output_type": "execute_result"
    }
   ]
  },
  {
   "cell_type": "code",
   "metadata": {
    "id": "0XHlmb4jrMjn",
    "ExecuteTime": {
     "end_time": "2024-01-17T19:44:33.264354Z",
     "start_time": "2024-01-17T19:44:33.246012Z"
    }
   },
   "source": [
    "pesos1 = np.array([0.2, 0.2, 0.2, 0.2, 0.2, 0.0])"
   ],
   "execution_count": 132,
   "outputs": []
  },
  {
   "cell_type": "code",
   "metadata": {
    "colab": {
     "base_uri": "https://localhost:8080/"
    },
    "id": "CyzleQy4Qjno",
    "outputId": "b7585ba9-a6a2-42ce-e614-c1ce9624cdf6",
    "ExecuteTime": {
     "end_time": "2024-01-17T19:44:35.827281Z",
     "start_time": "2024-01-17T19:44:35.815560Z"
    }
   },
   "source": [
    "variancia_portfolio1 = np.dot(pesos1, np.dot(taxas_retorno.cov() * 246, pesos1))\n",
    "variancia_portfolio1"
   ],
   "execution_count": 133,
   "outputs": [
    {
     "data": {
      "text/plain": "0.06709660044292025"
     },
     "execution_count": 133,
     "metadata": {},
     "output_type": "execute_result"
    }
   ]
  },
  {
   "cell_type": "code",
   "metadata": {
    "colab": {
     "base_uri": "https://localhost:8080/"
    },
    "id": "6V2Le03ZrO0e",
    "outputId": "07adf2a2-2f9a-4376-f6a3-6b6477d5bf4e",
    "ExecuteTime": {
     "end_time": "2024-01-17T19:44:38.484811Z",
     "start_time": "2024-01-17T19:44:38.463334Z"
    }
   },
   "source": [
    "volatidade_portfolio1 = math.sqrt(np.dot(pesos1, np.dot(taxas_retorno.cov() * 246, pesos1)))\n",
    "volatidade_portfolio1"
   ],
   "execution_count": 134,
   "outputs": [
    {
     "data": {
      "text/plain": "0.2590301149343841"
     },
     "execution_count": 134,
     "metadata": {},
     "output_type": "execute_result"
    }
   ]
  },
  {
   "cell_type": "code",
   "metadata": {
    "colab": {
     "base_uri": "https://localhost:8080/"
    },
    "id": "v-Cd9Oj1rgcL",
    "outputId": "4f0d298a-60cc-4a6f-f213-c520a29e1a0f",
    "ExecuteTime": {
     "end_time": "2024-01-17T19:44:41.296314Z",
     "start_time": "2024-01-17T19:44:41.286936Z"
    }
   },
   "source": [
    "variancia_acoes1 = (taxas_retorno.var() * 246) * pesos1\n",
    "sub = variancia_acoes1[0] - variancia_acoes1[1] - variancia_acoes1[2] - variancia_acoes1[3] - variancia_acoes1[4] - variancia_acoes1[5]\n",
    "risco_nao_sistematico1 = (variancia_portfolio1 - sub)\n",
    "risco_nao_sistematico1"
   ],
   "execution_count": 135,
   "outputs": [
    {
     "data": {
      "text/plain": "0.16759285847302846"
     },
     "execution_count": 135,
     "metadata": {},
     "output_type": "execute_result"
    }
   ]
  },
  {
   "cell_type": "code",
   "metadata": {
    "id": "cYGbYfJOrW9Y",
    "ExecuteTime": {
     "end_time": "2024-01-17T19:44:43.544579Z",
     "start_time": "2024-01-17T19:44:43.531549Z"
    }
   },
   "source": [
    "pesos2 = np.array([0.0, 0.0, 0.0, 0.0, 0.0, 1.0])"
   ],
   "execution_count": 136,
   "outputs": []
  },
  {
   "cell_type": "code",
   "metadata": {
    "colab": {
     "base_uri": "https://localhost:8080/"
    },
    "id": "-NL-exKcRGAx",
    "outputId": "6e888112-02dc-43b7-f438-4a807c8ea739",
    "ExecuteTime": {
     "end_time": "2024-01-17T19:44:45.297988Z",
     "start_time": "2024-01-17T19:44:45.286572Z"
    }
   },
   "source": [
    "variancia_portfolio2 = np.dot(pesos2, np.dot(taxas_retorno.cov() * 246, pesos2))\n",
    "variancia_portfolio2"
   ],
   "execution_count": 137,
   "outputs": [
    {
     "data": {
      "text/plain": "0.0778028292567613"
     },
     "execution_count": 137,
     "metadata": {},
     "output_type": "execute_result"
    }
   ]
  },
  {
   "cell_type": "code",
   "metadata": {
    "colab": {
     "base_uri": "https://localhost:8080/"
    },
    "id": "4PBrxmYnraIE",
    "outputId": "30da2f3c-a55a-48bd-d0aa-30d98977d33b",
    "ExecuteTime": {
     "end_time": "2024-01-17T19:44:47.389246Z",
     "start_time": "2024-01-17T19:44:47.378941Z"
    }
   },
   "source": [
    "volatidade_portfolio2 = math.sqrt(np.dot(pesos2, np.dot(taxas_retorno.cov() * 246, pesos2)))\n",
    "volatidade_portfolio2"
   ],
   "execution_count": 138,
   "outputs": [
    {
     "data": {
      "text/plain": "0.27893158526198014"
     },
     "execution_count": 138,
     "metadata": {},
     "output_type": "execute_result"
    }
   ]
  },
  {
   "cell_type": "code",
   "metadata": {
    "colab": {
     "base_uri": "https://localhost:8080/"
    },
    "id": "kN6M3UXhru9i",
    "outputId": "ec9a60da-75b3-4650-9324-7e52fa1e7ac9",
    "ExecuteTime": {
     "end_time": "2024-01-17T19:44:52.042040Z",
     "start_time": "2024-01-17T19:44:52.032065Z"
    }
   },
   "source": [
    "variancia_acoes2 = (taxas_retorno.var() * 246) * pesos2\n",
    "sub = variancia_acoes2[0] - variancia_acoes2[1] - variancia_acoes2[2] - variancia_acoes2[3] - variancia_acoes2[4] - variancia_acoes2[5]\n",
    "risco_nao_sistematico2 = (variancia_portfolio2 - sub)\n",
    "risco_nao_sistematico2"
   ],
   "execution_count": 139,
   "outputs": [
    {
     "data": {
      "text/plain": "0.15560565851352273"
     },
     "execution_count": 139,
     "metadata": {},
     "output_type": "execute_result"
    }
   ]
  }
 ]
}
