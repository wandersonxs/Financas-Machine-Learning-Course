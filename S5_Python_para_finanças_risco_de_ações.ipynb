{
  "nbformat": 4,
  "nbformat_minor": 0,
  "metadata": {
    "colab": {
      "provenance": [],
      "collapsed_sections": [
        "xUnpCyZqFERv",
        "RAAWBxf3GMKV",
        "MAEA6W5lqAeu"
      ],
      "include_colab_link": true
    },
    "kernelspec": {
      "name": "python3",
      "display_name": "Python 3"
    }
  },
  "cells": [
    {
      "cell_type": "markdown",
      "metadata": {
        "id": "view-in-github",
        "colab_type": "text"
      },
      "source": [
        "<a href=\"https://colab.research.google.com/github/wandersonxs/Financas-Machine-Learning-Course/blob/main/S5_Python_para_finan%C3%A7as_risco_de_a%C3%A7%C3%B5es.ipynb\" target=\"_parent\"><img src=\"https://colab.research.google.com/assets/colab-badge.svg\" alt=\"Open In Colab\"/></a>"
      ]
    },
    {
      "cell_type": "markdown",
      "metadata": {
        "id": "Bgg_AisGjfoy"
      },
      "source": [
        "# Python para finanças - risco de ações"
      ]
    },
    {
      "cell_type": "markdown",
      "metadata": {
        "id": "x7M2Np1bji4T"
      },
      "source": [
        "## Importação das bibliotecas e base de dados"
      ]
    },
    {
      "cell_type": "code",
      "metadata": {
        "id": "WgwxIUe5XG42"
      },
      "source": [
        "import pandas as pd\n",
        "import numpy as np\n",
        "import math\n",
        "import matplotlib.pyplot as plt\n",
        "import seaborn as sns\n",
        "from scipy import stats"
      ],
      "execution_count": null,
      "outputs": []
    },
    {
      "cell_type": "code",
      "metadata": {
        "colab": {
          "base_uri": "https://localhost:8080/",
          "height": 447
        },
        "id": "Bk2jXqp4BlZo",
        "outputId": "3cd3ac6e-b7f8-48ff-e9bd-90b1e4614ad0"
      },
      "source": [
        "dataset = pd.read_csv('acoes.csv')\n",
        "dataset"
      ],
      "execution_count": null,
      "outputs": [
        {
          "output_type": "execute_result",
          "data": {
            "text/html": [
              "<div>\n",
              "<style scoped>\n",
              "    .dataframe tbody tr th:only-of-type {\n",
              "        vertical-align: middle;\n",
              "    }\n",
              "\n",
              "    .dataframe tbody tr th {\n",
              "        vertical-align: top;\n",
              "    }\n",
              "\n",
              "    .dataframe thead th {\n",
              "        text-align: right;\n",
              "    }\n",
              "</style>\n",
              "<table border=\"1\" class=\"dataframe\">\n",
              "  <thead>\n",
              "    <tr style=\"text-align: right;\">\n",
              "      <th></th>\n",
              "      <th>Date</th>\n",
              "      <th>GOL</th>\n",
              "      <th>CVC</th>\n",
              "      <th>WEGE</th>\n",
              "      <th>MGLU</th>\n",
              "      <th>TOTS</th>\n",
              "      <th>BOVA</th>\n",
              "    </tr>\n",
              "  </thead>\n",
              "  <tbody>\n",
              "    <tr>\n",
              "      <th>0</th>\n",
              "      <td>2015-01-02</td>\n",
              "      <td>14.990000</td>\n",
              "      <td>15.20</td>\n",
              "      <td>11.846200</td>\n",
              "      <td>0.232812</td>\n",
              "      <td>35.732101</td>\n",
              "      <td>47.259998</td>\n",
              "    </tr>\n",
              "    <tr>\n",
              "      <th>1</th>\n",
              "      <td>2015-01-05</td>\n",
              "      <td>14.850000</td>\n",
              "      <td>15.00</td>\n",
              "      <td>11.926900</td>\n",
              "      <td>0.237187</td>\n",
              "      <td>34.634201</td>\n",
              "      <td>46.320000</td>\n",
              "    </tr>\n",
              "    <tr>\n",
              "      <th>2</th>\n",
              "      <td>2015-01-06</td>\n",
              "      <td>15.210000</td>\n",
              "      <td>14.80</td>\n",
              "      <td>11.750000</td>\n",
              "      <td>0.234062</td>\n",
              "      <td>32.468300</td>\n",
              "      <td>46.580002</td>\n",
              "    </tr>\n",
              "    <tr>\n",
              "      <th>3</th>\n",
              "      <td>2015-01-07</td>\n",
              "      <td>14.550000</td>\n",
              "      <td>14.67</td>\n",
              "      <td>11.615400</td>\n",
              "      <td>0.241875</td>\n",
              "      <td>32.238701</td>\n",
              "      <td>48.150002</td>\n",
              "    </tr>\n",
              "    <tr>\n",
              "      <th>4</th>\n",
              "      <td>2015-01-08</td>\n",
              "      <td>14.270000</td>\n",
              "      <td>14.15</td>\n",
              "      <td>11.811500</td>\n",
              "      <td>0.240000</td>\n",
              "      <td>32.987301</td>\n",
              "      <td>48.509998</td>\n",
              "    </tr>\n",
              "    <tr>\n",
              "      <th>...</th>\n",
              "      <td>...</td>\n",
              "      <td>...</td>\n",
              "      <td>...</td>\n",
              "      <td>...</td>\n",
              "      <td>...</td>\n",
              "      <td>...</td>\n",
              "      <td>...</td>\n",
              "    </tr>\n",
              "    <tr>\n",
              "      <th>1441</th>\n",
              "      <td>2020-10-27</td>\n",
              "      <td>18.600000</td>\n",
              "      <td>14.17</td>\n",
              "      <td>83.239998</td>\n",
              "      <td>25.450001</td>\n",
              "      <td>28.500000</td>\n",
              "      <td>95.800003</td>\n",
              "    </tr>\n",
              "    <tr>\n",
              "      <th>1442</th>\n",
              "      <td>2020-10-28</td>\n",
              "      <td>16.920000</td>\n",
              "      <td>12.77</td>\n",
              "      <td>79.139999</td>\n",
              "      <td>24.629999</td>\n",
              "      <td>27.500000</td>\n",
              "      <td>92.430000</td>\n",
              "    </tr>\n",
              "    <tr>\n",
              "      <th>1443</th>\n",
              "      <td>2020-10-29</td>\n",
              "      <td>16.610001</td>\n",
              "      <td>12.68</td>\n",
              "      <td>80.029999</td>\n",
              "      <td>25.360001</td>\n",
              "      <td>28.500000</td>\n",
              "      <td>92.910004</td>\n",
              "    </tr>\n",
              "    <tr>\n",
              "      <th>1444</th>\n",
              "      <td>2020-10-30</td>\n",
              "      <td>15.690000</td>\n",
              "      <td>12.28</td>\n",
              "      <td>75.830002</td>\n",
              "      <td>24.629999</td>\n",
              "      <td>27.000000</td>\n",
              "      <td>90.660004</td>\n",
              "    </tr>\n",
              "    <tr>\n",
              "      <th>1445</th>\n",
              "      <td>2020-11-03</td>\n",
              "      <td>16.070000</td>\n",
              "      <td>12.42</td>\n",
              "      <td>78.669998</td>\n",
              "      <td>25.309999</td>\n",
              "      <td>27.930000</td>\n",
              "      <td>92.410004</td>\n",
              "    </tr>\n",
              "  </tbody>\n",
              "</table>\n",
              "<p>1446 rows × 7 columns</p>\n",
              "</div>"
            ],
            "text/plain": [
              "            Date        GOL    CVC       WEGE       MGLU       TOTS       BOVA\n",
              "0     2015-01-02  14.990000  15.20  11.846200   0.232812  35.732101  47.259998\n",
              "1     2015-01-05  14.850000  15.00  11.926900   0.237187  34.634201  46.320000\n",
              "2     2015-01-06  15.210000  14.80  11.750000   0.234062  32.468300  46.580002\n",
              "3     2015-01-07  14.550000  14.67  11.615400   0.241875  32.238701  48.150002\n",
              "4     2015-01-08  14.270000  14.15  11.811500   0.240000  32.987301  48.509998\n",
              "...          ...        ...    ...        ...        ...        ...        ...\n",
              "1441  2020-10-27  18.600000  14.17  83.239998  25.450001  28.500000  95.800003\n",
              "1442  2020-10-28  16.920000  12.77  79.139999  24.629999  27.500000  92.430000\n",
              "1443  2020-10-29  16.610001  12.68  80.029999  25.360001  28.500000  92.910004\n",
              "1444  2020-10-30  15.690000  12.28  75.830002  24.629999  27.000000  90.660004\n",
              "1445  2020-11-03  16.070000  12.42  78.669998  25.309999  27.930000  92.410004\n",
              "\n",
              "[1446 rows x 7 columns]"
            ]
          },
          "metadata": {
            "tags": []
          },
          "execution_count": 2
        }
      ]
    },
    {
      "cell_type": "code",
      "metadata": {
        "colab": {
          "base_uri": "https://localhost:8080/",
          "height": 323
        },
        "id": "SxnQkBVhcVvf",
        "outputId": "97b44c5d-361a-49e4-a59e-b91592bbc82e"
      },
      "source": [
        "dataset.describe()"
      ],
      "execution_count": null,
      "outputs": [
        {
          "output_type": "execute_result",
          "data": {
            "text/html": [
              "<div>\n",
              "<style scoped>\n",
              "    .dataframe tbody tr th:only-of-type {\n",
              "        vertical-align: middle;\n",
              "    }\n",
              "\n",
              "    .dataframe tbody tr th {\n",
              "        vertical-align: top;\n",
              "    }\n",
              "\n",
              "    .dataframe thead th {\n",
              "        text-align: right;\n",
              "    }\n",
              "</style>\n",
              "<table border=\"1\" class=\"dataframe\">\n",
              "  <thead>\n",
              "    <tr style=\"text-align: right;\">\n",
              "      <th></th>\n",
              "      <th>GOL</th>\n",
              "      <th>CVC</th>\n",
              "      <th>WEGE</th>\n",
              "      <th>MGLU</th>\n",
              "      <th>TOTS</th>\n",
              "      <th>BOVA</th>\n",
              "    </tr>\n",
              "  </thead>\n",
              "  <tbody>\n",
              "    <tr>\n",
              "      <th>count</th>\n",
              "      <td>1446.000000</td>\n",
              "      <td>1446.000000</td>\n",
              "      <td>1446.000000</td>\n",
              "      <td>1446.000000</td>\n",
              "      <td>1446.000000</td>\n",
              "      <td>1446.000000</td>\n",
              "    </tr>\n",
              "    <tr>\n",
              "      <th>mean</th>\n",
              "      <td>14.571473</td>\n",
              "      <td>32.860445</td>\n",
              "      <td>20.920034</td>\n",
              "      <td>4.634487</td>\n",
              "      <td>34.619463</td>\n",
              "      <td>71.770643</td>\n",
              "    </tr>\n",
              "    <tr>\n",
              "      <th>std</th>\n",
              "      <td>10.244303</td>\n",
              "      <td>16.118635</td>\n",
              "      <td>14.155955</td>\n",
              "      <td>6.023464</td>\n",
              "      <td>11.576407</td>\n",
              "      <td>19.913738</td>\n",
              "    </tr>\n",
              "    <tr>\n",
              "      <th>min</th>\n",
              "      <td>1.160000</td>\n",
              "      <td>6.490000</td>\n",
              "      <td>9.884610</td>\n",
              "      <td>0.030585</td>\n",
              "      <td>17.260000</td>\n",
              "      <td>36.450001</td>\n",
              "    </tr>\n",
              "    <tr>\n",
              "      <th>25%</th>\n",
              "      <td>6.635000</td>\n",
              "      <td>18.140224</td>\n",
              "      <td>12.640425</td>\n",
              "      <td>0.192734</td>\n",
              "      <td>28.196400</td>\n",
              "      <td>53.742500</td>\n",
              "    </tr>\n",
              "    <tr>\n",
              "      <th>50%</th>\n",
              "      <td>11.755000</td>\n",
              "      <td>29.105000</td>\n",
              "      <td>16.808849</td>\n",
              "      <td>2.315625</td>\n",
              "      <td>30.961201</td>\n",
              "      <td>71.090000</td>\n",
              "    </tr>\n",
              "    <tr>\n",
              "      <th>75%</th>\n",
              "      <td>20.355000</td>\n",
              "      <td>48.485000</td>\n",
              "      <td>19.480000</td>\n",
              "      <td>5.811485</td>\n",
              "      <td>36.226201</td>\n",
              "      <td>90.647503</td>\n",
              "    </tr>\n",
              "    <tr>\n",
              "      <th>max</th>\n",
              "      <td>43.790001</td>\n",
              "      <td>64.800003</td>\n",
              "      <td>83.550003</td>\n",
              "      <td>26.219999</td>\n",
              "      <td>83.720001</td>\n",
              "      <td>115.209999</td>\n",
              "    </tr>\n",
              "  </tbody>\n",
              "</table>\n",
              "</div>"
            ],
            "text/plain": [
              "               GOL          CVC  ...         TOTS         BOVA\n",
              "count  1446.000000  1446.000000  ...  1446.000000  1446.000000\n",
              "mean     14.571473    32.860445  ...    34.619463    71.770643\n",
              "std      10.244303    16.118635  ...    11.576407    19.913738\n",
              "min       1.160000     6.490000  ...    17.260000    36.450001\n",
              "25%       6.635000    18.140224  ...    28.196400    53.742500\n",
              "50%      11.755000    29.105000  ...    30.961201    71.090000\n",
              "75%      20.355000    48.485000  ...    36.226201    90.647503\n",
              "max      43.790001    64.800003  ...    83.720001   115.209999\n",
              "\n",
              "[8 rows x 6 columns]"
            ]
          },
          "metadata": {
            "tags": []
          },
          "execution_count": 3
        }
      ]
    },
    {
      "cell_type": "markdown",
      "metadata": {
        "id": "p4HqYENwJOwP"
      },
      "source": [
        "## Cálculo dos retornos anuais"
      ]
    },
    {
      "cell_type": "markdown",
      "metadata": {
        "id": "Whmrp519DLVC"
      },
      "source": [
        "### 2015"
      ]
    },
    {
      "cell_type": "code",
      "metadata": {
        "colab": {
          "base_uri": "https://localhost:8080/"
        },
        "id": "C4t39-TGcKbL",
        "outputId": "c714137d-c89f-43cb-c2a2-64c46f09f07b"
      },
      "source": [
        "dataset['CVC'][dataset['Date'] == '2015-01-02'], dataset['CVC'][dataset['Date'] == '2015-12-30']"
      ],
      "execution_count": null,
      "outputs": [
        {
          "output_type": "execute_result",
          "data": {
            "text/plain": [
              "(0    15.2\n",
              " Name: CVC, dtype: float64, 245    13.5\n",
              " Name: CVC, dtype: float64)"
            ]
          },
          "metadata": {
            "tags": []
          },
          "execution_count": 6
        }
      ]
    },
    {
      "cell_type": "code",
      "metadata": {
        "colab": {
          "base_uri": "https://localhost:8080/"
        },
        "id": "K84oFZN_dtU9",
        "outputId": "f02dd864-ea23-4ea0-9490-89c795bda392"
      },
      "source": [
        "np.log(13.5 / 15.2) * 100"
      ],
      "execution_count": null,
      "outputs": [
        {
          "output_type": "execute_result",
          "data": {
            "text/plain": [
              "-11.86057424078469"
            ]
          },
          "metadata": {
            "tags": []
          },
          "execution_count": 7
        }
      ]
    },
    {
      "cell_type": "code",
      "metadata": {
        "colab": {
          "base_uri": "https://localhost:8080/"
        },
        "id": "zgnFy-O7d7al",
        "outputId": "b78c306d-07f7-4412-d660-d2b340cdc00d"
      },
      "source": [
        "dataset['MGLU'][dataset['Date'] == '2015-01-02'], dataset['MGLU'][dataset['Date'] == '2015-12-30']"
      ],
      "execution_count": null,
      "outputs": [
        {
          "output_type": "execute_result",
          "data": {
            "text/plain": [
              "(0    0.232812\n",
              " Name: MGLU, dtype: float64, 245    0.068945\n",
              " Name: MGLU, dtype: float64)"
            ]
          },
          "metadata": {
            "tags": []
          },
          "execution_count": 8
        }
      ]
    },
    {
      "cell_type": "code",
      "metadata": {
        "colab": {
          "base_uri": "https://localhost:8080/"
        },
        "id": "m6rjFAPgeCh8",
        "outputId": "2513c666-39dc-4cc0-8d15-d42ab89c14f4"
      },
      "source": [
        "np.log(0.06 / 0.23) * 100"
      ],
      "execution_count": null,
      "outputs": [
        {
          "output_type": "execute_result",
          "data": {
            "text/plain": [
              "-134.37347467010946"
            ]
          },
          "metadata": {
            "tags": []
          },
          "execution_count": 10
        }
      ]
    },
    {
      "cell_type": "markdown",
      "metadata": {
        "id": "6KClzeKHEIcs"
      },
      "source": [
        "### 2016"
      ]
    },
    {
      "cell_type": "code",
      "metadata": {
        "colab": {
          "base_uri": "https://localhost:8080/"
        },
        "id": "4mZ-GKTGeS2H",
        "outputId": "01af3ca7-78f8-498b-c6e8-99098c43a643"
      },
      "source": [
        "dataset['CVC'][dataset['Date'] == '2016-01-04'], dataset['CVC'][dataset['Date'] == '2016-12-29']"
      ],
      "execution_count": null,
      "outputs": [
        {
          "output_type": "execute_result",
          "data": {
            "text/plain": [
              "(246    12.53\n",
              " Name: CVC, dtype: float64, 494    23.700001\n",
              " Name: CVC, dtype: float64)"
            ]
          },
          "metadata": {
            "tags": []
          },
          "execution_count": 15
        }
      ]
    },
    {
      "cell_type": "code",
      "metadata": {
        "colab": {
          "base_uri": "https://localhost:8080/"
        },
        "id": "Nn4C20vzejNu",
        "outputId": "c77ac1ed-3161-446f-b3fa-5137ed59b818"
      },
      "source": [
        "np.log(23.70 / 12.53) * 100"
      ],
      "execution_count": null,
      "outputs": [
        {
          "output_type": "execute_result",
          "data": {
            "text/plain": [
              "63.73492792331087"
            ]
          },
          "metadata": {
            "tags": []
          },
          "execution_count": 16
        }
      ]
    },
    {
      "cell_type": "code",
      "metadata": {
        "colab": {
          "base_uri": "https://localhost:8080/"
        },
        "id": "-5atnPBPet1R",
        "outputId": "bf6e8ce9-d5b7-4989-ca54-40a8ccdddcb5"
      },
      "source": [
        "dataset['MGLU'][dataset['Date'] == '2016-01-04'], dataset['MGLU'][dataset['Date'] == '2016-12-29']"
      ],
      "execution_count": null,
      "outputs": [
        {
          "output_type": "execute_result",
          "data": {
            "text/plain": [
              "(246    0.070117\n",
              " Name: MGLU, dtype: float64, 494    0.414726\n",
              " Name: MGLU, dtype: float64)"
            ]
          },
          "metadata": {
            "tags": []
          },
          "execution_count": 17
        }
      ]
    },
    {
      "cell_type": "code",
      "metadata": {
        "colab": {
          "base_uri": "https://localhost:8080/"
        },
        "id": "MKMFNfyieyjS",
        "outputId": "a045971f-bbb6-4abd-e3df-d2ac43eeb68d"
      },
      "source": [
        "np.log(0.41 / 0.07) * 100"
      ],
      "execution_count": null,
      "outputs": [
        {
          "output_type": "execute_result",
          "data": {
            "text/plain": [
              "176.76619176489942"
            ]
          },
          "metadata": {
            "tags": []
          },
          "execution_count": 18
        }
      ]
    },
    {
      "cell_type": "markdown",
      "metadata": {
        "id": "leM7iEWiEkn1"
      },
      "source": [
        "### 2017"
      ]
    },
    {
      "cell_type": "code",
      "metadata": {
        "colab": {
          "base_uri": "https://localhost:8080/"
        },
        "id": "rH5pyrgGEoOZ",
        "outputId": "ce624332-4cec-4bb4-d312-2f79ac1a7a89"
      },
      "source": [
        "dataset['CVC'][dataset['Date'] == '2017-01-02'], dataset['CVC'][dataset['Date'] == '2017-12-29']"
      ],
      "execution_count": null,
      "outputs": [
        {
          "output_type": "execute_result",
          "data": {
            "text/plain": [
              "(495    23.02\n",
              " Name: CVC, dtype: float64, 748    48.5\n",
              " Name: CVC, dtype: float64)"
            ]
          },
          "metadata": {
            "tags": []
          },
          "execution_count": 19
        }
      ]
    },
    {
      "cell_type": "code",
      "metadata": {
        "colab": {
          "base_uri": "https://localhost:8080/"
        },
        "id": "EISOufnBE0Ov",
        "outputId": "a16c268b-5272-40b2-b19b-f370d5249ac1"
      },
      "source": [
        "np.log(48.50 / 23.02) * 100"
      ],
      "execution_count": null,
      "outputs": [
        {
          "output_type": "execute_result",
          "data": {
            "text/plain": [
              "74.5200394649701"
            ]
          },
          "metadata": {
            "tags": []
          },
          "execution_count": 20
        }
      ]
    },
    {
      "cell_type": "code",
      "metadata": {
        "colab": {
          "base_uri": "https://localhost:8080/"
        },
        "id": "QNqG-w7kEmY7",
        "outputId": "1292dedb-236f-4c62-9294-f17ac2a9b0f6"
      },
      "source": [
        "dataset['MGLU'][dataset['Date'] == '2017-01-02'], dataset['MGLU'][dataset['Date'] == '2017-12-29']"
      ],
      "execution_count": null,
      "outputs": [
        {
          "output_type": "execute_result",
          "data": {
            "text/plain": [
              "(495    0.397304\n",
              " Name: MGLU, dtype: float64, 748    2.50688\n",
              " Name: MGLU, dtype: float64)"
            ]
          },
          "metadata": {
            "tags": []
          },
          "execution_count": 21
        }
      ]
    },
    {
      "cell_type": "code",
      "metadata": {
        "colab": {
          "base_uri": "https://localhost:8080/"
        },
        "id": "4ho7vtfcE8yJ",
        "outputId": "68864c4e-dace-44aa-c367-3b9c6e6f2eb6"
      },
      "source": [
        "np.log(2.50 / 0.39) * 100"
      ],
      "execution_count": null,
      "outputs": [
        {
          "output_type": "execute_result",
          "data": {
            "text/plain": [
              "185.78992717326"
            ]
          },
          "metadata": {
            "tags": []
          },
          "execution_count": 22
        }
      ]
    },
    {
      "cell_type": "markdown",
      "metadata": {
        "id": "kn5DDNoIFDFA"
      },
      "source": [
        "### 2018"
      ]
    },
    {
      "cell_type": "code",
      "metadata": {
        "colab": {
          "base_uri": "https://localhost:8080/"
        },
        "id": "7igfkhKSFFXw",
        "outputId": "2d53f9c2-5d24-4bc5-9e76-385ac01da7d7"
      },
      "source": [
        "dataset['CVC'][dataset['Date'] == '2018-01-02'], dataset['CVC'][dataset['Date'] == '2018-12-28']"
      ],
      "execution_count": null,
      "outputs": [
        {
          "output_type": "execute_result",
          "data": {
            "text/plain": [
              "(749    49.880001\n",
              " Name: CVC, dtype: float64, 993    61.18\n",
              " Name: CVC, dtype: float64)"
            ]
          },
          "metadata": {
            "tags": []
          },
          "execution_count": 23
        }
      ]
    },
    {
      "cell_type": "code",
      "metadata": {
        "colab": {
          "base_uri": "https://localhost:8080/"
        },
        "id": "FEMFFi5NFSbJ",
        "outputId": "8d0cac9a-d7e0-437e-9a79-cf9dc1f84d40"
      },
      "source": [
        "np.log(61.18 / 49.88) * 100"
      ],
      "execution_count": null,
      "outputs": [
        {
          "output_type": "execute_result",
          "data": {
            "text/plain": [
              "20.420021791092157"
            ]
          },
          "metadata": {
            "tags": []
          },
          "execution_count": 24
        }
      ]
    },
    {
      "cell_type": "code",
      "metadata": {
        "colab": {
          "base_uri": "https://localhost:8080/"
        },
        "id": "8QjwGaq2FORp",
        "outputId": "fab02540-479c-4fb6-cc2b-ccae022e7bc5"
      },
      "source": [
        "dataset['MGLU'][dataset['Date'] == '2018-01-02'], dataset['MGLU'][dataset['Date'] == '2018-12-28']"
      ],
      "execution_count": null,
      "outputs": [
        {
          "output_type": "execute_result",
          "data": {
            "text/plain": [
              "(749    2.47813\n",
              " Name: MGLU, dtype: float64, 993    5.65844\n",
              " Name: MGLU, dtype: float64)"
            ]
          },
          "metadata": {
            "tags": []
          },
          "execution_count": 25
        }
      ]
    },
    {
      "cell_type": "code",
      "metadata": {
        "colab": {
          "base_uri": "https://localhost:8080/"
        },
        "id": "mb3joDRUFXDi",
        "outputId": "b4dfe1a6-4827-4087-f280-d21a211888ab"
      },
      "source": [
        "np.log(5.65 / 2.47) * 100"
      ],
      "execution_count": null,
      "outputs": [
        {
          "output_type": "execute_result",
          "data": {
            "text/plain": [
              "82.74373945184638"
            ]
          },
          "metadata": {
            "tags": []
          },
          "execution_count": 26
        }
      ]
    },
    {
      "cell_type": "markdown",
      "metadata": {
        "id": "xUnpCyZqFERv"
      },
      "source": [
        "### 2019"
      ]
    },
    {
      "cell_type": "code",
      "metadata": {
        "colab": {
          "base_uri": "https://localhost:8080/"
        },
        "id": "_z3YUXqgFcty",
        "outputId": "a2189ee7-5f20-441c-802e-6ccf775e2191"
      },
      "source": [
        "dataset['CVC'][dataset['Date'] == '2019-01-02'], dataset['CVC'][dataset['Date'] == '2019-12-30']"
      ],
      "execution_count": null,
      "outputs": [
        {
          "output_type": "execute_result",
          "data": {
            "text/plain": [
              "(994    61.099998\n",
              " Name: CVC, dtype: float64, 1240    43.799999\n",
              " Name: CVC, dtype: float64)"
            ]
          },
          "metadata": {
            "tags": []
          },
          "execution_count": 27
        }
      ]
    },
    {
      "cell_type": "code",
      "metadata": {
        "colab": {
          "base_uri": "https://localhost:8080/"
        },
        "id": "8AEYO6coF2JQ",
        "outputId": "227ab843-7e7d-4f94-897e-553c423f7cd5"
      },
      "source": [
        "np.log(43.79 / 61.09) * 100"
      ],
      "execution_count": null,
      "outputs": [
        {
          "output_type": "execute_result",
          "data": {
            "text/plain": [
              "-33.29427058483686"
            ]
          },
          "metadata": {
            "tags": []
          },
          "execution_count": 28
        }
      ]
    },
    {
      "cell_type": "code",
      "metadata": {
        "colab": {
          "base_uri": "https://localhost:8080/"
        },
        "id": "PWmjM76MFyTS",
        "outputId": "3d3bcf15-13dd-4f0e-9f31-413155f9e876"
      },
      "source": [
        "dataset['MGLU'][dataset['Date'] == '2019-01-02'], dataset['MGLU'][dataset['Date'] == '2019-12-30']"
      ],
      "execution_count": null,
      "outputs": [
        {
          "output_type": "execute_result",
          "data": {
            "text/plain": [
              "(994    5.81219\n",
              " Name: MGLU, dtype: float64, 1240    11.925\n",
              " Name: MGLU, dtype: float64)"
            ]
          },
          "metadata": {
            "tags": []
          },
          "execution_count": 29
        }
      ]
    },
    {
      "cell_type": "code",
      "metadata": {
        "colab": {
          "base_uri": "https://localhost:8080/"
        },
        "id": "mdoutn8sGAu4",
        "outputId": "ba1a223a-3e79-476f-ae76-ae608a5a5b95"
      },
      "source": [
        "np.log(11.92 / 5.81) * 100"
      ],
      "execution_count": null,
      "outputs": [
        {
          "output_type": "execute_result",
          "data": {
            "text/plain": [
              "71.8637090773384"
            ]
          },
          "metadata": {
            "tags": []
          },
          "execution_count": 30
        }
      ]
    },
    {
      "cell_type": "markdown",
      "metadata": {
        "id": "RAAWBxf3GMKV"
      },
      "source": [
        "### 2020"
      ]
    },
    {
      "cell_type": "code",
      "metadata": {
        "colab": {
          "base_uri": "https://localhost:8080/"
        },
        "id": "ljHHfqX2GNc8",
        "outputId": "382829b6-4d46-4fa3-9ca5-a30102892518"
      },
      "source": [
        "dataset['CVC'][dataset['Date'] == '2020-01-02'], dataset['CVC'][dataset['Date'] == '2020-11-03']"
      ],
      "execution_count": null,
      "outputs": [
        {
          "output_type": "execute_result",
          "data": {
            "text/plain": [
              "(1241    44.709999\n",
              " Name: CVC, dtype: float64, 1445    12.42\n",
              " Name: CVC, dtype: float64)"
            ]
          },
          "metadata": {
            "tags": []
          },
          "execution_count": 31
        }
      ]
    },
    {
      "cell_type": "code",
      "metadata": {
        "colab": {
          "base_uri": "https://localhost:8080/"
        },
        "id": "NH8Z1n56GY9d",
        "outputId": "6e7fc95f-9354-4780-e63b-6b81a44f5a17"
      },
      "source": [
        "np.log(12.42 / 44.70) * 100"
      ],
      "execution_count": null,
      "outputs": [
        {
          "output_type": "execute_result",
          "data": {
            "text/plain": [
              "-128.06654251141904"
            ]
          },
          "metadata": {
            "tags": []
          },
          "execution_count": 32
        }
      ]
    },
    {
      "cell_type": "code",
      "metadata": {
        "colab": {
          "base_uri": "https://localhost:8080/"
        },
        "id": "tmyWjDDUGVko",
        "outputId": "d6f7ceac-1d26-4878-a479-cca1e0ff978f"
      },
      "source": [
        "dataset['MGLU'][dataset['Date'] == '2020-01-02'], dataset['MGLU'][dataset['Date'] == '2020-11-03']"
      ],
      "execution_count": null,
      "outputs": [
        {
          "output_type": "execute_result",
          "data": {
            "text/plain": [
              "(1241    12.3325\n",
              " Name: MGLU, dtype: float64, 1445    25.309999\n",
              " Name: MGLU, dtype: float64)"
            ]
          },
          "metadata": {
            "tags": []
          },
          "execution_count": 33
        }
      ]
    },
    {
      "cell_type": "code",
      "metadata": {
        "colab": {
          "base_uri": "https://localhost:8080/"
        },
        "id": "vCCnup4OGest",
        "outputId": "7db404c8-ca1f-492a-8d28-7417b243537e"
      },
      "source": [
        "np.log(25.30 / 12.33) * 100"
      ],
      "execution_count": null,
      "outputs": [
        {
          "output_type": "execute_result",
          "data": {
            "text/plain": [
              "71.87690785572217"
            ]
          },
          "metadata": {
            "tags": []
          },
          "execution_count": 34
        }
      ]
    },
    {
      "cell_type": "markdown",
      "metadata": {
        "id": "RTnlua_dJVX1"
      },
      "source": [
        "## Variância"
      ]
    },
    {
      "cell_type": "code",
      "metadata": {
        "id": "U0G1E5cekWqa"
      },
      "source": [
        "taxas_cvc = np.array([-11.86, 63.73, 74.52, 20.42, -33.29, -128.06])"
      ],
      "execution_count": null,
      "outputs": []
    },
    {
      "cell_type": "code",
      "metadata": {
        "colab": {
          "base_uri": "https://localhost:8080/"
        },
        "id": "O8EthADGkmXV",
        "outputId": "fcdbc57a-c844-4229-c6aa-4847fb0b8194"
      },
      "source": [
        "media_cvc = taxas_cvc.sum() / len(taxas_cvc)\n",
        "media_cvc"
      ],
      "execution_count": null,
      "outputs": [
        {
          "output_type": "execute_result",
          "data": {
            "text/plain": [
              "-2.423333333333332"
            ]
          },
          "metadata": {
            "tags": []
          },
          "execution_count": 38
        }
      ]
    },
    {
      "cell_type": "code",
      "metadata": {
        "colab": {
          "base_uri": "https://localhost:8080/"
        },
        "id": "dKEGQBKClb08",
        "outputId": "7f89ffac-4efc-49af-c82b-fb689dd3ab25"
      },
      "source": [
        "media_cvc = taxas_cvc.mean()\n",
        "media_cvc"
      ],
      "execution_count": null,
      "outputs": [
        {
          "output_type": "execute_result",
          "data": {
            "text/plain": [
              "-2.423333333333332"
            ]
          },
          "metadata": {
            "tags": []
          },
          "execution_count": 42
        }
      ]
    },
    {
      "cell_type": "code",
      "metadata": {
        "colab": {
          "base_uri": "https://localhost:8080/"
        },
        "id": "X08UuySUk9jM",
        "outputId": "83ce4c8c-1eb7-4990-dbc2-a900389bc52e"
      },
      "source": [
        "((taxas_cvc - media_cvc) ** 2).sum() / len(taxas_cvc)"
      ],
      "execution_count": null,
      "outputs": [
        {
          "output_type": "execute_result",
          "data": {
            "text/plain": [
              "4607.455288888889"
            ]
          },
          "metadata": {
            "tags": []
          },
          "execution_count": 41
        }
      ]
    },
    {
      "cell_type": "code",
      "metadata": {
        "colab": {
          "base_uri": "https://localhost:8080/"
        },
        "id": "on_y8OfwllYv",
        "outputId": "6e985fbf-f0e7-4c82-e923-5657ec851e0e"
      },
      "source": [
        "variancia_cvc = taxas_cvc.var()\n",
        "variancia_cvc"
      ],
      "execution_count": null,
      "outputs": [
        {
          "output_type": "execute_result",
          "data": {
            "text/plain": [
              "4607.455288888889"
            ]
          },
          "metadata": {
            "tags": []
          },
          "execution_count": 43
        }
      ]
    },
    {
      "cell_type": "code",
      "metadata": {
        "id": "CV3xn9sLluXg"
      },
      "source": [
        "taxas_mglu = np.array([-134.37, 176.76, 185.78, 82.74, 71.86, 71.87])"
      ],
      "execution_count": null,
      "outputs": []
    },
    {
      "cell_type": "code",
      "metadata": {
        "colab": {
          "base_uri": "https://localhost:8080/"
        },
        "id": "Vmfzmj57l7qQ",
        "outputId": "48632cf2-1ee9-41e2-9dfc-94df9b220b62"
      },
      "source": [
        "variancia_mglu = taxas_mglu.var()\n",
        "variancia_mglu"
      ],
      "execution_count": null,
      "outputs": [
        {
          "output_type": "execute_result",
          "data": {
            "text/plain": [
              "11089.846455555555"
            ]
          },
          "metadata": {
            "tags": []
          },
          "execution_count": 45
        }
      ]
    },
    {
      "cell_type": "code",
      "metadata": {
        "colab": {
          "base_uri": "https://localhost:8080/"
        },
        "id": "UVzOde3NmQbH",
        "outputId": "9d4509c4-7e51-4cf9-8667-682e2f6cd548"
      },
      "source": [
        "dataset['CVC'].tail(330).var(), dataset['MGLU'].tail(330).var()"
      ],
      "execution_count": null,
      "outputs": [
        {
          "output_type": "execute_result",
          "data": {
            "text/plain": [
              "(259.985677904719, 28.190262814035478)"
            ]
          },
          "metadata": {
            "tags": []
          },
          "execution_count": 51
        }
      ]
    },
    {
      "cell_type": "markdown",
      "metadata": {
        "id": "3yOrHmZJZZj2"
      },
      "source": [
        "## Desvio padrão"
      ]
    },
    {
      "cell_type": "code",
      "metadata": {
        "colab": {
          "base_uri": "https://localhost:8080/"
        },
        "id": "JRzvlIDRoJYW",
        "outputId": "bd044c64-37e7-48f8-8402-46b3b66706b1"
      },
      "source": [
        "desvio_padrao_cvc = math.sqrt(variancia_cvc)\n",
        "desvio_padrao_cvc"
      ],
      "execution_count": null,
      "outputs": [
        {
          "output_type": "execute_result",
          "data": {
            "text/plain": [
              "67.87823869907712"
            ]
          },
          "metadata": {
            "tags": []
          },
          "execution_count": 52
        }
      ]
    },
    {
      "cell_type": "code",
      "metadata": {
        "colab": {
          "base_uri": "https://localhost:8080/"
        },
        "id": "YrlsXCMtowhU",
        "outputId": "b1364a59-0957-48ed-ee57-67a19db0185b"
      },
      "source": [
        "taxas_cvc.std()"
      ],
      "execution_count": null,
      "outputs": [
        {
          "output_type": "execute_result",
          "data": {
            "text/plain": [
              "67.87823869907712"
            ]
          },
          "metadata": {
            "tags": []
          },
          "execution_count": 54
        }
      ]
    },
    {
      "cell_type": "code",
      "metadata": {
        "colab": {
          "base_uri": "https://localhost:8080/"
        },
        "id": "En-ACTmloSz4",
        "outputId": "9da787f5-04b6-4d09-88fb-c702e6f6d454"
      },
      "source": [
        "desvio_padrao_mglu = math.sqrt(variancia_mglu)\n",
        "desvio_padrao_mglu"
      ],
      "execution_count": null,
      "outputs": [
        {
          "output_type": "execute_result",
          "data": {
            "text/plain": [
              "105.30833991453648"
            ]
          },
          "metadata": {
            "tags": []
          },
          "execution_count": 53
        }
      ]
    },
    {
      "cell_type": "code",
      "metadata": {
        "colab": {
          "base_uri": "https://localhost:8080/"
        },
        "id": "m8iLutBAo15L",
        "outputId": "ac1e07a5-a2aa-47a1-d1c8-6536c62f5b0b"
      },
      "source": [
        "taxas_mglu.std()"
      ],
      "execution_count": null,
      "outputs": [
        {
          "output_type": "execute_result",
          "data": {
            "text/plain": [
              "105.30833991453648"
            ]
          },
          "metadata": {
            "tags": []
          },
          "execution_count": 55
        }
      ]
    },
    {
      "cell_type": "code",
      "metadata": {
        "colab": {
          "base_uri": "https://localhost:8080/"
        },
        "id": "KyptJCb4onvh",
        "outputId": "185cdd71-23eb-46fe-f687-d8665bb3632f"
      },
      "source": [
        "dataset['CVC'].tail(330).std(), dataset['MGLU'].tail(330).std()"
      ],
      "execution_count": null,
      "outputs": [
        {
          "output_type": "execute_result",
          "data": {
            "text/plain": [
              "(16.124071381159258, 5.3094503306873)"
            ]
          },
          "metadata": {
            "tags": []
          },
          "execution_count": 59
        }
      ]
    },
    {
      "cell_type": "markdown",
      "metadata": {
        "id": "KKuX4112bw_4"
      },
      "source": [
        "## Coeficiente de variação"
      ]
    },
    {
      "cell_type": "code",
      "metadata": {
        "colab": {
          "base_uri": "https://localhost:8080/"
        },
        "id": "eYUnVoLAqTEl",
        "outputId": "f3eb8fa6-21fe-451b-8a45-0754c07741be"
      },
      "source": [
        "desvio_padrao_cvc, media_cvc"
      ],
      "execution_count": null,
      "outputs": [
        {
          "output_type": "execute_result",
          "data": {
            "text/plain": [
              "(67.87823869907712, -2.423333333333332)"
            ]
          },
          "metadata": {
            "tags": []
          },
          "execution_count": 60
        }
      ]
    },
    {
      "cell_type": "code",
      "metadata": {
        "colab": {
          "base_uri": "https://localhost:8080/"
        },
        "id": "C0YfW0G7qXxL",
        "outputId": "263b5a7c-0f50-4846-f83d-473d1728b917"
      },
      "source": [
        "coeficiente_variacao_cvc = (desvio_padrao_cvc / media_cvc) * 100\n",
        "coeficiente_variacao_cvc"
      ],
      "execution_count": null,
      "outputs": [
        {
          "output_type": "execute_result",
          "data": {
            "text/plain": [
              "-2801.0277317363334"
            ]
          },
          "metadata": {
            "tags": []
          },
          "execution_count": 61
        }
      ]
    },
    {
      "cell_type": "code",
      "metadata": {
        "colab": {
          "base_uri": "https://localhost:8080/"
        },
        "id": "VL4yfsy_qgf9",
        "outputId": "9d3a332f-269d-4cec-efeb-7cc06ee50b39"
      },
      "source": [
        "stats.variation(taxas_cvc) * 100"
      ],
      "execution_count": null,
      "outputs": [
        {
          "output_type": "execute_result",
          "data": {
            "text/plain": [
              "-2801.0277317363334"
            ]
          },
          "metadata": {
            "tags": []
          },
          "execution_count": 63
        }
      ]
    },
    {
      "cell_type": "code",
      "metadata": {
        "colab": {
          "base_uri": "https://localhost:8080/"
        },
        "id": "KUvU-pXLqpAI",
        "outputId": "a2ab04d5-d149-4a49-a0fd-e22af02176ae"
      },
      "source": [
        "stats.variation(taxas_mglu) * 100"
      ],
      "execution_count": null,
      "outputs": [
        {
          "output_type": "execute_result",
          "data": {
            "text/plain": [
              "138.97810124212978"
            ]
          },
          "metadata": {
            "tags": []
          },
          "execution_count": 65
        }
      ]
    },
    {
      "cell_type": "markdown",
      "metadata": {
        "id": "whH8oHumdpei"
      },
      "source": [
        "## Cálculos com todas as ações - risco médio anual"
      ]
    },
    {
      "cell_type": "code",
      "metadata": {
        "colab": {
          "base_uri": "https://localhost:8080/",
          "height": 447
        },
        "id": "-xoNpHbrsVYg",
        "outputId": "39c7e00d-9c5a-4720-d382-303f30001936"
      },
      "source": [
        "dataset.drop(labels = ['Date'], axis=1, inplace=True)\n",
        "dataset"
      ],
      "execution_count": null,
      "outputs": [
        {
          "output_type": "execute_result",
          "data": {
            "text/html": [
              "<div>\n",
              "<style scoped>\n",
              "    .dataframe tbody tr th:only-of-type {\n",
              "        vertical-align: middle;\n",
              "    }\n",
              "\n",
              "    .dataframe tbody tr th {\n",
              "        vertical-align: top;\n",
              "    }\n",
              "\n",
              "    .dataframe thead th {\n",
              "        text-align: right;\n",
              "    }\n",
              "</style>\n",
              "<table border=\"1\" class=\"dataframe\">\n",
              "  <thead>\n",
              "    <tr style=\"text-align: right;\">\n",
              "      <th></th>\n",
              "      <th>GOL</th>\n",
              "      <th>CVC</th>\n",
              "      <th>WEGE</th>\n",
              "      <th>MGLU</th>\n",
              "      <th>TOTS</th>\n",
              "      <th>BOVA</th>\n",
              "    </tr>\n",
              "  </thead>\n",
              "  <tbody>\n",
              "    <tr>\n",
              "      <th>0</th>\n",
              "      <td>14.990000</td>\n",
              "      <td>15.20</td>\n",
              "      <td>11.846200</td>\n",
              "      <td>0.232812</td>\n",
              "      <td>35.732101</td>\n",
              "      <td>47.259998</td>\n",
              "    </tr>\n",
              "    <tr>\n",
              "      <th>1</th>\n",
              "      <td>14.850000</td>\n",
              "      <td>15.00</td>\n",
              "      <td>11.926900</td>\n",
              "      <td>0.237187</td>\n",
              "      <td>34.634201</td>\n",
              "      <td>46.320000</td>\n",
              "    </tr>\n",
              "    <tr>\n",
              "      <th>2</th>\n",
              "      <td>15.210000</td>\n",
              "      <td>14.80</td>\n",
              "      <td>11.750000</td>\n",
              "      <td>0.234062</td>\n",
              "      <td>32.468300</td>\n",
              "      <td>46.580002</td>\n",
              "    </tr>\n",
              "    <tr>\n",
              "      <th>3</th>\n",
              "      <td>14.550000</td>\n",
              "      <td>14.67</td>\n",
              "      <td>11.615400</td>\n",
              "      <td>0.241875</td>\n",
              "      <td>32.238701</td>\n",
              "      <td>48.150002</td>\n",
              "    </tr>\n",
              "    <tr>\n",
              "      <th>4</th>\n",
              "      <td>14.270000</td>\n",
              "      <td>14.15</td>\n",
              "      <td>11.811500</td>\n",
              "      <td>0.240000</td>\n",
              "      <td>32.987301</td>\n",
              "      <td>48.509998</td>\n",
              "    </tr>\n",
              "    <tr>\n",
              "      <th>...</th>\n",
              "      <td>...</td>\n",
              "      <td>...</td>\n",
              "      <td>...</td>\n",
              "      <td>...</td>\n",
              "      <td>...</td>\n",
              "      <td>...</td>\n",
              "    </tr>\n",
              "    <tr>\n",
              "      <th>1441</th>\n",
              "      <td>18.600000</td>\n",
              "      <td>14.17</td>\n",
              "      <td>83.239998</td>\n",
              "      <td>25.450001</td>\n",
              "      <td>28.500000</td>\n",
              "      <td>95.800003</td>\n",
              "    </tr>\n",
              "    <tr>\n",
              "      <th>1442</th>\n",
              "      <td>16.920000</td>\n",
              "      <td>12.77</td>\n",
              "      <td>79.139999</td>\n",
              "      <td>24.629999</td>\n",
              "      <td>27.500000</td>\n",
              "      <td>92.430000</td>\n",
              "    </tr>\n",
              "    <tr>\n",
              "      <th>1443</th>\n",
              "      <td>16.610001</td>\n",
              "      <td>12.68</td>\n",
              "      <td>80.029999</td>\n",
              "      <td>25.360001</td>\n",
              "      <td>28.500000</td>\n",
              "      <td>92.910004</td>\n",
              "    </tr>\n",
              "    <tr>\n",
              "      <th>1444</th>\n",
              "      <td>15.690000</td>\n",
              "      <td>12.28</td>\n",
              "      <td>75.830002</td>\n",
              "      <td>24.629999</td>\n",
              "      <td>27.000000</td>\n",
              "      <td>90.660004</td>\n",
              "    </tr>\n",
              "    <tr>\n",
              "      <th>1445</th>\n",
              "      <td>16.070000</td>\n",
              "      <td>12.42</td>\n",
              "      <td>78.669998</td>\n",
              "      <td>25.309999</td>\n",
              "      <td>27.930000</td>\n",
              "      <td>92.410004</td>\n",
              "    </tr>\n",
              "  </tbody>\n",
              "</table>\n",
              "<p>1446 rows × 6 columns</p>\n",
              "</div>"
            ],
            "text/plain": [
              "            GOL    CVC       WEGE       MGLU       TOTS       BOVA\n",
              "0     14.990000  15.20  11.846200   0.232812  35.732101  47.259998\n",
              "1     14.850000  15.00  11.926900   0.237187  34.634201  46.320000\n",
              "2     15.210000  14.80  11.750000   0.234062  32.468300  46.580002\n",
              "3     14.550000  14.67  11.615400   0.241875  32.238701  48.150002\n",
              "4     14.270000  14.15  11.811500   0.240000  32.987301  48.509998\n",
              "...         ...    ...        ...        ...        ...        ...\n",
              "1441  18.600000  14.17  83.239998  25.450001  28.500000  95.800003\n",
              "1442  16.920000  12.77  79.139999  24.629999  27.500000  92.430000\n",
              "1443  16.610001  12.68  80.029999  25.360001  28.500000  92.910004\n",
              "1444  15.690000  12.28  75.830002  24.629999  27.000000  90.660004\n",
              "1445  16.070000  12.42  78.669998  25.309999  27.930000  92.410004\n",
              "\n",
              "[1446 rows x 6 columns]"
            ]
          },
          "metadata": {
            "tags": []
          },
          "execution_count": 66
        }
      ]
    },
    {
      "cell_type": "code",
      "metadata": {
        "colab": {
          "base_uri": "https://localhost:8080/",
          "height": 447
        },
        "id": "ltZbzHMmsuYL",
        "outputId": "70670153-756a-4c26-fa72-64b813c2e645"
      },
      "source": [
        "taxas_retorno = (dataset / dataset.shift(1)) - 1\n",
        "taxas_retorno"
      ],
      "execution_count": null,
      "outputs": [
        {
          "output_type": "execute_result",
          "data": {
            "text/html": [
              "<div>\n",
              "<style scoped>\n",
              "    .dataframe tbody tr th:only-of-type {\n",
              "        vertical-align: middle;\n",
              "    }\n",
              "\n",
              "    .dataframe tbody tr th {\n",
              "        vertical-align: top;\n",
              "    }\n",
              "\n",
              "    .dataframe thead th {\n",
              "        text-align: right;\n",
              "    }\n",
              "</style>\n",
              "<table border=\"1\" class=\"dataframe\">\n",
              "  <thead>\n",
              "    <tr style=\"text-align: right;\">\n",
              "      <th></th>\n",
              "      <th>GOL</th>\n",
              "      <th>CVC</th>\n",
              "      <th>WEGE</th>\n",
              "      <th>MGLU</th>\n",
              "      <th>TOTS</th>\n",
              "      <th>BOVA</th>\n",
              "    </tr>\n",
              "  </thead>\n",
              "  <tbody>\n",
              "    <tr>\n",
              "      <th>0</th>\n",
              "      <td>NaN</td>\n",
              "      <td>NaN</td>\n",
              "      <td>NaN</td>\n",
              "      <td>NaN</td>\n",
              "      <td>NaN</td>\n",
              "      <td>NaN</td>\n",
              "    </tr>\n",
              "    <tr>\n",
              "      <th>1</th>\n",
              "      <td>-0.009340</td>\n",
              "      <td>-0.013158</td>\n",
              "      <td>0.006812</td>\n",
              "      <td>0.018792</td>\n",
              "      <td>-0.030726</td>\n",
              "      <td>-0.019890</td>\n",
              "    </tr>\n",
              "    <tr>\n",
              "      <th>2</th>\n",
              "      <td>0.024242</td>\n",
              "      <td>-0.013333</td>\n",
              "      <td>-0.014832</td>\n",
              "      <td>-0.013175</td>\n",
              "      <td>-0.062536</td>\n",
              "      <td>0.005613</td>\n",
              "    </tr>\n",
              "    <tr>\n",
              "      <th>3</th>\n",
              "      <td>-0.043392</td>\n",
              "      <td>-0.008784</td>\n",
              "      <td>-0.011455</td>\n",
              "      <td>0.033380</td>\n",
              "      <td>-0.007071</td>\n",
              "      <td>0.033705</td>\n",
              "    </tr>\n",
              "    <tr>\n",
              "      <th>4</th>\n",
              "      <td>-0.019244</td>\n",
              "      <td>-0.035447</td>\n",
              "      <td>0.016883</td>\n",
              "      <td>-0.007752</td>\n",
              "      <td>0.023221</td>\n",
              "      <td>0.007477</td>\n",
              "    </tr>\n",
              "    <tr>\n",
              "      <th>...</th>\n",
              "      <td>...</td>\n",
              "      <td>...</td>\n",
              "      <td>...</td>\n",
              "      <td>...</td>\n",
              "      <td>...</td>\n",
              "      <td>...</td>\n",
              "    </tr>\n",
              "    <tr>\n",
              "      <th>1441</th>\n",
              "      <td>-0.018987</td>\n",
              "      <td>-0.018018</td>\n",
              "      <td>0.005921</td>\n",
              "      <td>-0.000785</td>\n",
              "      <td>0.008136</td>\n",
              "      <td>-0.010024</td>\n",
              "    </tr>\n",
              "    <tr>\n",
              "      <th>1442</th>\n",
              "      <td>-0.090323</td>\n",
              "      <td>-0.098800</td>\n",
              "      <td>-0.049255</td>\n",
              "      <td>-0.032220</td>\n",
              "      <td>-0.035088</td>\n",
              "      <td>-0.035177</td>\n",
              "    </tr>\n",
              "    <tr>\n",
              "      <th>1443</th>\n",
              "      <td>-0.018321</td>\n",
              "      <td>-0.007048</td>\n",
              "      <td>0.011246</td>\n",
              "      <td>0.029639</td>\n",
              "      <td>0.036364</td>\n",
              "      <td>0.005193</td>\n",
              "    </tr>\n",
              "    <tr>\n",
              "      <th>1444</th>\n",
              "      <td>-0.055388</td>\n",
              "      <td>-0.031546</td>\n",
              "      <td>-0.052480</td>\n",
              "      <td>-0.028786</td>\n",
              "      <td>-0.052632</td>\n",
              "      <td>-0.024217</td>\n",
              "    </tr>\n",
              "    <tr>\n",
              "      <th>1445</th>\n",
              "      <td>0.024219</td>\n",
              "      <td>0.011401</td>\n",
              "      <td>0.037452</td>\n",
              "      <td>0.027609</td>\n",
              "      <td>0.034444</td>\n",
              "      <td>0.019303</td>\n",
              "    </tr>\n",
              "  </tbody>\n",
              "</table>\n",
              "<p>1446 rows × 6 columns</p>\n",
              "</div>"
            ],
            "text/plain": [
              "           GOL       CVC      WEGE      MGLU      TOTS      BOVA\n",
              "0          NaN       NaN       NaN       NaN       NaN       NaN\n",
              "1    -0.009340 -0.013158  0.006812  0.018792 -0.030726 -0.019890\n",
              "2     0.024242 -0.013333 -0.014832 -0.013175 -0.062536  0.005613\n",
              "3    -0.043392 -0.008784 -0.011455  0.033380 -0.007071  0.033705\n",
              "4    -0.019244 -0.035447  0.016883 -0.007752  0.023221  0.007477\n",
              "...        ...       ...       ...       ...       ...       ...\n",
              "1441 -0.018987 -0.018018  0.005921 -0.000785  0.008136 -0.010024\n",
              "1442 -0.090323 -0.098800 -0.049255 -0.032220 -0.035088 -0.035177\n",
              "1443 -0.018321 -0.007048  0.011246  0.029639  0.036364  0.005193\n",
              "1444 -0.055388 -0.031546 -0.052480 -0.028786 -0.052632 -0.024217\n",
              "1445  0.024219  0.011401  0.037452  0.027609  0.034444  0.019303\n",
              "\n",
              "[1446 rows x 6 columns]"
            ]
          },
          "metadata": {
            "tags": []
          },
          "execution_count": 68
        }
      ]
    },
    {
      "cell_type": "code",
      "metadata": {
        "colab": {
          "base_uri": "https://localhost:8080/"
        },
        "id": "vC7pN4JJtNcS",
        "outputId": "a1839704-2b09-42bf-9a08-bb5e4fc16953"
      },
      "source": [
        "taxas_retorno.std() * 100"
      ],
      "execution_count": null,
      "outputs": [
        {
          "output_type": "execute_result",
          "data": {
            "text/plain": [
              "GOL     5.159740\n",
              "CVC     3.468112\n",
              "WEGE    2.217699\n",
              "MGLU    4.222228\n",
              "TOTS    2.997335\n",
              "BOVA    1.730331\n",
              "dtype: float64"
            ]
          },
          "metadata": {
            "tags": []
          },
          "execution_count": 72
        }
      ]
    },
    {
      "cell_type": "code",
      "metadata": {
        "colab": {
          "base_uri": "https://localhost:8080/"
        },
        "id": "BZ35FuAzt4DO",
        "outputId": "04dc0f4a-4cb7-44df-a453-3364ab14cd72"
      },
      "source": [
        "taxas_retorno.std() * 246"
      ],
      "execution_count": null,
      "outputs": [
        {
          "output_type": "execute_result",
          "data": {
            "text/plain": [
              "GOL     12.692961\n",
              "CVC      8.531555\n",
              "WEGE     5.455540\n",
              "MGLU    10.386681\n",
              "TOTS     7.373443\n",
              "BOVA     4.256615\n",
              "dtype: float64"
            ]
          },
          "metadata": {
            "tags": []
          },
          "execution_count": 73
        }
      ]
    },
    {
      "cell_type": "code",
      "metadata": {
        "colab": {
          "base_uri": "https://localhost:8080/"
        },
        "id": "K62-NewLuiEx",
        "outputId": "4b8d6e29-bf2e-44dd-f66d-e674ffbdcfad"
      },
      "source": [
        "math.sqrt(246) # Anualizar"
      ],
      "execution_count": null,
      "outputs": [
        {
          "output_type": "execute_result",
          "data": {
            "text/plain": [
              "15.684387141358123"
            ]
          },
          "metadata": {
            "tags": []
          },
          "execution_count": 74
        }
      ]
    },
    {
      "cell_type": "code",
      "metadata": {
        "colab": {
          "base_uri": "https://localhost:8080/"
        },
        "id": "6XdhwPG6uZER",
        "outputId": "685b1168-d949-4801-a2ed-0938a8be475e"
      },
      "source": [
        "taxas_retorno.std() * math.sqrt(246)"
      ],
      "execution_count": null,
      "outputs": [
        {
          "output_type": "execute_result",
          "data": {
            "text/plain": [
              "GOL     0.809274\n",
              "CVC     0.543952\n",
              "WEGE    0.347833\n",
              "MGLU    0.662231\n",
              "TOTS    0.470114\n",
              "BOVA    0.271392\n",
              "dtype: float64"
            ]
          },
          "metadata": {
            "tags": []
          },
          "execution_count": 75
        }
      ]
    },
    {
      "cell_type": "markdown",
      "metadata": {
        "id": "t5-77djrvtGz"
      },
      "source": [
        "## Correlação entre ações"
      ]
    },
    {
      "cell_type": "code",
      "metadata": {
        "colab": {
          "base_uri": "https://localhost:8080/",
          "height": 447
        },
        "id": "UwMtgThGwg6Q",
        "outputId": "cee10428-e688-46c9-c393-8de475ed2c4a"
      },
      "source": [
        "dataset"
      ],
      "execution_count": null,
      "outputs": [
        {
          "output_type": "execute_result",
          "data": {
            "text/html": [
              "<div>\n",
              "<style scoped>\n",
              "    .dataframe tbody tr th:only-of-type {\n",
              "        vertical-align: middle;\n",
              "    }\n",
              "\n",
              "    .dataframe tbody tr th {\n",
              "        vertical-align: top;\n",
              "    }\n",
              "\n",
              "    .dataframe thead th {\n",
              "        text-align: right;\n",
              "    }\n",
              "</style>\n",
              "<table border=\"1\" class=\"dataframe\">\n",
              "  <thead>\n",
              "    <tr style=\"text-align: right;\">\n",
              "      <th></th>\n",
              "      <th>GOL</th>\n",
              "      <th>CVC</th>\n",
              "      <th>WEGE</th>\n",
              "      <th>MGLU</th>\n",
              "      <th>TOTS</th>\n",
              "      <th>BOVA</th>\n",
              "    </tr>\n",
              "  </thead>\n",
              "  <tbody>\n",
              "    <tr>\n",
              "      <th>0</th>\n",
              "      <td>14.990000</td>\n",
              "      <td>15.20</td>\n",
              "      <td>11.846200</td>\n",
              "      <td>0.232812</td>\n",
              "      <td>35.732101</td>\n",
              "      <td>47.259998</td>\n",
              "    </tr>\n",
              "    <tr>\n",
              "      <th>1</th>\n",
              "      <td>14.850000</td>\n",
              "      <td>15.00</td>\n",
              "      <td>11.926900</td>\n",
              "      <td>0.237187</td>\n",
              "      <td>34.634201</td>\n",
              "      <td>46.320000</td>\n",
              "    </tr>\n",
              "    <tr>\n",
              "      <th>2</th>\n",
              "      <td>15.210000</td>\n",
              "      <td>14.80</td>\n",
              "      <td>11.750000</td>\n",
              "      <td>0.234062</td>\n",
              "      <td>32.468300</td>\n",
              "      <td>46.580002</td>\n",
              "    </tr>\n",
              "    <tr>\n",
              "      <th>3</th>\n",
              "      <td>14.550000</td>\n",
              "      <td>14.67</td>\n",
              "      <td>11.615400</td>\n",
              "      <td>0.241875</td>\n",
              "      <td>32.238701</td>\n",
              "      <td>48.150002</td>\n",
              "    </tr>\n",
              "    <tr>\n",
              "      <th>4</th>\n",
              "      <td>14.270000</td>\n",
              "      <td>14.15</td>\n",
              "      <td>11.811500</td>\n",
              "      <td>0.240000</td>\n",
              "      <td>32.987301</td>\n",
              "      <td>48.509998</td>\n",
              "    </tr>\n",
              "    <tr>\n",
              "      <th>...</th>\n",
              "      <td>...</td>\n",
              "      <td>...</td>\n",
              "      <td>...</td>\n",
              "      <td>...</td>\n",
              "      <td>...</td>\n",
              "      <td>...</td>\n",
              "    </tr>\n",
              "    <tr>\n",
              "      <th>1441</th>\n",
              "      <td>18.600000</td>\n",
              "      <td>14.17</td>\n",
              "      <td>83.239998</td>\n",
              "      <td>25.450001</td>\n",
              "      <td>28.500000</td>\n",
              "      <td>95.800003</td>\n",
              "    </tr>\n",
              "    <tr>\n",
              "      <th>1442</th>\n",
              "      <td>16.920000</td>\n",
              "      <td>12.77</td>\n",
              "      <td>79.139999</td>\n",
              "      <td>24.629999</td>\n",
              "      <td>27.500000</td>\n",
              "      <td>92.430000</td>\n",
              "    </tr>\n",
              "    <tr>\n",
              "      <th>1443</th>\n",
              "      <td>16.610001</td>\n",
              "      <td>12.68</td>\n",
              "      <td>80.029999</td>\n",
              "      <td>25.360001</td>\n",
              "      <td>28.500000</td>\n",
              "      <td>92.910004</td>\n",
              "    </tr>\n",
              "    <tr>\n",
              "      <th>1444</th>\n",
              "      <td>15.690000</td>\n",
              "      <td>12.28</td>\n",
              "      <td>75.830002</td>\n",
              "      <td>24.629999</td>\n",
              "      <td>27.000000</td>\n",
              "      <td>90.660004</td>\n",
              "    </tr>\n",
              "    <tr>\n",
              "      <th>1445</th>\n",
              "      <td>16.070000</td>\n",
              "      <td>12.42</td>\n",
              "      <td>78.669998</td>\n",
              "      <td>25.309999</td>\n",
              "      <td>27.930000</td>\n",
              "      <td>92.410004</td>\n",
              "    </tr>\n",
              "  </tbody>\n",
              "</table>\n",
              "<p>1446 rows × 6 columns</p>\n",
              "</div>"
            ],
            "text/plain": [
              "            GOL    CVC       WEGE       MGLU       TOTS       BOVA\n",
              "0     14.990000  15.20  11.846200   0.232812  35.732101  47.259998\n",
              "1     14.850000  15.00  11.926900   0.237187  34.634201  46.320000\n",
              "2     15.210000  14.80  11.750000   0.234062  32.468300  46.580002\n",
              "3     14.550000  14.67  11.615400   0.241875  32.238701  48.150002\n",
              "4     14.270000  14.15  11.811500   0.240000  32.987301  48.509998\n",
              "...         ...    ...        ...        ...        ...        ...\n",
              "1441  18.600000  14.17  83.239998  25.450001  28.500000  95.800003\n",
              "1442  16.920000  12.77  79.139999  24.629999  27.500000  92.430000\n",
              "1443  16.610001  12.68  80.029999  25.360001  28.500000  92.910004\n",
              "1444  15.690000  12.28  75.830002  24.629999  27.000000  90.660004\n",
              "1445  16.070000  12.42  78.669998  25.309999  27.930000  92.410004\n",
              "\n",
              "[1446 rows x 6 columns]"
            ]
          },
          "metadata": {
            "tags": []
          },
          "execution_count": 77
        }
      ]
    },
    {
      "cell_type": "code",
      "metadata": {
        "colab": {
          "base_uri": "https://localhost:8080/",
          "height": 447
        },
        "id": "gbv8-fu4wUq5",
        "outputId": "be9fff25-d355-41a8-bc08-04f1ee410c9c"
      },
      "source": [
        "taxas_retorno"
      ],
      "execution_count": null,
      "outputs": [
        {
          "output_type": "execute_result",
          "data": {
            "text/html": [
              "<div>\n",
              "<style scoped>\n",
              "    .dataframe tbody tr th:only-of-type {\n",
              "        vertical-align: middle;\n",
              "    }\n",
              "\n",
              "    .dataframe tbody tr th {\n",
              "        vertical-align: top;\n",
              "    }\n",
              "\n",
              "    .dataframe thead th {\n",
              "        text-align: right;\n",
              "    }\n",
              "</style>\n",
              "<table border=\"1\" class=\"dataframe\">\n",
              "  <thead>\n",
              "    <tr style=\"text-align: right;\">\n",
              "      <th></th>\n",
              "      <th>GOL</th>\n",
              "      <th>CVC</th>\n",
              "      <th>WEGE</th>\n",
              "      <th>MGLU</th>\n",
              "      <th>TOTS</th>\n",
              "      <th>BOVA</th>\n",
              "    </tr>\n",
              "  </thead>\n",
              "  <tbody>\n",
              "    <tr>\n",
              "      <th>0</th>\n",
              "      <td>NaN</td>\n",
              "      <td>NaN</td>\n",
              "      <td>NaN</td>\n",
              "      <td>NaN</td>\n",
              "      <td>NaN</td>\n",
              "      <td>NaN</td>\n",
              "    </tr>\n",
              "    <tr>\n",
              "      <th>1</th>\n",
              "      <td>-0.009340</td>\n",
              "      <td>-0.013158</td>\n",
              "      <td>0.006812</td>\n",
              "      <td>0.018792</td>\n",
              "      <td>-0.030726</td>\n",
              "      <td>-0.019890</td>\n",
              "    </tr>\n",
              "    <tr>\n",
              "      <th>2</th>\n",
              "      <td>0.024242</td>\n",
              "      <td>-0.013333</td>\n",
              "      <td>-0.014832</td>\n",
              "      <td>-0.013175</td>\n",
              "      <td>-0.062536</td>\n",
              "      <td>0.005613</td>\n",
              "    </tr>\n",
              "    <tr>\n",
              "      <th>3</th>\n",
              "      <td>-0.043392</td>\n",
              "      <td>-0.008784</td>\n",
              "      <td>-0.011455</td>\n",
              "      <td>0.033380</td>\n",
              "      <td>-0.007071</td>\n",
              "      <td>0.033705</td>\n",
              "    </tr>\n",
              "    <tr>\n",
              "      <th>4</th>\n",
              "      <td>-0.019244</td>\n",
              "      <td>-0.035447</td>\n",
              "      <td>0.016883</td>\n",
              "      <td>-0.007752</td>\n",
              "      <td>0.023221</td>\n",
              "      <td>0.007477</td>\n",
              "    </tr>\n",
              "    <tr>\n",
              "      <th>...</th>\n",
              "      <td>...</td>\n",
              "      <td>...</td>\n",
              "      <td>...</td>\n",
              "      <td>...</td>\n",
              "      <td>...</td>\n",
              "      <td>...</td>\n",
              "    </tr>\n",
              "    <tr>\n",
              "      <th>1441</th>\n",
              "      <td>-0.018987</td>\n",
              "      <td>-0.018018</td>\n",
              "      <td>0.005921</td>\n",
              "      <td>-0.000785</td>\n",
              "      <td>0.008136</td>\n",
              "      <td>-0.010024</td>\n",
              "    </tr>\n",
              "    <tr>\n",
              "      <th>1442</th>\n",
              "      <td>-0.090323</td>\n",
              "      <td>-0.098800</td>\n",
              "      <td>-0.049255</td>\n",
              "      <td>-0.032220</td>\n",
              "      <td>-0.035088</td>\n",
              "      <td>-0.035177</td>\n",
              "    </tr>\n",
              "    <tr>\n",
              "      <th>1443</th>\n",
              "      <td>-0.018321</td>\n",
              "      <td>-0.007048</td>\n",
              "      <td>0.011246</td>\n",
              "      <td>0.029639</td>\n",
              "      <td>0.036364</td>\n",
              "      <td>0.005193</td>\n",
              "    </tr>\n",
              "    <tr>\n",
              "      <th>1444</th>\n",
              "      <td>-0.055388</td>\n",
              "      <td>-0.031546</td>\n",
              "      <td>-0.052480</td>\n",
              "      <td>-0.028786</td>\n",
              "      <td>-0.052632</td>\n",
              "      <td>-0.024217</td>\n",
              "    </tr>\n",
              "    <tr>\n",
              "      <th>1445</th>\n",
              "      <td>0.024219</td>\n",
              "      <td>0.011401</td>\n",
              "      <td>0.037452</td>\n",
              "      <td>0.027609</td>\n",
              "      <td>0.034444</td>\n",
              "      <td>0.019303</td>\n",
              "    </tr>\n",
              "  </tbody>\n",
              "</table>\n",
              "<p>1446 rows × 6 columns</p>\n",
              "</div>"
            ],
            "text/plain": [
              "           GOL       CVC      WEGE      MGLU      TOTS      BOVA\n",
              "0          NaN       NaN       NaN       NaN       NaN       NaN\n",
              "1    -0.009340 -0.013158  0.006812  0.018792 -0.030726 -0.019890\n",
              "2     0.024242 -0.013333 -0.014832 -0.013175 -0.062536  0.005613\n",
              "3    -0.043392 -0.008784 -0.011455  0.033380 -0.007071  0.033705\n",
              "4    -0.019244 -0.035447  0.016883 -0.007752  0.023221  0.007477\n",
              "...        ...       ...       ...       ...       ...       ...\n",
              "1441 -0.018987 -0.018018  0.005921 -0.000785  0.008136 -0.010024\n",
              "1442 -0.090323 -0.098800 -0.049255 -0.032220 -0.035088 -0.035177\n",
              "1443 -0.018321 -0.007048  0.011246  0.029639  0.036364  0.005193\n",
              "1444 -0.055388 -0.031546 -0.052480 -0.028786 -0.052632 -0.024217\n",
              "1445  0.024219  0.011401  0.037452  0.027609  0.034444  0.019303\n",
              "\n",
              "[1446 rows x 6 columns]"
            ]
          },
          "metadata": {
            "tags": []
          },
          "execution_count": 76
        }
      ]
    },
    {
      "cell_type": "code",
      "metadata": {
        "colab": {
          "base_uri": "https://localhost:8080/",
          "height": 260
        },
        "id": "A2dHlyuOw_wM",
        "outputId": "2e365218-6b9e-4657-ab41-7b301c8d2ba8"
      },
      "source": [
        "taxas_retorno.cov()"
      ],
      "execution_count": null,
      "outputs": [
        {
          "output_type": "execute_result",
          "data": {
            "text/html": [
              "<div>\n",
              "<style scoped>\n",
              "    .dataframe tbody tr th:only-of-type {\n",
              "        vertical-align: middle;\n",
              "    }\n",
              "\n",
              "    .dataframe tbody tr th {\n",
              "        vertical-align: top;\n",
              "    }\n",
              "\n",
              "    .dataframe thead th {\n",
              "        text-align: right;\n",
              "    }\n",
              "</style>\n",
              "<table border=\"1\" class=\"dataframe\">\n",
              "  <thead>\n",
              "    <tr style=\"text-align: right;\">\n",
              "      <th></th>\n",
              "      <th>GOL</th>\n",
              "      <th>CVC</th>\n",
              "      <th>WEGE</th>\n",
              "      <th>MGLU</th>\n",
              "      <th>TOTS</th>\n",
              "      <th>BOVA</th>\n",
              "    </tr>\n",
              "  </thead>\n",
              "  <tbody>\n",
              "    <tr>\n",
              "      <th>GOL</th>\n",
              "      <td>0.002662</td>\n",
              "      <td>0.000895</td>\n",
              "      <td>0.000366</td>\n",
              "      <td>0.000710</td>\n",
              "      <td>0.000401</td>\n",
              "      <td>0.000528</td>\n",
              "    </tr>\n",
              "    <tr>\n",
              "      <th>CVC</th>\n",
              "      <td>0.000895</td>\n",
              "      <td>0.001203</td>\n",
              "      <td>0.000241</td>\n",
              "      <td>0.000479</td>\n",
              "      <td>0.000274</td>\n",
              "      <td>0.000336</td>\n",
              "    </tr>\n",
              "    <tr>\n",
              "      <th>WEGE</th>\n",
              "      <td>0.000366</td>\n",
              "      <td>0.000241</td>\n",
              "      <td>0.000492</td>\n",
              "      <td>0.000276</td>\n",
              "      <td>0.000199</td>\n",
              "      <td>0.000207</td>\n",
              "    </tr>\n",
              "    <tr>\n",
              "      <th>MGLU</th>\n",
              "      <td>0.000710</td>\n",
              "      <td>0.000479</td>\n",
              "      <td>0.000276</td>\n",
              "      <td>0.001783</td>\n",
              "      <td>0.000252</td>\n",
              "      <td>0.000335</td>\n",
              "    </tr>\n",
              "    <tr>\n",
              "      <th>TOTS</th>\n",
              "      <td>0.000401</td>\n",
              "      <td>0.000274</td>\n",
              "      <td>0.000199</td>\n",
              "      <td>0.000252</td>\n",
              "      <td>0.000898</td>\n",
              "      <td>0.000211</td>\n",
              "    </tr>\n",
              "    <tr>\n",
              "      <th>BOVA</th>\n",
              "      <td>0.000528</td>\n",
              "      <td>0.000336</td>\n",
              "      <td>0.000207</td>\n",
              "      <td>0.000335</td>\n",
              "      <td>0.000211</td>\n",
              "      <td>0.000299</td>\n",
              "    </tr>\n",
              "  </tbody>\n",
              "</table>\n",
              "</div>"
            ],
            "text/plain": [
              "           GOL       CVC      WEGE      MGLU      TOTS      BOVA\n",
              "GOL   0.002662  0.000895  0.000366  0.000710  0.000401  0.000528\n",
              "CVC   0.000895  0.001203  0.000241  0.000479  0.000274  0.000336\n",
              "WEGE  0.000366  0.000241  0.000492  0.000276  0.000199  0.000207\n",
              "MGLU  0.000710  0.000479  0.000276  0.001783  0.000252  0.000335\n",
              "TOTS  0.000401  0.000274  0.000199  0.000252  0.000898  0.000211\n",
              "BOVA  0.000528  0.000336  0.000207  0.000335  0.000211  0.000299"
            ]
          },
          "metadata": {
            "tags": []
          },
          "execution_count": 78
        }
      ]
    },
    {
      "cell_type": "code",
      "metadata": {
        "colab": {
          "base_uri": "https://localhost:8080/",
          "height": 260
        },
        "id": "WsaMv-JzyBB8",
        "outputId": "0e39c84e-3a98-4b69-eb4c-1660170ff8cb"
      },
      "source": [
        "# Empresas BOVA: http://bvmf.bmfbovespa.com.br/indices/ResumoCarteiraQuadrimestre.aspx?Indice=IBOV&idioma=pt-br\n",
        "taxas_retorno.corr()"
      ],
      "execution_count": null,
      "outputs": [
        {
          "output_type": "execute_result",
          "data": {
            "text/html": [
              "<div>\n",
              "<style scoped>\n",
              "    .dataframe tbody tr th:only-of-type {\n",
              "        vertical-align: middle;\n",
              "    }\n",
              "\n",
              "    .dataframe tbody tr th {\n",
              "        vertical-align: top;\n",
              "    }\n",
              "\n",
              "    .dataframe thead th {\n",
              "        text-align: right;\n",
              "    }\n",
              "</style>\n",
              "<table border=\"1\" class=\"dataframe\">\n",
              "  <thead>\n",
              "    <tr style=\"text-align: right;\">\n",
              "      <th></th>\n",
              "      <th>GOL</th>\n",
              "      <th>CVC</th>\n",
              "      <th>WEGE</th>\n",
              "      <th>MGLU</th>\n",
              "      <th>TOTS</th>\n",
              "      <th>BOVA</th>\n",
              "    </tr>\n",
              "  </thead>\n",
              "  <tbody>\n",
              "    <tr>\n",
              "      <th>GOL</th>\n",
              "      <td>1.000000</td>\n",
              "      <td>0.499884</td>\n",
              "      <td>0.319979</td>\n",
              "      <td>0.325900</td>\n",
              "      <td>0.259048</td>\n",
              "      <td>0.590888</td>\n",
              "    </tr>\n",
              "    <tr>\n",
              "      <th>CVC</th>\n",
              "      <td>0.499884</td>\n",
              "      <td>1.000000</td>\n",
              "      <td>0.313461</td>\n",
              "      <td>0.327040</td>\n",
              "      <td>0.263111</td>\n",
              "      <td>0.560705</td>\n",
              "    </tr>\n",
              "    <tr>\n",
              "      <th>WEGE</th>\n",
              "      <td>0.319979</td>\n",
              "      <td>0.313461</td>\n",
              "      <td>1.000000</td>\n",
              "      <td>0.295261</td>\n",
              "      <td>0.299640</td>\n",
              "      <td>0.539577</td>\n",
              "    </tr>\n",
              "    <tr>\n",
              "      <th>MGLU</th>\n",
              "      <td>0.325900</td>\n",
              "      <td>0.327040</td>\n",
              "      <td>0.295261</td>\n",
              "      <td>1.000000</td>\n",
              "      <td>0.199397</td>\n",
              "      <td>0.458245</td>\n",
              "    </tr>\n",
              "    <tr>\n",
              "      <th>TOTS</th>\n",
              "      <td>0.259048</td>\n",
              "      <td>0.263111</td>\n",
              "      <td>0.299640</td>\n",
              "      <td>0.199397</td>\n",
              "      <td>1.000000</td>\n",
              "      <td>0.407193</td>\n",
              "    </tr>\n",
              "    <tr>\n",
              "      <th>BOVA</th>\n",
              "      <td>0.590888</td>\n",
              "      <td>0.560705</td>\n",
              "      <td>0.539577</td>\n",
              "      <td>0.458245</td>\n",
              "      <td>0.407193</td>\n",
              "      <td>1.000000</td>\n",
              "    </tr>\n",
              "  </tbody>\n",
              "</table>\n",
              "</div>"
            ],
            "text/plain": [
              "           GOL       CVC      WEGE      MGLU      TOTS      BOVA\n",
              "GOL   1.000000  0.499884  0.319979  0.325900  0.259048  0.590888\n",
              "CVC   0.499884  1.000000  0.313461  0.327040  0.263111  0.560705\n",
              "WEGE  0.319979  0.313461  1.000000  0.295261  0.299640  0.539577\n",
              "MGLU  0.325900  0.327040  0.295261  1.000000  0.199397  0.458245\n",
              "TOTS  0.259048  0.263111  0.299640  0.199397  1.000000  0.407193\n",
              "BOVA  0.590888  0.560705  0.539577  0.458245  0.407193  1.000000"
            ]
          },
          "metadata": {
            "tags": []
          },
          "execution_count": 79
        }
      ]
    },
    {
      "cell_type": "code",
      "metadata": {
        "colab": {
          "base_uri": "https://localhost:8080/",
          "height": 507
        },
        "id": "LGkZkuG8zfcT",
        "outputId": "10d98031-585e-4c27-eb26-12b71772abfb"
      },
      "source": [
        "plt.figure(figsize=(8,8))\n",
        "sns.heatmap(taxas_retorno.corr(), annot=True);"
      ],
      "execution_count": null,
      "outputs": [
        {
          "output_type": "display_data",
          "data": {
            "image/png": "[encoded data removed]",
            "text/plain": [
              "<Figure size 576x576 with 2 Axes>"
            ]
          },
          "metadata": {
            "tags": [],
            "needs_background": "light"
          }
        }
      ]
    },
    {
      "cell_type": "markdown",
      "metadata": {
        "id": "_leJrS3iJCWQ"
      },
      "source": [
        "## Risco de um portfólio"
      ]
    },
    {
      "cell_type": "markdown",
      "metadata": {
        "id": "OaQ_6HmNYXTX"
      },
      "source": [
        "### Somente duas ações"
      ]
    },
    {
      "cell_type": "code",
      "metadata": {
        "colab": {
          "base_uri": "https://localhost:8080/",
          "height": 447
        },
        "id": "Rl0_pBxZ1iKy",
        "outputId": "90619b73-cbdc-4f2d-8f9a-0540ef7d5b0d"
      },
      "source": [
        "taxas_retorno"
      ],
      "execution_count": null,
      "outputs": [
        {
          "output_type": "execute_result",
          "data": {
            "text/html": [
              "<div>\n",
              "<style scoped>\n",
              "    .dataframe tbody tr th:only-of-type {\n",
              "        vertical-align: middle;\n",
              "    }\n",
              "\n",
              "    .dataframe tbody tr th {\n",
              "        vertical-align: top;\n",
              "    }\n",
              "\n",
              "    .dataframe thead th {\n",
              "        text-align: right;\n",
              "    }\n",
              "</style>\n",
              "<table border=\"1\" class=\"dataframe\">\n",
              "  <thead>\n",
              "    <tr style=\"text-align: right;\">\n",
              "      <th></th>\n",
              "      <th>GOL</th>\n",
              "      <th>CVC</th>\n",
              "      <th>WEGE</th>\n",
              "      <th>MGLU</th>\n",
              "      <th>TOTS</th>\n",
              "      <th>BOVA</th>\n",
              "    </tr>\n",
              "  </thead>\n",
              "  <tbody>\n",
              "    <tr>\n",
              "      <th>0</th>\n",
              "      <td>NaN</td>\n",
              "      <td>NaN</td>\n",
              "      <td>NaN</td>\n",
              "      <td>NaN</td>\n",
              "      <td>NaN</td>\n",
              "      <td>NaN</td>\n",
              "    </tr>\n",
              "    <tr>\n",
              "      <th>1</th>\n",
              "      <td>-0.009340</td>\n",
              "      <td>-0.013158</td>\n",
              "      <td>0.006812</td>\n",
              "      <td>0.018792</td>\n",
              "      <td>-0.030726</td>\n",
              "      <td>-0.019890</td>\n",
              "    </tr>\n",
              "    <tr>\n",
              "      <th>2</th>\n",
              "      <td>0.024242</td>\n",
              "      <td>-0.013333</td>\n",
              "      <td>-0.014832</td>\n",
              "      <td>-0.013175</td>\n",
              "      <td>-0.062536</td>\n",
              "      <td>0.005613</td>\n",
              "    </tr>\n",
              "    <tr>\n",
              "      <th>3</th>\n",
              "      <td>-0.043392</td>\n",
              "      <td>-0.008784</td>\n",
              "      <td>-0.011455</td>\n",
              "      <td>0.033380</td>\n",
              "      <td>-0.007071</td>\n",
              "      <td>0.033705</td>\n",
              "    </tr>\n",
              "    <tr>\n",
              "      <th>4</th>\n",
              "      <td>-0.019244</td>\n",
              "      <td>-0.035447</td>\n",
              "      <td>0.016883</td>\n",
              "      <td>-0.007752</td>\n",
              "      <td>0.023221</td>\n",
              "      <td>0.007477</td>\n",
              "    </tr>\n",
              "    <tr>\n",
              "      <th>...</th>\n",
              "      <td>...</td>\n",
              "      <td>...</td>\n",
              "      <td>...</td>\n",
              "      <td>...</td>\n",
              "      <td>...</td>\n",
              "      <td>...</td>\n",
              "    </tr>\n",
              "    <tr>\n",
              "      <th>1441</th>\n",
              "      <td>-0.018987</td>\n",
              "      <td>-0.018018</td>\n",
              "      <td>0.005921</td>\n",
              "      <td>-0.000785</td>\n",
              "      <td>0.008136</td>\n",
              "      <td>-0.010024</td>\n",
              "    </tr>\n",
              "    <tr>\n",
              "      <th>1442</th>\n",
              "      <td>-0.090323</td>\n",
              "      <td>-0.098800</td>\n",
              "      <td>-0.049255</td>\n",
              "      <td>-0.032220</td>\n",
              "      <td>-0.035088</td>\n",
              "      <td>-0.035177</td>\n",
              "    </tr>\n",
              "    <tr>\n",
              "      <th>1443</th>\n",
              "      <td>-0.018321</td>\n",
              "      <td>-0.007048</td>\n",
              "      <td>0.011246</td>\n",
              "      <td>0.029639</td>\n",
              "      <td>0.036364</td>\n",
              "      <td>0.005193</td>\n",
              "    </tr>\n",
              "    <tr>\n",
              "      <th>1444</th>\n",
              "      <td>-0.055388</td>\n",
              "      <td>-0.031546</td>\n",
              "      <td>-0.052480</td>\n",
              "      <td>-0.028786</td>\n",
              "      <td>-0.052632</td>\n",
              "      <td>-0.024217</td>\n",
              "    </tr>\n",
              "    <tr>\n",
              "      <th>1445</th>\n",
              "      <td>0.024219</td>\n",
              "      <td>0.011401</td>\n",
              "      <td>0.037452</td>\n",
              "      <td>0.027609</td>\n",
              "      <td>0.034444</td>\n",
              "      <td>0.019303</td>\n",
              "    </tr>\n",
              "  </tbody>\n",
              "</table>\n",
              "<p>1446 rows × 6 columns</p>\n",
              "</div>"
            ],
            "text/plain": [
              "           GOL       CVC      WEGE      MGLU      TOTS      BOVA\n",
              "0          NaN       NaN       NaN       NaN       NaN       NaN\n",
              "1    -0.009340 -0.013158  0.006812  0.018792 -0.030726 -0.019890\n",
              "2     0.024242 -0.013333 -0.014832 -0.013175 -0.062536  0.005613\n",
              "3    -0.043392 -0.008784 -0.011455  0.033380 -0.007071  0.033705\n",
              "4    -0.019244 -0.035447  0.016883 -0.007752  0.023221  0.007477\n",
              "...        ...       ...       ...       ...       ...       ...\n",
              "1441 -0.018987 -0.018018  0.005921 -0.000785  0.008136 -0.010024\n",
              "1442 -0.090323 -0.098800 -0.049255 -0.032220 -0.035088 -0.035177\n",
              "1443 -0.018321 -0.007048  0.011246  0.029639  0.036364  0.005193\n",
              "1444 -0.055388 -0.031546 -0.052480 -0.028786 -0.052632 -0.024217\n",
              "1445  0.024219  0.011401  0.037452  0.027609  0.034444  0.019303\n",
              "\n",
              "[1446 rows x 6 columns]"
            ]
          },
          "metadata": {
            "tags": []
          },
          "execution_count": 84
        }
      ]
    },
    {
      "cell_type": "code",
      "metadata": {
        "colab": {
          "base_uri": "https://localhost:8080/",
          "height": 447
        },
        "id": "8zzZJquB1p1P",
        "outputId": "254495b6-0edb-4569-90dc-42d229a479ca"
      },
      "source": [
        "taxas_retorno_gol_cvc = taxas_retorno.drop(columns = ['WEGE', 'MGLU', 'TOTS', 'BOVA'])\n",
        "taxas_retorno_gol_cvc"
      ],
      "execution_count": null,
      "outputs": [
        {
          "output_type": "execute_result",
          "data": {
            "text/html": [
              "<div>\n",
              "<style scoped>\n",
              "    .dataframe tbody tr th:only-of-type {\n",
              "        vertical-align: middle;\n",
              "    }\n",
              "\n",
              "    .dataframe tbody tr th {\n",
              "        vertical-align: top;\n",
              "    }\n",
              "\n",
              "    .dataframe thead th {\n",
              "        text-align: right;\n",
              "    }\n",
              "</style>\n",
              "<table border=\"1\" class=\"dataframe\">\n",
              "  <thead>\n",
              "    <tr style=\"text-align: right;\">\n",
              "      <th></th>\n",
              "      <th>GOL</th>\n",
              "      <th>CVC</th>\n",
              "    </tr>\n",
              "  </thead>\n",
              "  <tbody>\n",
              "    <tr>\n",
              "      <th>0</th>\n",
              "      <td>NaN</td>\n",
              "      <td>NaN</td>\n",
              "    </tr>\n",
              "    <tr>\n",
              "      <th>1</th>\n",
              "      <td>-0.009340</td>\n",
              "      <td>-0.013158</td>\n",
              "    </tr>\n",
              "    <tr>\n",
              "      <th>2</th>\n",
              "      <td>0.024242</td>\n",
              "      <td>-0.013333</td>\n",
              "    </tr>\n",
              "    <tr>\n",
              "      <th>3</th>\n",
              "      <td>-0.043392</td>\n",
              "      <td>-0.008784</td>\n",
              "    </tr>\n",
              "    <tr>\n",
              "      <th>4</th>\n",
              "      <td>-0.019244</td>\n",
              "      <td>-0.035447</td>\n",
              "    </tr>\n",
              "    <tr>\n",
              "      <th>...</th>\n",
              "      <td>...</td>\n",
              "      <td>...</td>\n",
              "    </tr>\n",
              "    <tr>\n",
              "      <th>1441</th>\n",
              "      <td>-0.018987</td>\n",
              "      <td>-0.018018</td>\n",
              "    </tr>\n",
              "    <tr>\n",
              "      <th>1442</th>\n",
              "      <td>-0.090323</td>\n",
              "      <td>-0.098800</td>\n",
              "    </tr>\n",
              "    <tr>\n",
              "      <th>1443</th>\n",
              "      <td>-0.018321</td>\n",
              "      <td>-0.007048</td>\n",
              "    </tr>\n",
              "    <tr>\n",
              "      <th>1444</th>\n",
              "      <td>-0.055388</td>\n",
              "      <td>-0.031546</td>\n",
              "    </tr>\n",
              "    <tr>\n",
              "      <th>1445</th>\n",
              "      <td>0.024219</td>\n",
              "      <td>0.011401</td>\n",
              "    </tr>\n",
              "  </tbody>\n",
              "</table>\n",
              "<p>1446 rows × 2 columns</p>\n",
              "</div>"
            ],
            "text/plain": [
              "           GOL       CVC\n",
              "0          NaN       NaN\n",
              "1    -0.009340 -0.013158\n",
              "2     0.024242 -0.013333\n",
              "3    -0.043392 -0.008784\n",
              "4    -0.019244 -0.035447\n",
              "...        ...       ...\n",
              "1441 -0.018987 -0.018018\n",
              "1442 -0.090323 -0.098800\n",
              "1443 -0.018321 -0.007048\n",
              "1444 -0.055388 -0.031546\n",
              "1445  0.024219  0.011401\n",
              "\n",
              "[1446 rows x 2 columns]"
            ]
          },
          "metadata": {
            "tags": []
          },
          "execution_count": 83
        }
      ]
    },
    {
      "cell_type": "code",
      "metadata": {
        "colab": {
          "base_uri": "https://localhost:8080/",
          "height": 133
        },
        "id": "pCjrtLl_2FbJ",
        "outputId": "37a47b32-e820-4996-b99c-da26232a4a10"
      },
      "source": [
        "taxas_retorno_gol_cvc.cov()"
      ],
      "execution_count": null,
      "outputs": [
        {
          "output_type": "execute_result",
          "data": {
            "text/html": [
              "<div>\n",
              "<style scoped>\n",
              "    .dataframe tbody tr th:only-of-type {\n",
              "        vertical-align: middle;\n",
              "    }\n",
              "\n",
              "    .dataframe tbody tr th {\n",
              "        vertical-align: top;\n",
              "    }\n",
              "\n",
              "    .dataframe thead th {\n",
              "        text-align: right;\n",
              "    }\n",
              "</style>\n",
              "<table border=\"1\" class=\"dataframe\">\n",
              "  <thead>\n",
              "    <tr style=\"text-align: right;\">\n",
              "      <th></th>\n",
              "      <th>GOL</th>\n",
              "      <th>CVC</th>\n",
              "    </tr>\n",
              "  </thead>\n",
              "  <tbody>\n",
              "    <tr>\n",
              "      <th>GOL</th>\n",
              "      <td>0.002662</td>\n",
              "      <td>0.000895</td>\n",
              "    </tr>\n",
              "    <tr>\n",
              "      <th>CVC</th>\n",
              "      <td>0.000895</td>\n",
              "      <td>0.001203</td>\n",
              "    </tr>\n",
              "  </tbody>\n",
              "</table>\n",
              "</div>"
            ],
            "text/plain": [
              "          GOL       CVC\n",
              "GOL  0.002662  0.000895\n",
              "CVC  0.000895  0.001203"
            ]
          },
          "metadata": {
            "tags": []
          },
          "execution_count": 85
        }
      ]
    },
    {
      "cell_type": "code",
      "metadata": {
        "colab": {
          "base_uri": "https://localhost:8080/",
          "height": 133
        },
        "id": "G_N-BvVk2UQv",
        "outputId": "b012ad19-bc43-418f-d339-39b734f29ce3"
      },
      "source": [
        "taxas_retorno_gol_cvc.cov() * 246"
      ],
      "execution_count": null,
      "outputs": [
        {
          "output_type": "execute_result",
          "data": {
            "text/html": [
              "<div>\n",
              "<style scoped>\n",
              "    .dataframe tbody tr th:only-of-type {\n",
              "        vertical-align: middle;\n",
              "    }\n",
              "\n",
              "    .dataframe tbody tr th {\n",
              "        vertical-align: top;\n",
              "    }\n",
              "\n",
              "    .dataframe thead th {\n",
              "        text-align: right;\n",
              "    }\n",
              "</style>\n",
              "<table border=\"1\" class=\"dataframe\">\n",
              "  <thead>\n",
              "    <tr style=\"text-align: right;\">\n",
              "      <th></th>\n",
              "      <th>GOL</th>\n",
              "      <th>CVC</th>\n",
              "    </tr>\n",
              "  </thead>\n",
              "  <tbody>\n",
              "    <tr>\n",
              "      <th>GOL</th>\n",
              "      <td>0.654924</td>\n",
              "      <td>0.220052</td>\n",
              "    </tr>\n",
              "    <tr>\n",
              "      <th>CVC</th>\n",
              "      <td>0.220052</td>\n",
              "      <td>0.295884</td>\n",
              "    </tr>\n",
              "  </tbody>\n",
              "</table>\n",
              "</div>"
            ],
            "text/plain": [
              "          GOL       CVC\n",
              "GOL  0.654924  0.220052\n",
              "CVC  0.220052  0.295884"
            ]
          },
          "metadata": {
            "tags": []
          },
          "execution_count": 86
        }
      ]
    },
    {
      "cell_type": "code",
      "metadata": {
        "id": "BNzJdylB2gUx"
      },
      "source": [
        "pesos = np.array([0.5, 0.5])"
      ],
      "execution_count": null,
      "outputs": []
    },
    {
      "cell_type": "code",
      "metadata": {
        "colab": {
          "base_uri": "https://localhost:8080/"
        },
        "id": "SOYUEJdg5AZu",
        "outputId": "d6896ba8-f69a-41e2-80b7-3af79cd5014a"
      },
      "source": [
        "np.dot(taxas_retorno_gol_cvc.cov() * 246, pesos)"
      ],
      "execution_count": null,
      "outputs": [
        {
          "output_type": "execute_result",
          "data": {
            "text/plain": [
              "array([0.43748787, 0.25796791])"
            ]
          },
          "metadata": {
            "tags": []
          },
          "execution_count": 88
        }
      ]
    },
    {
      "cell_type": "code",
      "metadata": {
        "colab": {
          "base_uri": "https://localhost:8080/"
        },
        "id": "_kMUpXQf5YdV",
        "outputId": "d48cb10b-111d-4dbf-e95b-792b05a564ce"
      },
      "source": [
        "np.dot(pesos, np.dot(taxas_retorno_gol_cvc.cov() * 246, pesos))"
      ],
      "execution_count": null,
      "outputs": [
        {
          "output_type": "execute_result",
          "data": {
            "text/plain": [
              "0.3477278915072453"
            ]
          },
          "metadata": {
            "tags": []
          },
          "execution_count": 89
        }
      ]
    },
    {
      "cell_type": "code",
      "metadata": {
        "colab": {
          "base_uri": "https://localhost:8080/"
        },
        "id": "FVUlcRa25olE",
        "outputId": "aee89f02-2964-4ee3-ce6b-edf7a2d8cdd8"
      },
      "source": [
        "math.sqrt(np.dot(pesos, np.dot(taxas_retorno_gol_cvc.cov() * 246, pesos))) * 100"
      ],
      "execution_count": null,
      "outputs": [
        {
          "output_type": "execute_result",
          "data": {
            "text/plain": [
              "58.96845695007165"
            ]
          },
          "metadata": {
            "tags": []
          },
          "execution_count": 92
        }
      ]
    },
    {
      "cell_type": "markdown",
      "metadata": {
        "id": "c1wTpHntY717"
      },
      "source": [
        "### Todas as ações"
      ]
    },
    {
      "cell_type": "code",
      "metadata": {
        "colab": {
          "base_uri": "https://localhost:8080/"
        },
        "id": "_gGk8djnGW85",
        "outputId": "5b6ffe6a-8630-4a25-a611-0550df74a943"
      },
      "source": [
        "dataset.columns"
      ],
      "execution_count": null,
      "outputs": [
        {
          "output_type": "execute_result",
          "data": {
            "text/plain": [
              "Index(['GOL', 'CVC', 'WEGE', 'MGLU', 'TOTS', 'BOVA'], dtype='object')"
            ]
          },
          "metadata": {
            "tags": []
          },
          "execution_count": 93
        }
      ]
    },
    {
      "cell_type": "code",
      "metadata": {
        "id": "wl9N5jK1GQCO"
      },
      "source": [
        "pesos1 = np.array([0.2, 0.2, 0.2, 0.2, 0.2, 0.0])"
      ],
      "execution_count": null,
      "outputs": []
    },
    {
      "cell_type": "code",
      "metadata": {
        "colab": {
          "base_uri": "https://localhost:8080/"
        },
        "id": "sLrPy70XGkaT",
        "outputId": "aa180e5d-0016-48c7-f6fd-f5ec51bdaa0a"
      },
      "source": [
        "pesos1.sum()"
      ],
      "execution_count": null,
      "outputs": [
        {
          "output_type": "execute_result",
          "data": {
            "text/plain": [
              "1.0"
            ]
          },
          "metadata": {
            "tags": []
          },
          "execution_count": 95
        }
      ]
    },
    {
      "cell_type": "code",
      "metadata": {
        "colab": {
          "base_uri": "https://localhost:8080/",
          "height": 260
        },
        "id": "V-KXY8uyGmoV",
        "outputId": "128de9c8-0021-4d21-de58-a43a538833d9"
      },
      "source": [
        "taxas_retorno.cov() * 246"
      ],
      "execution_count": null,
      "outputs": [
        {
          "output_type": "execute_result",
          "data": {
            "text/html": [
              "<div>\n",
              "<style scoped>\n",
              "    .dataframe tbody tr th:only-of-type {\n",
              "        vertical-align: middle;\n",
              "    }\n",
              "\n",
              "    .dataframe tbody tr th {\n",
              "        vertical-align: top;\n",
              "    }\n",
              "\n",
              "    .dataframe thead th {\n",
              "        text-align: right;\n",
              "    }\n",
              "</style>\n",
              "<table border=\"1\" class=\"dataframe\">\n",
              "  <thead>\n",
              "    <tr style=\"text-align: right;\">\n",
              "      <th></th>\n",
              "      <th>GOL</th>\n",
              "      <th>CVC</th>\n",
              "      <th>WEGE</th>\n",
              "      <th>MGLU</th>\n",
              "      <th>TOTS</th>\n",
              "      <th>BOVA</th>\n",
              "    </tr>\n",
              "  </thead>\n",
              "  <tbody>\n",
              "    <tr>\n",
              "      <th>GOL</th>\n",
              "      <td>0.654924</td>\n",
              "      <td>0.220052</td>\n",
              "      <td>0.090071</td>\n",
              "      <td>0.174658</td>\n",
              "      <td>0.098555</td>\n",
              "      <td>0.129777</td>\n",
              "    </tr>\n",
              "    <tr>\n",
              "      <th>CVC</th>\n",
              "      <td>0.220052</td>\n",
              "      <td>0.295884</td>\n",
              "      <td>0.059308</td>\n",
              "      <td>0.117807</td>\n",
              "      <td>0.067282</td>\n",
              "      <td>0.082774</td>\n",
              "    </tr>\n",
              "    <tr>\n",
              "      <th>WEGE</th>\n",
              "      <td>0.090071</td>\n",
              "      <td>0.059308</td>\n",
              "      <td>0.120987</td>\n",
              "      <td>0.068012</td>\n",
              "      <td>0.048997</td>\n",
              "      <td>0.050935</td>\n",
              "    </tr>\n",
              "    <tr>\n",
              "      <th>MGLU</th>\n",
              "      <td>0.174658</td>\n",
              "      <td>0.117807</td>\n",
              "      <td>0.068012</td>\n",
              "      <td>0.438549</td>\n",
              "      <td>0.062077</td>\n",
              "      <td>0.082358</td>\n",
              "    </tr>\n",
              "    <tr>\n",
              "      <th>TOTS</th>\n",
              "      <td>0.098555</td>\n",
              "      <td>0.067282</td>\n",
              "      <td>0.048997</td>\n",
              "      <td>0.062077</td>\n",
              "      <td>0.221007</td>\n",
              "      <td>0.051952</td>\n",
              "    </tr>\n",
              "    <tr>\n",
              "      <th>BOVA</th>\n",
              "      <td>0.129777</td>\n",
              "      <td>0.082774</td>\n",
              "      <td>0.050935</td>\n",
              "      <td>0.082358</td>\n",
              "      <td>0.051952</td>\n",
              "      <td>0.073654</td>\n",
              "    </tr>\n",
              "  </tbody>\n",
              "</table>\n",
              "</div>"
            ],
            "text/plain": [
              "           GOL       CVC      WEGE      MGLU      TOTS      BOVA\n",
              "GOL   0.654924  0.220052  0.090071  0.174658  0.098555  0.129777\n",
              "CVC   0.220052  0.295884  0.059308  0.117807  0.067282  0.082774\n",
              "WEGE  0.090071  0.059308  0.120987  0.068012  0.048997  0.050935\n",
              "MGLU  0.174658  0.117807  0.068012  0.438549  0.062077  0.082358\n",
              "TOTS  0.098555  0.067282  0.048997  0.062077  0.221007  0.051952\n",
              "BOVA  0.129777  0.082774  0.050935  0.082358  0.051952  0.073654"
            ]
          },
          "metadata": {
            "tags": []
          },
          "execution_count": 98
        }
      ]
    },
    {
      "cell_type": "code",
      "metadata": {
        "colab": {
          "base_uri": "https://localhost:8080/"
        },
        "id": "h-C4Z_fXG2q2",
        "outputId": "c8a10126-97c3-4e19-8397-dc2f11e753f4"
      },
      "source": [
        "np.dot(taxas_retorno.cov() * 246, pesos1)"
      ],
      "execution_count": null,
      "outputs": [
        {
          "output_type": "execute_result",
          "data": {
            "text/plain": [
              "array([0.24765205, 0.15206665, 0.0774753 , 0.17222065, 0.09958374,\n",
              "       0.07955904])"
            ]
          },
          "metadata": {
            "tags": []
          },
          "execution_count": 99
        }
      ]
    },
    {
      "cell_type": "code",
      "metadata": {
        "colab": {
          "base_uri": "https://localhost:8080/"
        },
        "id": "Rh8Q5vVLHFDe",
        "outputId": "1d6c76d5-739f-4b8c-89f1-3f7c64ffda69"
      },
      "source": [
        "variancia_portfolio1 = np.dot(pesos1, np.dot(taxas_retorno.cov() * 246, pesos1))\n",
        "variancia_portfolio1"
      ],
      "execution_count": null,
      "outputs": [
        {
          "output_type": "execute_result",
          "data": {
            "text/plain": [
              "0.1497996784376145"
            ]
          },
          "metadata": {
            "tags": []
          },
          "execution_count": 100
        }
      ]
    },
    {
      "cell_type": "code",
      "metadata": {
        "colab": {
          "base_uri": "https://localhost:8080/"
        },
        "id": "q-u0ph4HHP1L",
        "outputId": "54b968ba-f28f-495d-e87a-aee79967dc49"
      },
      "source": [
        "volatilidade_portfolio1 = math.sqrt(variancia_portfolio1)\n",
        "volatilidade_portfolio1"
      ],
      "execution_count": null,
      "outputs": [
        {
          "output_type": "execute_result",
          "data": {
            "text/plain": [
              "0.3870396341947611"
            ]
          },
          "metadata": {
            "tags": []
          },
          "execution_count": 101
        }
      ]
    },
    {
      "cell_type": "code",
      "metadata": {
        "id": "Bz5n1c6VHzwg"
      },
      "source": [
        "pesos2 = np.array([0.0, 0.0, 0.0, 0.0, 0.0, 1.0])"
      ],
      "execution_count": null,
      "outputs": []
    },
    {
      "cell_type": "code",
      "metadata": {
        "colab": {
          "base_uri": "https://localhost:8080/"
        },
        "id": "otEgx6tgH9li",
        "outputId": "2c358f58-8d64-476e-dce0-e7721b4d4763"
      },
      "source": [
        "variancia_portfolio2 = np.dot(pesos2, np.dot(taxas_retorno.cov() * 246, pesos2))\n",
        "variancia_portfolio2"
      ],
      "execution_count": null,
      "outputs": [
        {
          "output_type": "execute_result",
          "data": {
            "text/plain": [
              "0.073653547522288"
            ]
          },
          "metadata": {
            "tags": []
          },
          "execution_count": 105
        }
      ]
    },
    {
      "cell_type": "code",
      "metadata": {
        "colab": {
          "base_uri": "https://localhost:8080/"
        },
        "id": "76SNhDpMIqZs",
        "outputId": "c5d0b0b8-5879-40f0-cb8d-258af0691004"
      },
      "source": [
        "volatilidade_portfolio2 = math.sqrt(variancia_portfolio2)\n",
        "volatilidade_portfolio2"
      ],
      "execution_count": null,
      "outputs": [
        {
          "output_type": "execute_result",
          "data": {
            "text/plain": [
              "0.2713918707741409"
            ]
          },
          "metadata": {
            "tags": []
          },
          "execution_count": 106
        }
      ]
    },
    {
      "cell_type": "markdown",
      "metadata": {
        "id": "n7kDc5w4cRK6"
      },
      "source": [
        "## Risco sistemático e não sistemático\n",
        "\n",
        "- Risco sistemático: mudança diária no preço das ações, devido a eventos como recessão da economia, comportamento do cliente (eventos externos). Não pode ser eliminado e pode afetar todas as empresas\n",
        "- Risco não sistemático: Eventos específicos na empresa (depende do tipo de empresa)"
      ]
    },
    {
      "cell_type": "code",
      "metadata": {
        "colab": {
          "base_uri": "https://localhost:8080/",
          "height": 447
        },
        "id": "MSRjmyHqKoHO",
        "outputId": "310815c0-10bc-4f0c-8951-d8b2045ea091"
      },
      "source": [
        "taxas_retorno"
      ],
      "execution_count": null,
      "outputs": [
        {
          "output_type": "execute_result",
          "data": {
            "text/html": [
              "<div>\n",
              "<style scoped>\n",
              "    .dataframe tbody tr th:only-of-type {\n",
              "        vertical-align: middle;\n",
              "    }\n",
              "\n",
              "    .dataframe tbody tr th {\n",
              "        vertical-align: top;\n",
              "    }\n",
              "\n",
              "    .dataframe thead th {\n",
              "        text-align: right;\n",
              "    }\n",
              "</style>\n",
              "<table border=\"1\" class=\"dataframe\">\n",
              "  <thead>\n",
              "    <tr style=\"text-align: right;\">\n",
              "      <th></th>\n",
              "      <th>GOL</th>\n",
              "      <th>CVC</th>\n",
              "      <th>WEGE</th>\n",
              "      <th>MGLU</th>\n",
              "      <th>TOTS</th>\n",
              "      <th>BOVA</th>\n",
              "    </tr>\n",
              "  </thead>\n",
              "  <tbody>\n",
              "    <tr>\n",
              "      <th>0</th>\n",
              "      <td>NaN</td>\n",
              "      <td>NaN</td>\n",
              "      <td>NaN</td>\n",
              "      <td>NaN</td>\n",
              "      <td>NaN</td>\n",
              "      <td>NaN</td>\n",
              "    </tr>\n",
              "    <tr>\n",
              "      <th>1</th>\n",
              "      <td>-0.009340</td>\n",
              "      <td>-0.013158</td>\n",
              "      <td>0.006812</td>\n",
              "      <td>0.018792</td>\n",
              "      <td>-0.030726</td>\n",
              "      <td>-0.019890</td>\n",
              "    </tr>\n",
              "    <tr>\n",
              "      <th>2</th>\n",
              "      <td>0.024242</td>\n",
              "      <td>-0.013333</td>\n",
              "      <td>-0.014832</td>\n",
              "      <td>-0.013175</td>\n",
              "      <td>-0.062536</td>\n",
              "      <td>0.005613</td>\n",
              "    </tr>\n",
              "    <tr>\n",
              "      <th>3</th>\n",
              "      <td>-0.043392</td>\n",
              "      <td>-0.008784</td>\n",
              "      <td>-0.011455</td>\n",
              "      <td>0.033380</td>\n",
              "      <td>-0.007071</td>\n",
              "      <td>0.033705</td>\n",
              "    </tr>\n",
              "    <tr>\n",
              "      <th>4</th>\n",
              "      <td>-0.019244</td>\n",
              "      <td>-0.035447</td>\n",
              "      <td>0.016883</td>\n",
              "      <td>-0.007752</td>\n",
              "      <td>0.023221</td>\n",
              "      <td>0.007477</td>\n",
              "    </tr>\n",
              "    <tr>\n",
              "      <th>...</th>\n",
              "      <td>...</td>\n",
              "      <td>...</td>\n",
              "      <td>...</td>\n",
              "      <td>...</td>\n",
              "      <td>...</td>\n",
              "      <td>...</td>\n",
              "    </tr>\n",
              "    <tr>\n",
              "      <th>1441</th>\n",
              "      <td>-0.018987</td>\n",
              "      <td>-0.018018</td>\n",
              "      <td>0.005921</td>\n",
              "      <td>-0.000785</td>\n",
              "      <td>0.008136</td>\n",
              "      <td>-0.010024</td>\n",
              "    </tr>\n",
              "    <tr>\n",
              "      <th>1442</th>\n",
              "      <td>-0.090323</td>\n",
              "      <td>-0.098800</td>\n",
              "      <td>-0.049255</td>\n",
              "      <td>-0.032220</td>\n",
              "      <td>-0.035088</td>\n",
              "      <td>-0.035177</td>\n",
              "    </tr>\n",
              "    <tr>\n",
              "      <th>1443</th>\n",
              "      <td>-0.018321</td>\n",
              "      <td>-0.007048</td>\n",
              "      <td>0.011246</td>\n",
              "      <td>0.029639</td>\n",
              "      <td>0.036364</td>\n",
              "      <td>0.005193</td>\n",
              "    </tr>\n",
              "    <tr>\n",
              "      <th>1444</th>\n",
              "      <td>-0.055388</td>\n",
              "      <td>-0.031546</td>\n",
              "      <td>-0.052480</td>\n",
              "      <td>-0.028786</td>\n",
              "      <td>-0.052632</td>\n",
              "      <td>-0.024217</td>\n",
              "    </tr>\n",
              "    <tr>\n",
              "      <th>1445</th>\n",
              "      <td>0.024219</td>\n",
              "      <td>0.011401</td>\n",
              "      <td>0.037452</td>\n",
              "      <td>0.027609</td>\n",
              "      <td>0.034444</td>\n",
              "      <td>0.019303</td>\n",
              "    </tr>\n",
              "  </tbody>\n",
              "</table>\n",
              "<p>1446 rows × 6 columns</p>\n",
              "</div>"
            ],
            "text/plain": [
              "           GOL       CVC      WEGE      MGLU      TOTS      BOVA\n",
              "0          NaN       NaN       NaN       NaN       NaN       NaN\n",
              "1    -0.009340 -0.013158  0.006812  0.018792 -0.030726 -0.019890\n",
              "2     0.024242 -0.013333 -0.014832 -0.013175 -0.062536  0.005613\n",
              "3    -0.043392 -0.008784 -0.011455  0.033380 -0.007071  0.033705\n",
              "4    -0.019244 -0.035447  0.016883 -0.007752  0.023221  0.007477\n",
              "...        ...       ...       ...       ...       ...       ...\n",
              "1441 -0.018987 -0.018018  0.005921 -0.000785  0.008136 -0.010024\n",
              "1442 -0.090323 -0.098800 -0.049255 -0.032220 -0.035088 -0.035177\n",
              "1443 -0.018321 -0.007048  0.011246  0.029639  0.036364  0.005193\n",
              "1444 -0.055388 -0.031546 -0.052480 -0.028786 -0.052632 -0.024217\n",
              "1445  0.024219  0.011401  0.037452  0.027609  0.034444  0.019303\n",
              "\n",
              "[1446 rows x 6 columns]"
            ]
          },
          "metadata": {
            "tags": []
          },
          "execution_count": 107
        }
      ]
    },
    {
      "cell_type": "code",
      "metadata": {
        "colab": {
          "base_uri": "https://localhost:8080/"
        },
        "id": "FCDxowKVKsfS",
        "outputId": "2a2a5329-588b-4688-f526-c7064b36118b"
      },
      "source": [
        "pesos1"
      ],
      "execution_count": null,
      "outputs": [
        {
          "output_type": "execute_result",
          "data": {
            "text/plain": [
              "array([0.2, 0.2, 0.2, 0.2, 0.2, 0. ])"
            ]
          },
          "metadata": {
            "tags": []
          },
          "execution_count": 108
        }
      ]
    },
    {
      "cell_type": "code",
      "metadata": {
        "colab": {
          "base_uri": "https://localhost:8080/"
        },
        "id": "cZUl4RjJK408",
        "outputId": "5a9e548a-2dfc-452c-a66b-e396b7bbf53c"
      },
      "source": [
        "pesos2"
      ],
      "execution_count": null,
      "outputs": [
        {
          "output_type": "execute_result",
          "data": {
            "text/plain": [
              "array([0., 0., 0., 0., 0., 1.])"
            ]
          },
          "metadata": {
            "tags": []
          },
          "execution_count": 109
        }
      ]
    },
    {
      "cell_type": "code",
      "metadata": {
        "colab": {
          "base_uri": "https://localhost:8080/"
        },
        "id": "RBSTwW0qK8rf",
        "outputId": "a53ea383-4644-49c4-cdc0-0366317b08db"
      },
      "source": [
        "taxas_retorno.var() * 246"
      ],
      "execution_count": null,
      "outputs": [
        {
          "output_type": "execute_result",
          "data": {
            "text/plain": [
              "GOL     0.654924\n",
              "CVC     0.295884\n",
              "WEGE    0.120987\n",
              "MGLU    0.438549\n",
              "TOTS    0.221007\n",
              "BOVA    0.073654\n",
              "dtype: float64"
            ]
          },
          "metadata": {
            "tags": []
          },
          "execution_count": 112
        }
      ]
    },
    {
      "cell_type": "code",
      "metadata": {
        "colab": {
          "base_uri": "https://localhost:8080/"
        },
        "id": "ANESMtW1LcSA",
        "outputId": "1cf5d9ff-b8a7-4c52-b479-8927e1c9c986"
      },
      "source": [
        "variancia_pesos1 = (taxas_retorno.var() * 246) * pesos1\n",
        "variancia_pesos1"
      ],
      "execution_count": null,
      "outputs": [
        {
          "output_type": "execute_result",
          "data": {
            "text/plain": [
              "GOL     0.130985\n",
              "CVC     0.059177\n",
              "WEGE    0.024197\n",
              "MGLU    0.087710\n",
              "TOTS    0.044201\n",
              "BOVA    0.000000\n",
              "dtype: float64"
            ]
          },
          "metadata": {
            "tags": []
          },
          "execution_count": 114
        }
      ]
    },
    {
      "cell_type": "code",
      "metadata": {
        "colab": {
          "base_uri": "https://localhost:8080/"
        },
        "id": "nONXZUzyLzfD",
        "outputId": "14b7efa4-323e-4abf-d4c0-f16c65ea3b8a"
      },
      "source": [
        "sub1 = - variancia_pesos1[0] - variancia_pesos1[1] - variancia_pesos1[2] - variancia_pesos1[3] - variancia_pesos1[4] - variancia_pesos1[5] #Atualizado: 02/05/2021\n",
        "sub1"
      ],
      "execution_count": null,
      "outputs": [
        {
          "output_type": "execute_result",
          "data": {
            "text/plain": [
              "-0.08430073336717872"
            ]
          },
          "metadata": {
            "tags": []
          },
          "execution_count": 115
        }
      ]
    },
    {
      "cell_type": "code",
      "metadata": {
        "colab": {
          "base_uri": "https://localhost:8080/"
        },
        "id": "34Q_JMRMMIUT",
        "outputId": "2d5af47b-7988-4760-884f-2355c1e42ddd"
      },
      "source": [
        "variancia_portfolio1"
      ],
      "execution_count": null,
      "outputs": [
        {
          "output_type": "execute_result",
          "data": {
            "text/plain": [
              "0.1497996784376145"
            ]
          },
          "metadata": {
            "tags": []
          },
          "execution_count": 116
        }
      ]
    },
    {
      "cell_type": "code",
      "metadata": {
        "colab": {
          "base_uri": "https://localhost:8080/"
        },
        "id": "L4q3AgcvMP0h",
        "outputId": "1ea4a3c9-5163-411c-8c0d-a6b2c854859f"
      },
      "source": [
        "risco_nao_sistematico1 = (variancia_portfolio1 - sub1)\n",
        "risco_nao_sistematico1"
      ],
      "execution_count": null,
      "outputs": [
        {
          "output_type": "execute_result",
          "data": {
            "text/plain": [
              "0.2341004118047932"
            ]
          },
          "metadata": {
            "tags": []
          },
          "execution_count": 117
        }
      ]
    },
    {
      "cell_type": "code",
      "metadata": {
        "colab": {
          "base_uri": "https://localhost:8080/"
        },
        "id": "Wak9fBVoMqL7",
        "outputId": "b954ddaf-c410-44f5-9007-75a5076f14a9"
      },
      "source": [
        "variancia_pesos2 = (taxas_retorno.var() * 246) * pesos2\n",
        "variancia_pesos2"
      ],
      "execution_count": null,
      "outputs": [
        {
          "output_type": "execute_result",
          "data": {
            "text/plain": [
              "GOL     0.000000\n",
              "CVC     0.000000\n",
              "WEGE    0.000000\n",
              "MGLU    0.000000\n",
              "TOTS    0.000000\n",
              "BOVA    0.073654\n",
              "dtype: float64"
            ]
          },
          "metadata": {
            "tags": []
          },
          "execution_count": 118
        }
      ]
    },
    {
      "cell_type": "code",
      "metadata": {
        "colab": {
          "base_uri": "https://localhost:8080/"
        },
        "id": "xWv0vjrAM1Kv",
        "outputId": "aed77908-ca32-444a-bfc8-76a568a1c3f8"
      },
      "source": [
        "sub2 = variancia_pesos2[0] - variancia_pesos2[1] - variancia_pesos2[2] - variancia_pesos2[3] - variancia_pesos2[4] - variancia_pesos2[5]\n",
        "sub2"
      ],
      "execution_count": null,
      "outputs": [
        {
          "output_type": "execute_result",
          "data": {
            "text/plain": [
              "-0.073653547522288"
            ]
          },
          "metadata": {
            "tags": []
          },
          "execution_count": 119
        }
      ]
    },
    {
      "cell_type": "code",
      "metadata": {
        "colab": {
          "base_uri": "https://localhost:8080/"
        },
        "id": "eS3DGJgAM76q",
        "outputId": "1c690654-4681-4455-9a75-e87640a2615b"
      },
      "source": [
        "variancia_portfolio2"
      ],
      "execution_count": null,
      "outputs": [
        {
          "output_type": "execute_result",
          "data": {
            "text/plain": [
              "0.073653547522288"
            ]
          },
          "metadata": {
            "tags": []
          },
          "execution_count": 120
        }
      ]
    },
    {
      "cell_type": "code",
      "metadata": {
        "colab": {
          "base_uri": "https://localhost:8080/"
        },
        "id": "9Aq29L-VNAJ0",
        "outputId": "420e4555-6b96-4497-e2de-09fa254fb6ca"
      },
      "source": [
        "risco_nao_sistematico2 = (variancia_portfolio2 - sub2)\n",
        "risco_nao_sistematico2"
      ],
      "execution_count": null,
      "outputs": [
        {
          "output_type": "execute_result",
          "data": {
            "text/plain": [
              "0.147307095044576"
            ]
          },
          "metadata": {
            "tags": []
          },
          "execution_count": 121
        }
      ]
    },
    {
      "cell_type": "markdown",
      "metadata": {
        "id": "MAEA6W5lqAeu"
      },
      "source": [
        "## Exercício"
      ]
    },
    {
      "cell_type": "code",
      "metadata": {
        "colab": {
          "base_uri": "https://localhost:8080/",
          "height": 447
        },
        "id": "KdBstl18qCA5",
        "outputId": "6ef11ebc-3d44-421c-9302-9613e7578b31"
      },
      "source": [
        "dataset = pd.read_csv('acoes_ex.csv')\n",
        "dataset"
      ],
      "execution_count": null,
      "outputs": [
        {
          "output_type": "execute_result",
          "data": {
            "text/html": [
              "<div>\n",
              "<style scoped>\n",
              "    .dataframe tbody tr th:only-of-type {\n",
              "        vertical-align: middle;\n",
              "    }\n",
              "\n",
              "    .dataframe tbody tr th {\n",
              "        vertical-align: top;\n",
              "    }\n",
              "\n",
              "    .dataframe thead th {\n",
              "        text-align: right;\n",
              "    }\n",
              "</style>\n",
              "<table border=\"1\" class=\"dataframe\">\n",
              "  <thead>\n",
              "    <tr style=\"text-align: right;\">\n",
              "      <th></th>\n",
              "      <th>Date</th>\n",
              "      <th>AMBEV</th>\n",
              "      <th>ODONTOPREV</th>\n",
              "      <th>VIVO</th>\n",
              "      <th>PETROBRAS</th>\n",
              "      <th>BBRASIL</th>\n",
              "      <th>BOVA</th>\n",
              "    </tr>\n",
              "  </thead>\n",
              "  <tbody>\n",
              "    <tr>\n",
              "      <th>0</th>\n",
              "      <td>2015-01-02</td>\n",
              "      <td>16.020000</td>\n",
              "      <td>9.37</td>\n",
              "      <td>37.820000</td>\n",
              "      <td>9.000000</td>\n",
              "      <td>22.650000</td>\n",
              "      <td>47.259998</td>\n",
              "    </tr>\n",
              "    <tr>\n",
              "      <th>1</th>\n",
              "      <td>2015-01-05</td>\n",
              "      <td>15.730000</td>\n",
              "      <td>9.62</td>\n",
              "      <td>37.070000</td>\n",
              "      <td>8.270000</td>\n",
              "      <td>22.180000</td>\n",
              "      <td>46.320000</td>\n",
              "    </tr>\n",
              "    <tr>\n",
              "      <th>2</th>\n",
              "      <td>2015-01-06</td>\n",
              "      <td>16.330000</td>\n",
              "      <td>9.55</td>\n",
              "      <td>36.150002</td>\n",
              "      <td>8.060000</td>\n",
              "      <td>22.490000</td>\n",
              "      <td>46.580002</td>\n",
              "    </tr>\n",
              "    <tr>\n",
              "      <th>3</th>\n",
              "      <td>2015-01-07</td>\n",
              "      <td>16.559999</td>\n",
              "      <td>9.69</td>\n",
              "      <td>37.389999</td>\n",
              "      <td>8.450000</td>\n",
              "      <td>23.480000</td>\n",
              "      <td>48.150002</td>\n",
              "    </tr>\n",
              "    <tr>\n",
              "      <th>4</th>\n",
              "      <td>2015-01-08</td>\n",
              "      <td>16.540001</td>\n",
              "      <td>9.66</td>\n",
              "      <td>38.910000</td>\n",
              "      <td>9.020000</td>\n",
              "      <td>23.559999</td>\n",
              "      <td>48.509998</td>\n",
              "    </tr>\n",
              "    <tr>\n",
              "      <th>...</th>\n",
              "      <td>...</td>\n",
              "      <td>...</td>\n",
              "      <td>...</td>\n",
              "      <td>...</td>\n",
              "      <td>...</td>\n",
              "      <td>...</td>\n",
              "      <td>...</td>\n",
              "    </tr>\n",
              "    <tr>\n",
              "      <th>1441</th>\n",
              "      <td>2020-10-27</td>\n",
              "      <td>13.720000</td>\n",
              "      <td>14.00</td>\n",
              "      <td>43.480000</td>\n",
              "      <td>19.860001</td>\n",
              "      <td>32.779999</td>\n",
              "      <td>95.800003</td>\n",
              "    </tr>\n",
              "    <tr>\n",
              "      <th>1442</th>\n",
              "      <td>2020-10-28</td>\n",
              "      <td>13.370000</td>\n",
              "      <td>12.97</td>\n",
              "      <td>42.610001</td>\n",
              "      <td>18.639999</td>\n",
              "      <td>31.139999</td>\n",
              "      <td>92.430000</td>\n",
              "    </tr>\n",
              "    <tr>\n",
              "      <th>1443</th>\n",
              "      <td>2020-10-29</td>\n",
              "      <td>12.890000</td>\n",
              "      <td>12.84</td>\n",
              "      <td>42.250000</td>\n",
              "      <td>19.330000</td>\n",
              "      <td>30.959999</td>\n",
              "      <td>92.910004</td>\n",
              "    </tr>\n",
              "    <tr>\n",
              "      <th>1444</th>\n",
              "      <td>2020-10-30</td>\n",
              "      <td>12.180000</td>\n",
              "      <td>12.61</td>\n",
              "      <td>42.669998</td>\n",
              "      <td>19.000000</td>\n",
              "      <td>29.799999</td>\n",
              "      <td>90.660004</td>\n",
              "    </tr>\n",
              "    <tr>\n",
              "      <th>1445</th>\n",
              "      <td>2020-11-03</td>\n",
              "      <td>12.670000</td>\n",
              "      <td>12.51</td>\n",
              "      <td>42.779999</td>\n",
              "      <td>19.690001</td>\n",
              "      <td>30.120001</td>\n",
              "      <td>92.269997</td>\n",
              "    </tr>\n",
              "  </tbody>\n",
              "</table>\n",
              "<p>1446 rows × 7 columns</p>\n",
              "</div>"
            ],
            "text/plain": [
              "            Date      AMBEV  ODONTOPREV  ...  PETROBRAS    BBRASIL       BOVA\n",
              "0     2015-01-02  16.020000        9.37  ...   9.000000  22.650000  47.259998\n",
              "1     2015-01-05  15.730000        9.62  ...   8.270000  22.180000  46.320000\n",
              "2     2015-01-06  16.330000        9.55  ...   8.060000  22.490000  46.580002\n",
              "3     2015-01-07  16.559999        9.69  ...   8.450000  23.480000  48.150002\n",
              "4     2015-01-08  16.540001        9.66  ...   9.020000  23.559999  48.509998\n",
              "...          ...        ...         ...  ...        ...        ...        ...\n",
              "1441  2020-10-27  13.720000       14.00  ...  19.860001  32.779999  95.800003\n",
              "1442  2020-10-28  13.370000       12.97  ...  18.639999  31.139999  92.430000\n",
              "1443  2020-10-29  12.890000       12.84  ...  19.330000  30.959999  92.910004\n",
              "1444  2020-10-30  12.180000       12.61  ...  19.000000  29.799999  90.660004\n",
              "1445  2020-11-03  12.670000       12.51  ...  19.690001  30.120001  92.269997\n",
              "\n",
              "[1446 rows x 7 columns]"
            ]
          },
          "metadata": {
            "tags": []
          },
          "execution_count": 133
        }
      ]
    },
    {
      "cell_type": "code",
      "metadata": {
        "colab": {
          "base_uri": "https://localhost:8080/",
          "height": 228
        },
        "id": "w6nJw2ETqKGQ",
        "outputId": "780a9775-1e42-41e6-8b0e-75c1de73b286"
      },
      "source": [
        "dataset.drop(labels=['Date'], axis = 1, inplace = True)\n",
        "dataset.head()"
      ],
      "execution_count": null,
      "outputs": [
        {
          "output_type": "execute_result",
          "data": {
            "text/html": [
              "<div>\n",
              "<style scoped>\n",
              "    .dataframe tbody tr th:only-of-type {\n",
              "        vertical-align: middle;\n",
              "    }\n",
              "\n",
              "    .dataframe tbody tr th {\n",
              "        vertical-align: top;\n",
              "    }\n",
              "\n",
              "    .dataframe thead th {\n",
              "        text-align: right;\n",
              "    }\n",
              "</style>\n",
              "<table border=\"1\" class=\"dataframe\">\n",
              "  <thead>\n",
              "    <tr style=\"text-align: right;\">\n",
              "      <th></th>\n",
              "      <th>AMBEV</th>\n",
              "      <th>ODONTOPREV</th>\n",
              "      <th>VIVO</th>\n",
              "      <th>PETROBRAS</th>\n",
              "      <th>BBRASIL</th>\n",
              "      <th>BOVA</th>\n",
              "    </tr>\n",
              "  </thead>\n",
              "  <tbody>\n",
              "    <tr>\n",
              "      <th>0</th>\n",
              "      <td>16.020000</td>\n",
              "      <td>9.37</td>\n",
              "      <td>37.820000</td>\n",
              "      <td>9.00</td>\n",
              "      <td>22.650000</td>\n",
              "      <td>47.259998</td>\n",
              "    </tr>\n",
              "    <tr>\n",
              "      <th>1</th>\n",
              "      <td>15.730000</td>\n",
              "      <td>9.62</td>\n",
              "      <td>37.070000</td>\n",
              "      <td>8.27</td>\n",
              "      <td>22.180000</td>\n",
              "      <td>46.320000</td>\n",
              "    </tr>\n",
              "    <tr>\n",
              "      <th>2</th>\n",
              "      <td>16.330000</td>\n",
              "      <td>9.55</td>\n",
              "      <td>36.150002</td>\n",
              "      <td>8.06</td>\n",
              "      <td>22.490000</td>\n",
              "      <td>46.580002</td>\n",
              "    </tr>\n",
              "    <tr>\n",
              "      <th>3</th>\n",
              "      <td>16.559999</td>\n",
              "      <td>9.69</td>\n",
              "      <td>37.389999</td>\n",
              "      <td>8.45</td>\n",
              "      <td>23.480000</td>\n",
              "      <td>48.150002</td>\n",
              "    </tr>\n",
              "    <tr>\n",
              "      <th>4</th>\n",
              "      <td>16.540001</td>\n",
              "      <td>9.66</td>\n",
              "      <td>38.910000</td>\n",
              "      <td>9.02</td>\n",
              "      <td>23.559999</td>\n",
              "      <td>48.509998</td>\n",
              "    </tr>\n",
              "  </tbody>\n",
              "</table>\n",
              "</div>"
            ],
            "text/plain": [
              "       AMBEV  ODONTOPREV       VIVO  PETROBRAS    BBRASIL       BOVA\n",
              "0  16.020000        9.37  37.820000       9.00  22.650000  47.259998\n",
              "1  15.730000        9.62  37.070000       8.27  22.180000  46.320000\n",
              "2  16.330000        9.55  36.150002       8.06  22.490000  46.580002\n",
              "3  16.559999        9.69  37.389999       8.45  23.480000  48.150002\n",
              "4  16.540001        9.66  38.910000       9.02  23.559999  48.509998"
            ]
          },
          "metadata": {
            "tags": []
          },
          "execution_count": 134
        }
      ]
    },
    {
      "cell_type": "code",
      "metadata": {
        "colab": {
          "base_uri": "https://localhost:8080/",
          "height": 447
        },
        "id": "gKxOPCrxrDPs",
        "outputId": "c889bdb9-43ce-4174-ec84-438559207d72"
      },
      "source": [
        "taxas_retorno = (dataset / dataset.shift(1)) - 1\n",
        "taxas_retorno"
      ],
      "execution_count": null,
      "outputs": [
        {
          "output_type": "execute_result",
          "data": {
            "text/html": [
              "<div>\n",
              "<style scoped>\n",
              "    .dataframe tbody tr th:only-of-type {\n",
              "        vertical-align: middle;\n",
              "    }\n",
              "\n",
              "    .dataframe tbody tr th {\n",
              "        vertical-align: top;\n",
              "    }\n",
              "\n",
              "    .dataframe thead th {\n",
              "        text-align: right;\n",
              "    }\n",
              "</style>\n",
              "<table border=\"1\" class=\"dataframe\">\n",
              "  <thead>\n",
              "    <tr style=\"text-align: right;\">\n",
              "      <th></th>\n",
              "      <th>AMBEV</th>\n",
              "      <th>ODONTOPREV</th>\n",
              "      <th>VIVO</th>\n",
              "      <th>PETROBRAS</th>\n",
              "      <th>BBRASIL</th>\n",
              "      <th>BOVA</th>\n",
              "    </tr>\n",
              "  </thead>\n",
              "  <tbody>\n",
              "    <tr>\n",
              "      <th>0</th>\n",
              "      <td>NaN</td>\n",
              "      <td>NaN</td>\n",
              "      <td>NaN</td>\n",
              "      <td>NaN</td>\n",
              "      <td>NaN</td>\n",
              "      <td>NaN</td>\n",
              "    </tr>\n",
              "    <tr>\n",
              "      <th>1</th>\n",
              "      <td>-0.018102</td>\n",
              "      <td>0.026681</td>\n",
              "      <td>-0.019831</td>\n",
              "      <td>-0.081111</td>\n",
              "      <td>-0.020751</td>\n",
              "      <td>-0.019890</td>\n",
              "    </tr>\n",
              "    <tr>\n",
              "      <th>2</th>\n",
              "      <td>0.038144</td>\n",
              "      <td>-0.007276</td>\n",
              "      <td>-0.024818</td>\n",
              "      <td>-0.025393</td>\n",
              "      <td>0.013977</td>\n",
              "      <td>0.005613</td>\n",
              "    </tr>\n",
              "    <tr>\n",
              "      <th>3</th>\n",
              "      <td>0.014084</td>\n",
              "      <td>0.014660</td>\n",
              "      <td>0.034301</td>\n",
              "      <td>0.048387</td>\n",
              "      <td>0.044020</td>\n",
              "      <td>0.033705</td>\n",
              "    </tr>\n",
              "    <tr>\n",
              "      <th>4</th>\n",
              "      <td>-0.001208</td>\n",
              "      <td>-0.003096</td>\n",
              "      <td>0.040653</td>\n",
              "      <td>0.067456</td>\n",
              "      <td>0.003407</td>\n",
              "      <td>0.007477</td>\n",
              "    </tr>\n",
              "    <tr>\n",
              "      <th>...</th>\n",
              "      <td>...</td>\n",
              "      <td>...</td>\n",
              "      <td>...</td>\n",
              "      <td>...</td>\n",
              "      <td>...</td>\n",
              "      <td>...</td>\n",
              "    </tr>\n",
              "    <tr>\n",
              "      <th>1441</th>\n",
              "      <td>-0.033803</td>\n",
              "      <td>0.031688</td>\n",
              "      <td>-0.019174</td>\n",
              "      <td>-0.016832</td>\n",
              "      <td>-0.021493</td>\n",
              "      <td>-0.010024</td>\n",
              "    </tr>\n",
              "    <tr>\n",
              "      <th>1442</th>\n",
              "      <td>-0.025510</td>\n",
              "      <td>-0.073571</td>\n",
              "      <td>-0.020009</td>\n",
              "      <td>-0.061430</td>\n",
              "      <td>-0.050030</td>\n",
              "      <td>-0.035177</td>\n",
              "    </tr>\n",
              "    <tr>\n",
              "      <th>1443</th>\n",
              "      <td>-0.035901</td>\n",
              "      <td>-0.010023</td>\n",
              "      <td>-0.008449</td>\n",
              "      <td>0.037017</td>\n",
              "      <td>-0.005780</td>\n",
              "      <td>0.005193</td>\n",
              "    </tr>\n",
              "    <tr>\n",
              "      <th>1444</th>\n",
              "      <td>-0.055081</td>\n",
              "      <td>-0.017913</td>\n",
              "      <td>0.009941</td>\n",
              "      <td>-0.017072</td>\n",
              "      <td>-0.037468</td>\n",
              "      <td>-0.024217</td>\n",
              "    </tr>\n",
              "    <tr>\n",
              "      <th>1445</th>\n",
              "      <td>0.040230</td>\n",
              "      <td>-0.007930</td>\n",
              "      <td>0.002578</td>\n",
              "      <td>0.036316</td>\n",
              "      <td>0.010738</td>\n",
              "      <td>0.017759</td>\n",
              "    </tr>\n",
              "  </tbody>\n",
              "</table>\n",
              "<p>1446 rows × 6 columns</p>\n",
              "</div>"
            ],
            "text/plain": [
              "         AMBEV  ODONTOPREV      VIVO  PETROBRAS   BBRASIL      BOVA\n",
              "0          NaN         NaN       NaN        NaN       NaN       NaN\n",
              "1    -0.018102    0.026681 -0.019831  -0.081111 -0.020751 -0.019890\n",
              "2     0.038144   -0.007276 -0.024818  -0.025393  0.013977  0.005613\n",
              "3     0.014084    0.014660  0.034301   0.048387  0.044020  0.033705\n",
              "4    -0.001208   -0.003096  0.040653   0.067456  0.003407  0.007477\n",
              "...        ...         ...       ...        ...       ...       ...\n",
              "1441 -0.033803    0.031688 -0.019174  -0.016832 -0.021493 -0.010024\n",
              "1442 -0.025510   -0.073571 -0.020009  -0.061430 -0.050030 -0.035177\n",
              "1443 -0.035901   -0.010023 -0.008449   0.037017 -0.005780  0.005193\n",
              "1444 -0.055081   -0.017913  0.009941  -0.017072 -0.037468 -0.024217\n",
              "1445  0.040230   -0.007930  0.002578   0.036316  0.010738  0.017759\n",
              "\n",
              "[1446 rows x 6 columns]"
            ]
          },
          "metadata": {
            "tags": []
          },
          "execution_count": 135
        }
      ]
    },
    {
      "cell_type": "code",
      "metadata": {
        "colab": {
          "base_uri": "https://localhost:8080/",
          "height": 507
        },
        "id": "hsjpcPaSNvG8",
        "outputId": "94c212d8-3fc7-4db4-9290-4980feb9fb36"
      },
      "source": [
        "# Empresas BOVA: http://bvmf.bmfbovespa.com.br/indices/ResumoCarteiraQuadrimestre.aspx?Indice=IBOV&idioma=pt-br\n",
        "plt.figure(figsize=(8,8))\n",
        "sns.heatmap(taxas_retorno.corr(), annot=True);"
      ],
      "execution_count": null,
      "outputs": [
        {
          "output_type": "display_data",
          "data": {
            "image/png": "[encoded data removed]",
            "text/plain": [
              "<Figure size 576x576 with 2 Axes>"
            ]
          },
          "metadata": {
            "tags": [],
            "needs_background": "light"
          }
        }
      ]
    },
    {
      "cell_type": "code",
      "metadata": {
        "colab": {
          "base_uri": "https://localhost:8080/"
        },
        "id": "sq9Ahe4frGqE",
        "outputId": "a66452db-675c-4c9f-b5ba-043114f58313"
      },
      "source": [
        "taxas_retorno.std() * math.sqrt(246) # Anualizado"
      ],
      "execution_count": null,
      "outputs": [
        {
          "output_type": "execute_result",
          "data": {
            "text/plain": [
              "AMBEV         0.270384\n",
              "ODONTOPREV    0.313478\n",
              "VIVO          0.319402\n",
              "PETROBRAS     0.531236\n",
              "BBRASIL       0.470200\n",
              "BOVA          0.271375\n",
              "dtype: float64"
            ]
          },
          "metadata": {
            "tags": []
          },
          "execution_count": 137
        }
      ]
    },
    {
      "cell_type": "code",
      "metadata": {
        "id": "0XHlmb4jrMjn"
      },
      "source": [
        "pesos1 = np.array([0.2, 0.2, 0.2, 0.2, 0.2, 0.0])"
      ],
      "execution_count": null,
      "outputs": []
    },
    {
      "cell_type": "code",
      "metadata": {
        "colab": {
          "base_uri": "https://localhost:8080/"
        },
        "id": "CyzleQy4Qjno",
        "outputId": "b7585ba9-a6a2-42ce-e614-c1ce9624cdf6"
      },
      "source": [
        "variancia_portfolio1 = np.dot(pesos1, np.dot(taxas_retorno.cov() * 246, pesos1))\n",
        "variancia_portfolio1"
      ],
      "execution_count": null,
      "outputs": [
        {
          "output_type": "execute_result",
          "data": {
            "text/plain": [
              "0.07442895380850377"
            ]
          },
          "metadata": {
            "tags": []
          },
          "execution_count": 140
        }
      ]
    },
    {
      "cell_type": "code",
      "metadata": {
        "colab": {
          "base_uri": "https://localhost:8080/"
        },
        "id": "6V2Le03ZrO0e",
        "outputId": "07adf2a2-2f9a-4376-f6a3-6b6477d5bf4e"
      },
      "source": [
        "volatidade_portfolio1 = math.sqrt(np.dot(pesos1, np.dot(taxas_retorno.cov() * 246, pesos1)))\n",
        "volatidade_portfolio1"
      ],
      "execution_count": null,
      "outputs": [
        {
          "output_type": "execute_result",
          "data": {
            "text/plain": [
              "0.2728167036830842"
            ]
          },
          "metadata": {
            "tags": []
          },
          "execution_count": 139
        }
      ]
    },
    {
      "cell_type": "code",
      "metadata": {
        "colab": {
          "base_uri": "https://localhost:8080/"
        },
        "id": "v-Cd9Oj1rgcL",
        "outputId": "4f0d298a-60cc-4a6f-f213-c520a29e1a0f"
      },
      "source": [
        "variancia_acoes1 = (taxas_retorno.var() * 246) * pesos1\n",
        "sub = variancia_acoes1[0] - variancia_acoes1[1] - variancia_acoes1[2] - variancia_acoes1[3] - variancia_acoes1[4] - variancia_acoes1[5]\n",
        "risco_nao_sistematico1 = (variancia_portfolio1 - sub)\n",
        "risco_nao_sistematico1"
      ],
      "execution_count": null,
      "outputs": [
        {
          "output_type": "execute_result",
          "data": {
            "text/plain": [
              "0.20052452591338066"
            ]
          },
          "metadata": {
            "tags": []
          },
          "execution_count": 141
        }
      ]
    },
    {
      "cell_type": "code",
      "metadata": {
        "id": "cYGbYfJOrW9Y"
      },
      "source": [
        "pesos2 = np.array([0.0, 0.0, 0.0, 0.0, 0.0, 1.0])"
      ],
      "execution_count": null,
      "outputs": []
    },
    {
      "cell_type": "code",
      "metadata": {
        "colab": {
          "base_uri": "https://localhost:8080/"
        },
        "id": "-NL-exKcRGAx",
        "outputId": "6e888112-02dc-43b7-f438-4a807c8ea739"
      },
      "source": [
        "variancia_portfolio2 = np.dot(pesos2, np.dot(taxas_retorno.cov() * 246, pesos2))\n",
        "variancia_portfolio2"
      ],
      "execution_count": null,
      "outputs": [
        {
          "output_type": "execute_result",
          "data": {
            "text/plain": [
              "0.07364412049748893"
            ]
          },
          "metadata": {
            "tags": []
          },
          "execution_count": 143
        }
      ]
    },
    {
      "cell_type": "code",
      "metadata": {
        "colab": {
          "base_uri": "https://localhost:8080/"
        },
        "id": "4PBrxmYnraIE",
        "outputId": "30da2f3c-a55a-48bd-d0aa-30d98977d33b"
      },
      "source": [
        "volatidade_portfolio2 = math.sqrt(np.dot(pesos2, np.dot(taxas_retorno.cov() * 246, pesos2)))\n",
        "volatidade_portfolio2"
      ],
      "execution_count": null,
      "outputs": [
        {
          "output_type": "execute_result",
          "data": {
            "text/plain": [
              "0.2713745022980032"
            ]
          },
          "metadata": {
            "tags": []
          },
          "execution_count": 144
        }
      ]
    },
    {
      "cell_type": "code",
      "metadata": {
        "colab": {
          "base_uri": "https://localhost:8080/"
        },
        "id": "kN6M3UXhru9i",
        "outputId": "ec9a60da-75b3-4650-9324-7e52fa1e7ac9"
      },
      "source": [
        "variancia_acoes2 = (taxas_retorno.var() * 246) * pesos2\n",
        "sub = variancia_acoes2[0] - variancia_acoes2[1] - variancia_acoes2[2] - variancia_acoes2[3] - variancia_acoes2[4] - variancia_acoes2[5]\n",
        "risco_nao_sistematico2 = (variancia_portfolio2 - sub)\n",
        "risco_nao_sistematico2"
      ],
      "execution_count": null,
      "outputs": [
        {
          "output_type": "execute_result",
          "data": {
            "text/plain": [
              "0.14728824099497786"
            ]
          },
          "metadata": {
            "tags": []
          },
          "execution_count": 146
        }
      ]
    }
  ]
}