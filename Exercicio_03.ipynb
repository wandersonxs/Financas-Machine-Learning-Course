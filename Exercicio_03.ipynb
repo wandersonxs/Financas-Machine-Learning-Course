{
 "cells": [
  {
   "cell_type": "markdown",
   "metadata": {},
   "source": [
    "Para revisar o conteúdo prático visto até agora, você agora pode resolver dois exercícios. Logo em seguida você pode acessar a aula em vídeo com a solução. Implemente cada exercício utilizando tanto o for quanto o while\n",
    "\n",
    "Ler 5 notas e informar a média"
   ]
  },
  {
   "cell_type": "code",
   "execution_count": 3,
   "metadata": {},
   "outputs": [
    {
     "name": "stdout",
     "output_type": "stream",
     "text": [
      "Média 1 = 6.0\n",
      "Média 2 = 7.0\n",
      "Média 3 = 8.0\n",
      "Média 4 = 5.0\n",
      "Média 5 = 10.0\n",
      "Média Final = 7.2\n"
     ]
    }
   ],
   "source": [
    "mediaTotal = 0.0\n",
    "\n",
    "for i in range(0,5):\n",
    "    media = float(input(\"Entre com sua idade:\"))\n",
    "    print(f\"Média {i + 1} = {media}\")\n",
    "    mediaTotal = mediaTotal + media\n",
    "\n",
    "print(f\"Média Final = {mediaTotal / 5}\")\n"
   ]
  },
  {
   "cell_type": "markdown",
   "metadata": {},
   "source": [
    "Imprimir a tabuada do número 3 (3 x 1 = 1 - 3 x 10 = 30)"
   ]
  },
  {
   "cell_type": "code",
   "execution_count": 5,
   "metadata": {},
   "outputs": [
    {
     "name": "stdout",
     "output_type": "stream",
     "text": [
      "3 x 1 = 3\n",
      "3 x 2 = 6\n",
      "3 x 3 = 9\n",
      "3 x 4 = 12\n",
      "3 x 5 = 15\n",
      "3 x 6 = 18\n",
      "3 x 7 = 21\n",
      "3 x 8 = 24\n",
      "3 x 9 = 27\n",
      "3 x 10 = 30\n"
     ]
    }
   ],
   "source": [
    "count = 1\n",
    "while count <= 10:\n",
    "    print(f\"3 x {count} = {count * 3}\")\n",
    "    count = count + 1"
   ]
  }
 ],
 "metadata": {
  "kernelspec": {
   "display_name": "teste_python",
   "language": "python",
   "name": "python3"
  },
  "language_info": {
   "codemirror_mode": {
    "name": "ipython",
    "version": 3
   },
   "file_extension": ".py",
   "mimetype": "text/x-python",
   "name": "python",
   "nbconvert_exporter": "python",
   "pygments_lexer": "ipython3",
   "version": "3.11.7"
  }
 },
 "nbformat": 4,
 "nbformat_minor": 2
}
