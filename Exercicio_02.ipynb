{
 "cells": [
  {
   "cell_type": "markdown",
   "metadata": {},
   "source": [
    "Leia a idade do usuário e classifique-o em:\n",
    "- Criança – 0 a 12 anos\n",
    "- Adolescente – 13 a 17 anos\n",
    "- Adulto – acima de 18 anos\n",
    "-Se o usuário digitar um número negativo, mostrar a mensagem que a idade é inválida"
   ]
  },
  {
   "cell_type": "code",
   "execution_count": 2,
   "metadata": {
    "ExecuteTime": {
     "end_time": "2024-01-07T21:42:45.121791Z",
     "start_time": "2024-01-07T21:42:39.896548Z"
    }
   },
   "outputs": [
    {
     "name": "stdout",
     "output_type": "stream",
     "text": [
      "Adulto = 46 anos\n"
     ]
    }
   ],
   "source": [
    "idade = int(input(\"Entre com sua idade:\"))\n",
    "\n",
    "if idade < 0:\n",
    "    print(\"Idade inválida\")\n",
    "else:\n",
    "    if idade >= 0 and idade <=12:\n",
    "        print(f'Criança = {idade} anos')\n",
    "    if idade >= 13 and idade <=17:\n",
    "        print(f'Adolescente = {idade} anos')\n",
    "    else:\n",
    "        if idade > 17:\n",
    "            print(f'Adulto = {idade} anos')\n"
   ]
  },
  {
   "cell_type": "markdown",
   "metadata": {},
   "source": [
    "Calcular a média de um aluno que cursou a disciplina de Programação I, a partir da leitura das notas M1, M2 e M3; passando por um cálculo da média aritmética. Após a média calculada, devemos anunciar se o aluno foi aprovado, reprovado ou pegou exame\n",
    "- Se a média estiver entre 0.0 e 4.0, o aluno está reprovado\n",
    "- Se a média estiver entre 4.1 e 6.0, o aluno pegou exame\n",
    "- Se a média for maior do que 6.0, o aluno está aprovado\n",
    "- Se o aluno pegou exame, deve ser lida a nota do exame. Se a nota do exame for maior do que 6.0, está aprovado, senão; está reprovado"
   ]
  },
  {
   "cell_type": "code",
   "execution_count": 18,
   "metadata": {},
   "outputs": [
    {
     "name": "stdout",
     "output_type": "stream",
     "text": [
      "Reprovado: Média Final = 2.0\n"
     ]
    }
   ],
   "source": [
    "media1 = float(input(\"Média 1\"))\n",
    "media2 = float(input(\"Média 2\"))\n",
    "media3 = float(input(\"Média 3\"))\n",
    "\n",
    "mediaTotal = (media1 + media2 + media3) / 3\n",
    "\n",
    "if mediaTotal > 0.0 and mediaTotal < 4.0:\n",
    "    print(f\"Reprovado: Média Final = {mediaTotal}\")\n",
    "else:\n",
    "    if mediaTotal >= 4.1 and mediaTotal <= 6.0:\n",
    "        \n",
    "        print(f'Exame: Média Final = {mediaTotal}')\n",
    "        \n",
    "        notaExame = float(input(\"Nota exame\"))\n",
    "\n",
    "        if notaExame > 6.0 :\n",
    "            print(f'Aprovado = {notaExame}')\n",
    "        else:\n",
    "            print(f'Reprovado = {notaExame}')\n",
    "\n",
    "    if mediaTotal > 6.0:\n",
    "        print(f'Aprovado = {mediaTotal}')\n"
   ]
  }
 ],
 "metadata": {
  "kernelspec": {
   "display_name": "teste_python",
   "language": "python",
   "name": "python3"
  },
  "language_info": {
   "codemirror_mode": {
    "name": "ipython",
    "version": 3
   },
   "file_extension": ".py",
   "mimetype": "text/x-python",
   "name": "python",
   "nbconvert_exporter": "python",
   "pygments_lexer": "ipython3",
   "version": "3.11.7"
  }
 },
 "nbformat": 4,
 "nbformat_minor": 2
}
