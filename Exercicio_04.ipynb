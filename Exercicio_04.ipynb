{
 "cells": [
  {
   "cell_type": "code",
   "execution_count": null,
   "id": "initial_id",
   "metadata": {
    "collapsed": true
   },
   "outputs": [],
   "source": [
    "Lista: Crie uma estrutura de repetição para fazer a leitura de 5 números inteiros e os armazene dentro de uma lista. Após a leitura, crie outra estrutura de repetição para somar todos os valores digitados"
   ]
  },
  {
   "cell_type": "markdown",
   "source": [],
   "metadata": {
    "collapsed": false
   },
   "id": "a7237ee70dab435d"
  },
  {
   "cell_type": "code",
   "outputs": [
    {
     "name": "stdout",
     "output_type": "stream",
     "text": [
      "0\n",
      "Valor total é : 61\n"
     ]
    }
   ],
   "source": [
    "lista = []\n",
    "print(len(lista))\n",
    "for _ in  range(0,5):\n",
    "    num = int(input('Digite um número'))\n",
    "    lista.append(num)\n",
    "\n",
    "total = 0\n",
    "for valor in lista:\n",
    "    total = total + valor\n",
    "    \n",
    "print(\"Valor total é : {}\".format(total))"
   ],
   "metadata": {
    "collapsed": false,
    "ExecuteTime": {
     "end_time": "2024-01-07T22:17:39.138579Z",
     "start_time": "2024-01-07T22:17:27.567362Z"
    }
   },
   "id": "cd874137abbf11e1",
   "execution_count": 21
  },
  {
   "cell_type": "markdown",
   "source": [
    "Dicionário: Crie um dicionário para armazenar o nome e a nota de 3 alunos, fazendo a leitura dos valores por meio de uma estrutura de repetição. Depois, crie uma nova estrutura de repetição para somar todas as notas e retornar a média\n",
    "\n"
   ],
   "metadata": {
    "collapsed": false
   },
   "id": "94add40486a90de4"
  },
  {
   "cell_type": "code",
   "outputs": [
    {
     "name": "stdout",
     "output_type": "stream",
     "text": [
      "Media total é : 10.0\n"
     ]
    }
   ],
   "source": [
    "dicionario = dict()\n",
    "\n",
    "for _ in  range(0,3):\n",
    "    nome = input('Digite o nome do Aluno')\n",
    "    nota = float(input('Digite a nota'))\n",
    "    dicionario[nome] = nota\n",
    "    \n",
    "mediaTotal = 0.0\n",
    "\n",
    "for key, value in dicionario.items():\n",
    "    mediaTotal += value\n",
    "    \n",
    "print(\"Media total é : {}\".format(mediaTotal/3))\n",
    "    \n",
    "    \n",
    "    "
   ],
   "metadata": {
    "collapsed": false,
    "ExecuteTime": {
     "end_time": "2024-01-07T22:08:13.285920Z",
     "start_time": "2024-01-07T22:08:04.694345Z"
    }
   },
   "id": "54658ca3f37f999",
   "execution_count": 6
  },
  {
   "cell_type": "markdown",
   "source": [
    "Matriz: Dada a matriz abaixo, construa uma estrutura de repetição para percorrer e somar todos os elementos da matriz\n",
    "matriz = np.array([[3, 4, 1],\n",
    "                   [3, 1, 5]])"
   ],
   "metadata": {
    "collapsed": false
   },
   "id": "b3d31596e41fc0c0"
  },
  {
   "cell_type": "markdown",
   "source": [],
   "metadata": {
    "collapsed": false
   },
   "id": "4a2030bceb902a37"
  },
  {
   "cell_type": "code",
   "outputs": [
    {
     "name": "stdout",
     "output_type": "stream",
     "text": [
      "Valor total: 17\n"
     ]
    }
   ],
   "source": [
    "import numpy as np\n",
    "matriz = np.array([[3, 4, 1],\n",
    "                  [3, 1, 5]])\n",
    "\n",
    "valorTotal = 0\n",
    "\n",
    "for linha in range(matriz.shape[0]):\n",
    "    for coluna in range(matriz.shape[1]):\n",
    "        valorTotal += matriz[linha][coluna]\n",
    "        \n",
    "print(\"Valor total: {}\".format(valorTotal))"
   ],
   "metadata": {
    "collapsed": false,
    "ExecuteTime": {
     "end_time": "2024-01-07T22:14:25.649845Z",
     "start_time": "2024-01-07T22:14:25.647299Z"
    }
   },
   "id": "9d00b28537a61e9f",
   "execution_count": 15
  }
 ],
 "metadata": {
  "kernelspec": {
   "display_name": "Python 3",
   "language": "python",
   "name": "python3"
  },
  "language_info": {
   "codemirror_mode": {
    "name": "ipython",
    "version": 2
   },
   "file_extension": ".py",
   "mimetype": "text/x-python",
   "name": "python",
   "nbconvert_exporter": "python",
   "pygments_lexer": "ipython2",
   "version": "2.7.6"
  }
 },
 "nbformat": 4,
 "nbformat_minor": 5
}
